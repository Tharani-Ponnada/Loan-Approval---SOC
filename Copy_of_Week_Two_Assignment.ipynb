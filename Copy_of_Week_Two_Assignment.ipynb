{
  "nbformat": 4,
  "nbformat_minor": 0,
  "metadata": {
    "colab": {
      "name": "Copy of  Week_Two_Assignment",
      "provenance": [],
      "collapsed_sections": []
    },
    "kernelspec": {
      "name": "python3",
      "display_name": "Python 3"
    },
    "language_info": {
      "name": "python"
    }
  },
  "cells": [
    {
      "cell_type": "markdown",
      "source": [
        "Get th dataset from\n",
        "https://www.kaggle.com/datasets/sootersaalu/amazon-top-50-bestselling-books-2009-2019"
      ],
      "metadata": {
        "id": "FnNje2toXe39"
      }
    },
    {
      "cell_type": "code",
      "execution_count": 1,
      "metadata": {
        "id": "iEOqXOT8W75k"
      },
      "outputs": [],
      "source": [
        "import numpy as np\n",
        "import pandas as pd\n",
        "import matplotlib.pyplot as plt"
      ]
    },
    {
      "cell_type": "markdown",
      "source": [
        "### Convert file into pandas dataframe"
      ],
      "metadata": {
        "id": "BYlpVNMmjABK"
      }
    },
    {
      "cell_type": "code",
      "source": [
        "df = pd.read_csv(\"bestsellers with categories.csv\")\n",
        "print(df)"
      ],
      "metadata": {
        "id": "z2KFeOdeX-Qa",
        "colab": {
          "base_uri": "https://localhost:8080/"
        },
        "outputId": "7d4579d1-44d3-4c78-ccc3-6303c201b523"
      },
      "execution_count": 3,
      "outputs": [
        {
          "output_type": "stream",
          "name": "stdout",
          "text": [
            "                                                  Name  \\\n",
            "0                        10-Day Green Smoothie Cleanse   \n",
            "1                                    11/22/63: A Novel   \n",
            "2              12 Rules for Life: An Antidote to Chaos   \n",
            "3                               1984 (Signet Classics)   \n",
            "4    5,000 Awesome Facts (About Everything!) (Natio...   \n",
            "..                                                 ...   \n",
            "545       Wrecking Ball (Diary of a Wimpy Kid Book 14)   \n",
            "546  You Are a Badass: How to Stop Doubting Your Gr...   \n",
            "547  You Are a Badass: How to Stop Doubting Your Gr...   \n",
            "548  You Are a Badass: How to Stop Doubting Your Gr...   \n",
            "549  You Are a Badass: How to Stop Doubting Your Gr...   \n",
            "\n",
            "                       Author  User Rating  Reviews  Price  Year        Genre  \n",
            "0                    JJ Smith          4.7    17350      8  2016  Non Fiction  \n",
            "1                Stephen King          4.6     2052     22  2011      Fiction  \n",
            "2          Jordan B. Peterson          4.7    18979     15  2018  Non Fiction  \n",
            "3               George Orwell          4.7    21424      6  2017      Fiction  \n",
            "4    National Geographic Kids          4.8     7665     12  2019  Non Fiction  \n",
            "..                        ...          ...      ...    ...   ...          ...  \n",
            "545               Jeff Kinney          4.9     9413      8  2019      Fiction  \n",
            "546               Jen Sincero          4.7    14331      8  2016  Non Fiction  \n",
            "547               Jen Sincero          4.7    14331      8  2017  Non Fiction  \n",
            "548               Jen Sincero          4.7    14331      8  2018  Non Fiction  \n",
            "549               Jen Sincero          4.7    14331      8  2019  Non Fiction  \n",
            "\n",
            "[550 rows x 7 columns]\n"
          ]
        }
      ]
    },
    {
      "cell_type": "markdown",
      "source": [
        "### Print *first* 5 rows of dataframe"
      ],
      "metadata": {
        "id": "xa46khSFjGA_"
      }
    },
    {
      "cell_type": "code",
      "source": [
        "df1=df.head(5)\n",
        "print(df1)"
      ],
      "metadata": {
        "id": "dXtPp1yhbR1k",
        "colab": {
          "base_uri": "https://localhost:8080/"
        },
        "outputId": "2f020a95-3569-4a59-a1f4-6276554f8bfc"
      },
      "execution_count": 4,
      "outputs": [
        {
          "output_type": "stream",
          "name": "stdout",
          "text": [
            "                                                Name  \\\n",
            "0                      10-Day Green Smoothie Cleanse   \n",
            "1                                  11/22/63: A Novel   \n",
            "2            12 Rules for Life: An Antidote to Chaos   \n",
            "3                             1984 (Signet Classics)   \n",
            "4  5,000 Awesome Facts (About Everything!) (Natio...   \n",
            "\n",
            "                     Author  User Rating  Reviews  Price  Year        Genre  \n",
            "0                  JJ Smith          4.7    17350      8  2016  Non Fiction  \n",
            "1              Stephen King          4.6     2052     22  2011      Fiction  \n",
            "2        Jordan B. Peterson          4.7    18979     15  2018  Non Fiction  \n",
            "3             George Orwell          4.7    21424      6  2017      Fiction  \n",
            "4  National Geographic Kids          4.8     7665     12  2019  Non Fiction  \n"
          ]
        }
      ]
    },
    {
      "cell_type": "markdown",
      "source": [
        " ### Print the number of rows.<br>Print the number of columns <br> Print the datatype of each variable."
      ],
      "metadata": {
        "id": "XW-n43O8j1IM"
      }
    },
    {
      "cell_type": "code",
      "source": [
        "df.info()"
      ],
      "metadata": {
        "id": "EAZwuQlIi8P3",
        "colab": {
          "base_uri": "https://localhost:8080/"
        },
        "outputId": "8648c29e-44e3-46bc-f1aa-c4e98b28c909"
      },
      "execution_count": 5,
      "outputs": [
        {
          "output_type": "stream",
          "name": "stdout",
          "text": [
            "<class 'pandas.core.frame.DataFrame'>\n",
            "RangeIndex: 550 entries, 0 to 549\n",
            "Data columns (total 7 columns):\n",
            " #   Column       Non-Null Count  Dtype  \n",
            "---  ------       --------------  -----  \n",
            " 0   Name         550 non-null    object \n",
            " 1   Author       550 non-null    object \n",
            " 2   User Rating  550 non-null    float64\n",
            " 3   Reviews      550 non-null    int64  \n",
            " 4   Price        550 non-null    int64  \n",
            " 5   Year         550 non-null    int64  \n",
            " 6   Genre        550 non-null    object \n",
            "dtypes: float64(1), int64(3), object(3)\n",
            "memory usage: 30.2+ KB\n"
          ]
        }
      ]
    },
    {
      "cell_type": "markdown",
      "source": [
        "### For each variable, print the number of unique values.<br>For each variable, display the number of missing entries."
      ],
      "metadata": {
        "id": "8el8X8XfkKCa"
      }
    },
    {
      "cell_type": "code",
      "source": [
        "df.nunique()"
      ],
      "metadata": {
        "colab": {
          "base_uri": "https://localhost:8080/"
        },
        "id": "PiI4pEYB_u9G",
        "outputId": "efb3fe98-018f-4206-d5b9-fac4c939e3c8"
      },
      "execution_count": 6,
      "outputs": [
        {
          "output_type": "execute_result",
          "data": {
            "text/plain": [
              "Name           351\n",
              "Author         248\n",
              "User Rating     14\n",
              "Reviews        346\n",
              "Price           40\n",
              "Year            11\n",
              "Genre            2\n",
              "dtype: int64"
            ]
          },
          "metadata": {},
          "execution_count": 6
        }
      ]
    },
    {
      "cell_type": "code",
      "source": [
        "df.isnull() #False implies there is no missing value"
      ],
      "metadata": {
        "id": "EU6UJlwW-s2H",
        "colab": {
          "base_uri": "https://localhost:8080/",
          "height": 424
        },
        "outputId": "c007c6bb-f345-4c15-9cc8-955de07cd860"
      },
      "execution_count": 7,
      "outputs": [
        {
          "output_type": "execute_result",
          "data": {
            "text/plain": [
              "      Name  Author  User Rating  Reviews  Price   Year  Genre\n",
              "0    False   False        False    False  False  False  False\n",
              "1    False   False        False    False  False  False  False\n",
              "2    False   False        False    False  False  False  False\n",
              "3    False   False        False    False  False  False  False\n",
              "4    False   False        False    False  False  False  False\n",
              "..     ...     ...          ...      ...    ...    ...    ...\n",
              "545  False   False        False    False  False  False  False\n",
              "546  False   False        False    False  False  False  False\n",
              "547  False   False        False    False  False  False  False\n",
              "548  False   False        False    False  False  False  False\n",
              "549  False   False        False    False  False  False  False\n",
              "\n",
              "[550 rows x 7 columns]"
            ],
            "text/html": [
              "\n",
              "  <div id=\"df-a9b653d6-55a8-4d44-8734-9ba7bb2c6ace\">\n",
              "    <div class=\"colab-df-container\">\n",
              "      <div>\n",
              "<style scoped>\n",
              "    .dataframe tbody tr th:only-of-type {\n",
              "        vertical-align: middle;\n",
              "    }\n",
              "\n",
              "    .dataframe tbody tr th {\n",
              "        vertical-align: top;\n",
              "    }\n",
              "\n",
              "    .dataframe thead th {\n",
              "        text-align: right;\n",
              "    }\n",
              "</style>\n",
              "<table border=\"1\" class=\"dataframe\">\n",
              "  <thead>\n",
              "    <tr style=\"text-align: right;\">\n",
              "      <th></th>\n",
              "      <th>Name</th>\n",
              "      <th>Author</th>\n",
              "      <th>User Rating</th>\n",
              "      <th>Reviews</th>\n",
              "      <th>Price</th>\n",
              "      <th>Year</th>\n",
              "      <th>Genre</th>\n",
              "    </tr>\n",
              "  </thead>\n",
              "  <tbody>\n",
              "    <tr>\n",
              "      <th>0</th>\n",
              "      <td>False</td>\n",
              "      <td>False</td>\n",
              "      <td>False</td>\n",
              "      <td>False</td>\n",
              "      <td>False</td>\n",
              "      <td>False</td>\n",
              "      <td>False</td>\n",
              "    </tr>\n",
              "    <tr>\n",
              "      <th>1</th>\n",
              "      <td>False</td>\n",
              "      <td>False</td>\n",
              "      <td>False</td>\n",
              "      <td>False</td>\n",
              "      <td>False</td>\n",
              "      <td>False</td>\n",
              "      <td>False</td>\n",
              "    </tr>\n",
              "    <tr>\n",
              "      <th>2</th>\n",
              "      <td>False</td>\n",
              "      <td>False</td>\n",
              "      <td>False</td>\n",
              "      <td>False</td>\n",
              "      <td>False</td>\n",
              "      <td>False</td>\n",
              "      <td>False</td>\n",
              "    </tr>\n",
              "    <tr>\n",
              "      <th>3</th>\n",
              "      <td>False</td>\n",
              "      <td>False</td>\n",
              "      <td>False</td>\n",
              "      <td>False</td>\n",
              "      <td>False</td>\n",
              "      <td>False</td>\n",
              "      <td>False</td>\n",
              "    </tr>\n",
              "    <tr>\n",
              "      <th>4</th>\n",
              "      <td>False</td>\n",
              "      <td>False</td>\n",
              "      <td>False</td>\n",
              "      <td>False</td>\n",
              "      <td>False</td>\n",
              "      <td>False</td>\n",
              "      <td>False</td>\n",
              "    </tr>\n",
              "    <tr>\n",
              "      <th>...</th>\n",
              "      <td>...</td>\n",
              "      <td>...</td>\n",
              "      <td>...</td>\n",
              "      <td>...</td>\n",
              "      <td>...</td>\n",
              "      <td>...</td>\n",
              "      <td>...</td>\n",
              "    </tr>\n",
              "    <tr>\n",
              "      <th>545</th>\n",
              "      <td>False</td>\n",
              "      <td>False</td>\n",
              "      <td>False</td>\n",
              "      <td>False</td>\n",
              "      <td>False</td>\n",
              "      <td>False</td>\n",
              "      <td>False</td>\n",
              "    </tr>\n",
              "    <tr>\n",
              "      <th>546</th>\n",
              "      <td>False</td>\n",
              "      <td>False</td>\n",
              "      <td>False</td>\n",
              "      <td>False</td>\n",
              "      <td>False</td>\n",
              "      <td>False</td>\n",
              "      <td>False</td>\n",
              "    </tr>\n",
              "    <tr>\n",
              "      <th>547</th>\n",
              "      <td>False</td>\n",
              "      <td>False</td>\n",
              "      <td>False</td>\n",
              "      <td>False</td>\n",
              "      <td>False</td>\n",
              "      <td>False</td>\n",
              "      <td>False</td>\n",
              "    </tr>\n",
              "    <tr>\n",
              "      <th>548</th>\n",
              "      <td>False</td>\n",
              "      <td>False</td>\n",
              "      <td>False</td>\n",
              "      <td>False</td>\n",
              "      <td>False</td>\n",
              "      <td>False</td>\n",
              "      <td>False</td>\n",
              "    </tr>\n",
              "    <tr>\n",
              "      <th>549</th>\n",
              "      <td>False</td>\n",
              "      <td>False</td>\n",
              "      <td>False</td>\n",
              "      <td>False</td>\n",
              "      <td>False</td>\n",
              "      <td>False</td>\n",
              "      <td>False</td>\n",
              "    </tr>\n",
              "  </tbody>\n",
              "</table>\n",
              "<p>550 rows × 7 columns</p>\n",
              "</div>\n",
              "      <button class=\"colab-df-convert\" onclick=\"convertToInteractive('df-a9b653d6-55a8-4d44-8734-9ba7bb2c6ace')\"\n",
              "              title=\"Convert this dataframe to an interactive table.\"\n",
              "              style=\"display:none;\">\n",
              "        \n",
              "  <svg xmlns=\"http://www.w3.org/2000/svg\" height=\"24px\"viewBox=\"0 0 24 24\"\n",
              "       width=\"24px\">\n",
              "    <path d=\"M0 0h24v24H0V0z\" fill=\"none\"/>\n",
              "    <path d=\"M18.56 5.44l.94 2.06.94-2.06 2.06-.94-2.06-.94-.94-2.06-.94 2.06-2.06.94zm-11 1L8.5 8.5l.94-2.06 2.06-.94-2.06-.94L8.5 2.5l-.94 2.06-2.06.94zm10 10l.94 2.06.94-2.06 2.06-.94-2.06-.94-.94-2.06-.94 2.06-2.06.94z\"/><path d=\"M17.41 7.96l-1.37-1.37c-.4-.4-.92-.59-1.43-.59-.52 0-1.04.2-1.43.59L10.3 9.45l-7.72 7.72c-.78.78-.78 2.05 0 2.83L4 21.41c.39.39.9.59 1.41.59.51 0 1.02-.2 1.41-.59l7.78-7.78 2.81-2.81c.8-.78.8-2.07 0-2.86zM5.41 20L4 18.59l7.72-7.72 1.47 1.35L5.41 20z\"/>\n",
              "  </svg>\n",
              "      </button>\n",
              "      \n",
              "  <style>\n",
              "    .colab-df-container {\n",
              "      display:flex;\n",
              "      flex-wrap:wrap;\n",
              "      gap: 12px;\n",
              "    }\n",
              "\n",
              "    .colab-df-convert {\n",
              "      background-color: #E8F0FE;\n",
              "      border: none;\n",
              "      border-radius: 50%;\n",
              "      cursor: pointer;\n",
              "      display: none;\n",
              "      fill: #1967D2;\n",
              "      height: 32px;\n",
              "      padding: 0 0 0 0;\n",
              "      width: 32px;\n",
              "    }\n",
              "\n",
              "    .colab-df-convert:hover {\n",
              "      background-color: #E2EBFA;\n",
              "      box-shadow: 0px 1px 2px rgba(60, 64, 67, 0.3), 0px 1px 3px 1px rgba(60, 64, 67, 0.15);\n",
              "      fill: #174EA6;\n",
              "    }\n",
              "\n",
              "    [theme=dark] .colab-df-convert {\n",
              "      background-color: #3B4455;\n",
              "      fill: #D2E3FC;\n",
              "    }\n",
              "\n",
              "    [theme=dark] .colab-df-convert:hover {\n",
              "      background-color: #434B5C;\n",
              "      box-shadow: 0px 1px 3px 1px rgba(0, 0, 0, 0.15);\n",
              "      filter: drop-shadow(0px 1px 2px rgba(0, 0, 0, 0.3));\n",
              "      fill: #FFFFFF;\n",
              "    }\n",
              "  </style>\n",
              "\n",
              "      <script>\n",
              "        const buttonEl =\n",
              "          document.querySelector('#df-a9b653d6-55a8-4d44-8734-9ba7bb2c6ace button.colab-df-convert');\n",
              "        buttonEl.style.display =\n",
              "          google.colab.kernel.accessAllowed ? 'block' : 'none';\n",
              "\n",
              "        async function convertToInteractive(key) {\n",
              "          const element = document.querySelector('#df-a9b653d6-55a8-4d44-8734-9ba7bb2c6ace');\n",
              "          const dataTable =\n",
              "            await google.colab.kernel.invokeFunction('convertToInteractive',\n",
              "                                                     [key], {});\n",
              "          if (!dataTable) return;\n",
              "\n",
              "          const docLinkHtml = 'Like what you see? Visit the ' +\n",
              "            '<a target=\"_blank\" href=https://colab.research.google.com/notebooks/data_table.ipynb>data table notebook</a>'\n",
              "            + ' to learn more about interactive tables.';\n",
              "          element.innerHTML = '';\n",
              "          dataTable['output_type'] = 'display_data';\n",
              "          await google.colab.output.renderOutput(dataTable, element);\n",
              "          const docLink = document.createElement('div');\n",
              "          docLink.innerHTML = docLinkHtml;\n",
              "          element.appendChild(docLink);\n",
              "        }\n",
              "      </script>\n",
              "    </div>\n",
              "  </div>\n",
              "  "
            ]
          },
          "metadata": {},
          "execution_count": 7
        }
      ]
    },
    {
      "cell_type": "markdown",
      "source": [
        "### Print statistical info of each numeric variable.(i.e. mean,meadian,..)"
      ],
      "metadata": {
        "id": "fVrHLAqk21Uf"
      }
    },
    {
      "cell_type": "code",
      "source": [
        "df.describe()"
      ],
      "metadata": {
        "id": "lu0d8VOW-ufr",
        "colab": {
          "base_uri": "https://localhost:8080/",
          "height": 300
        },
        "outputId": "cae99958-54b1-4471-d98b-d2d35e29faa7"
      },
      "execution_count": 8,
      "outputs": [
        {
          "output_type": "execute_result",
          "data": {
            "text/plain": [
              "       User Rating       Reviews       Price         Year\n",
              "count   550.000000    550.000000  550.000000   550.000000\n",
              "mean      4.618364  11953.281818   13.100000  2014.000000\n",
              "std       0.226980  11731.132017   10.842262     3.165156\n",
              "min       3.300000     37.000000    0.000000  2009.000000\n",
              "25%       4.500000   4058.000000    7.000000  2011.000000\n",
              "50%       4.700000   8580.000000   11.000000  2014.000000\n",
              "75%       4.800000  17253.250000   16.000000  2017.000000\n",
              "max       4.900000  87841.000000  105.000000  2019.000000"
            ],
            "text/html": [
              "\n",
              "  <div id=\"df-fd7508cb-165c-42ee-8ad5-cb52d98ce54a\">\n",
              "    <div class=\"colab-df-container\">\n",
              "      <div>\n",
              "<style scoped>\n",
              "    .dataframe tbody tr th:only-of-type {\n",
              "        vertical-align: middle;\n",
              "    }\n",
              "\n",
              "    .dataframe tbody tr th {\n",
              "        vertical-align: top;\n",
              "    }\n",
              "\n",
              "    .dataframe thead th {\n",
              "        text-align: right;\n",
              "    }\n",
              "</style>\n",
              "<table border=\"1\" class=\"dataframe\">\n",
              "  <thead>\n",
              "    <tr style=\"text-align: right;\">\n",
              "      <th></th>\n",
              "      <th>User Rating</th>\n",
              "      <th>Reviews</th>\n",
              "      <th>Price</th>\n",
              "      <th>Year</th>\n",
              "    </tr>\n",
              "  </thead>\n",
              "  <tbody>\n",
              "    <tr>\n",
              "      <th>count</th>\n",
              "      <td>550.000000</td>\n",
              "      <td>550.000000</td>\n",
              "      <td>550.000000</td>\n",
              "      <td>550.000000</td>\n",
              "    </tr>\n",
              "    <tr>\n",
              "      <th>mean</th>\n",
              "      <td>4.618364</td>\n",
              "      <td>11953.281818</td>\n",
              "      <td>13.100000</td>\n",
              "      <td>2014.000000</td>\n",
              "    </tr>\n",
              "    <tr>\n",
              "      <th>std</th>\n",
              "      <td>0.226980</td>\n",
              "      <td>11731.132017</td>\n",
              "      <td>10.842262</td>\n",
              "      <td>3.165156</td>\n",
              "    </tr>\n",
              "    <tr>\n",
              "      <th>min</th>\n",
              "      <td>3.300000</td>\n",
              "      <td>37.000000</td>\n",
              "      <td>0.000000</td>\n",
              "      <td>2009.000000</td>\n",
              "    </tr>\n",
              "    <tr>\n",
              "      <th>25%</th>\n",
              "      <td>4.500000</td>\n",
              "      <td>4058.000000</td>\n",
              "      <td>7.000000</td>\n",
              "      <td>2011.000000</td>\n",
              "    </tr>\n",
              "    <tr>\n",
              "      <th>50%</th>\n",
              "      <td>4.700000</td>\n",
              "      <td>8580.000000</td>\n",
              "      <td>11.000000</td>\n",
              "      <td>2014.000000</td>\n",
              "    </tr>\n",
              "    <tr>\n",
              "      <th>75%</th>\n",
              "      <td>4.800000</td>\n",
              "      <td>17253.250000</td>\n",
              "      <td>16.000000</td>\n",
              "      <td>2017.000000</td>\n",
              "    </tr>\n",
              "    <tr>\n",
              "      <th>max</th>\n",
              "      <td>4.900000</td>\n",
              "      <td>87841.000000</td>\n",
              "      <td>105.000000</td>\n",
              "      <td>2019.000000</td>\n",
              "    </tr>\n",
              "  </tbody>\n",
              "</table>\n",
              "</div>\n",
              "      <button class=\"colab-df-convert\" onclick=\"convertToInteractive('df-fd7508cb-165c-42ee-8ad5-cb52d98ce54a')\"\n",
              "              title=\"Convert this dataframe to an interactive table.\"\n",
              "              style=\"display:none;\">\n",
              "        \n",
              "  <svg xmlns=\"http://www.w3.org/2000/svg\" height=\"24px\"viewBox=\"0 0 24 24\"\n",
              "       width=\"24px\">\n",
              "    <path d=\"M0 0h24v24H0V0z\" fill=\"none\"/>\n",
              "    <path d=\"M18.56 5.44l.94 2.06.94-2.06 2.06-.94-2.06-.94-.94-2.06-.94 2.06-2.06.94zm-11 1L8.5 8.5l.94-2.06 2.06-.94-2.06-.94L8.5 2.5l-.94 2.06-2.06.94zm10 10l.94 2.06.94-2.06 2.06-.94-2.06-.94-.94-2.06-.94 2.06-2.06.94z\"/><path d=\"M17.41 7.96l-1.37-1.37c-.4-.4-.92-.59-1.43-.59-.52 0-1.04.2-1.43.59L10.3 9.45l-7.72 7.72c-.78.78-.78 2.05 0 2.83L4 21.41c.39.39.9.59 1.41.59.51 0 1.02-.2 1.41-.59l7.78-7.78 2.81-2.81c.8-.78.8-2.07 0-2.86zM5.41 20L4 18.59l7.72-7.72 1.47 1.35L5.41 20z\"/>\n",
              "  </svg>\n",
              "      </button>\n",
              "      \n",
              "  <style>\n",
              "    .colab-df-container {\n",
              "      display:flex;\n",
              "      flex-wrap:wrap;\n",
              "      gap: 12px;\n",
              "    }\n",
              "\n",
              "    .colab-df-convert {\n",
              "      background-color: #E8F0FE;\n",
              "      border: none;\n",
              "      border-radius: 50%;\n",
              "      cursor: pointer;\n",
              "      display: none;\n",
              "      fill: #1967D2;\n",
              "      height: 32px;\n",
              "      padding: 0 0 0 0;\n",
              "      width: 32px;\n",
              "    }\n",
              "\n",
              "    .colab-df-convert:hover {\n",
              "      background-color: #E2EBFA;\n",
              "      box-shadow: 0px 1px 2px rgba(60, 64, 67, 0.3), 0px 1px 3px 1px rgba(60, 64, 67, 0.15);\n",
              "      fill: #174EA6;\n",
              "    }\n",
              "\n",
              "    [theme=dark] .colab-df-convert {\n",
              "      background-color: #3B4455;\n",
              "      fill: #D2E3FC;\n",
              "    }\n",
              "\n",
              "    [theme=dark] .colab-df-convert:hover {\n",
              "      background-color: #434B5C;\n",
              "      box-shadow: 0px 1px 3px 1px rgba(0, 0, 0, 0.15);\n",
              "      filter: drop-shadow(0px 1px 2px rgba(0, 0, 0, 0.3));\n",
              "      fill: #FFFFFF;\n",
              "    }\n",
              "  </style>\n",
              "\n",
              "      <script>\n",
              "        const buttonEl =\n",
              "          document.querySelector('#df-fd7508cb-165c-42ee-8ad5-cb52d98ce54a button.colab-df-convert');\n",
              "        buttonEl.style.display =\n",
              "          google.colab.kernel.accessAllowed ? 'block' : 'none';\n",
              "\n",
              "        async function convertToInteractive(key) {\n",
              "          const element = document.querySelector('#df-fd7508cb-165c-42ee-8ad5-cb52d98ce54a');\n",
              "          const dataTable =\n",
              "            await google.colab.kernel.invokeFunction('convertToInteractive',\n",
              "                                                     [key], {});\n",
              "          if (!dataTable) return;\n",
              "\n",
              "          const docLinkHtml = 'Like what you see? Visit the ' +\n",
              "            '<a target=\"_blank\" href=https://colab.research.google.com/notebooks/data_table.ipynb>data table notebook</a>'\n",
              "            + ' to learn more about interactive tables.';\n",
              "          element.innerHTML = '';\n",
              "          dataTable['output_type'] = 'display_data';\n",
              "          await google.colab.output.renderOutput(dataTable, element);\n",
              "          const docLink = document.createElement('div');\n",
              "          docLink.innerHTML = docLinkHtml;\n",
              "          element.appendChild(docLink);\n",
              "        }\n",
              "      </script>\n",
              "    </div>\n",
              "  </div>\n",
              "  "
            ]
          },
          "metadata": {},
          "execution_count": 8
        }
      ]
    },
    {
      "cell_type": "markdown",
      "source": [
        "### Find 20%,40%,60%,80% of variables"
      ],
      "metadata": {
        "id": "acagyNwH7bRs"
      }
    },
    {
      "cell_type": "code",
      "source": [
        "df.describe([.2,.4,.6,.8])"
      ],
      "metadata": {
        "id": "j_GgbSa4-xV2",
        "colab": {
          "base_uri": "https://localhost:8080/",
          "height": 363
        },
        "outputId": "ef9a2b60-5bf9-4405-eebd-8fe06571ed35"
      },
      "execution_count": 10,
      "outputs": [
        {
          "output_type": "execute_result",
          "data": {
            "text/plain": [
              "       User Rating       Reviews       Price         Year\n",
              "count   550.000000    550.000000  550.000000   550.000000\n",
              "mean      4.618364  11953.281818   13.100000  2014.000000\n",
              "std       0.226980  11731.132017   10.842262     3.165156\n",
              "min       3.300000     37.000000    0.000000  2009.000000\n",
              "20%       4.500000   3477.000000    6.000000  2011.000000\n",
              "40%       4.600000   6364.600000    9.000000  2013.000000\n",
              "50%       4.700000   8580.000000   11.000000  2014.000000\n",
              "60%       4.700000  10082.400000   13.000000  2015.000000\n",
              "80%       4.800000  19637.400000   17.000000  2017.000000\n",
              "max       4.900000  87841.000000  105.000000  2019.000000"
            ],
            "text/html": [
              "\n",
              "  <div id=\"df-4d38fff9-8d58-490a-8374-80fc520b18fd\">\n",
              "    <div class=\"colab-df-container\">\n",
              "      <div>\n",
              "<style scoped>\n",
              "    .dataframe tbody tr th:only-of-type {\n",
              "        vertical-align: middle;\n",
              "    }\n",
              "\n",
              "    .dataframe tbody tr th {\n",
              "        vertical-align: top;\n",
              "    }\n",
              "\n",
              "    .dataframe thead th {\n",
              "        text-align: right;\n",
              "    }\n",
              "</style>\n",
              "<table border=\"1\" class=\"dataframe\">\n",
              "  <thead>\n",
              "    <tr style=\"text-align: right;\">\n",
              "      <th></th>\n",
              "      <th>User Rating</th>\n",
              "      <th>Reviews</th>\n",
              "      <th>Price</th>\n",
              "      <th>Year</th>\n",
              "    </tr>\n",
              "  </thead>\n",
              "  <tbody>\n",
              "    <tr>\n",
              "      <th>count</th>\n",
              "      <td>550.000000</td>\n",
              "      <td>550.000000</td>\n",
              "      <td>550.000000</td>\n",
              "      <td>550.000000</td>\n",
              "    </tr>\n",
              "    <tr>\n",
              "      <th>mean</th>\n",
              "      <td>4.618364</td>\n",
              "      <td>11953.281818</td>\n",
              "      <td>13.100000</td>\n",
              "      <td>2014.000000</td>\n",
              "    </tr>\n",
              "    <tr>\n",
              "      <th>std</th>\n",
              "      <td>0.226980</td>\n",
              "      <td>11731.132017</td>\n",
              "      <td>10.842262</td>\n",
              "      <td>3.165156</td>\n",
              "    </tr>\n",
              "    <tr>\n",
              "      <th>min</th>\n",
              "      <td>3.300000</td>\n",
              "      <td>37.000000</td>\n",
              "      <td>0.000000</td>\n",
              "      <td>2009.000000</td>\n",
              "    </tr>\n",
              "    <tr>\n",
              "      <th>20%</th>\n",
              "      <td>4.500000</td>\n",
              "      <td>3477.000000</td>\n",
              "      <td>6.000000</td>\n",
              "      <td>2011.000000</td>\n",
              "    </tr>\n",
              "    <tr>\n",
              "      <th>40%</th>\n",
              "      <td>4.600000</td>\n",
              "      <td>6364.600000</td>\n",
              "      <td>9.000000</td>\n",
              "      <td>2013.000000</td>\n",
              "    </tr>\n",
              "    <tr>\n",
              "      <th>50%</th>\n",
              "      <td>4.700000</td>\n",
              "      <td>8580.000000</td>\n",
              "      <td>11.000000</td>\n",
              "      <td>2014.000000</td>\n",
              "    </tr>\n",
              "    <tr>\n",
              "      <th>60%</th>\n",
              "      <td>4.700000</td>\n",
              "      <td>10082.400000</td>\n",
              "      <td>13.000000</td>\n",
              "      <td>2015.000000</td>\n",
              "    </tr>\n",
              "    <tr>\n",
              "      <th>80%</th>\n",
              "      <td>4.800000</td>\n",
              "      <td>19637.400000</td>\n",
              "      <td>17.000000</td>\n",
              "      <td>2017.000000</td>\n",
              "    </tr>\n",
              "    <tr>\n",
              "      <th>max</th>\n",
              "      <td>4.900000</td>\n",
              "      <td>87841.000000</td>\n",
              "      <td>105.000000</td>\n",
              "      <td>2019.000000</td>\n",
              "    </tr>\n",
              "  </tbody>\n",
              "</table>\n",
              "</div>\n",
              "      <button class=\"colab-df-convert\" onclick=\"convertToInteractive('df-4d38fff9-8d58-490a-8374-80fc520b18fd')\"\n",
              "              title=\"Convert this dataframe to an interactive table.\"\n",
              "              style=\"display:none;\">\n",
              "        \n",
              "  <svg xmlns=\"http://www.w3.org/2000/svg\" height=\"24px\"viewBox=\"0 0 24 24\"\n",
              "       width=\"24px\">\n",
              "    <path d=\"M0 0h24v24H0V0z\" fill=\"none\"/>\n",
              "    <path d=\"M18.56 5.44l.94 2.06.94-2.06 2.06-.94-2.06-.94-.94-2.06-.94 2.06-2.06.94zm-11 1L8.5 8.5l.94-2.06 2.06-.94-2.06-.94L8.5 2.5l-.94 2.06-2.06.94zm10 10l.94 2.06.94-2.06 2.06-.94-2.06-.94-.94-2.06-.94 2.06-2.06.94z\"/><path d=\"M17.41 7.96l-1.37-1.37c-.4-.4-.92-.59-1.43-.59-.52 0-1.04.2-1.43.59L10.3 9.45l-7.72 7.72c-.78.78-.78 2.05 0 2.83L4 21.41c.39.39.9.59 1.41.59.51 0 1.02-.2 1.41-.59l7.78-7.78 2.81-2.81c.8-.78.8-2.07 0-2.86zM5.41 20L4 18.59l7.72-7.72 1.47 1.35L5.41 20z\"/>\n",
              "  </svg>\n",
              "      </button>\n",
              "      \n",
              "  <style>\n",
              "    .colab-df-container {\n",
              "      display:flex;\n",
              "      flex-wrap:wrap;\n",
              "      gap: 12px;\n",
              "    }\n",
              "\n",
              "    .colab-df-convert {\n",
              "      background-color: #E8F0FE;\n",
              "      border: none;\n",
              "      border-radius: 50%;\n",
              "      cursor: pointer;\n",
              "      display: none;\n",
              "      fill: #1967D2;\n",
              "      height: 32px;\n",
              "      padding: 0 0 0 0;\n",
              "      width: 32px;\n",
              "    }\n",
              "\n",
              "    .colab-df-convert:hover {\n",
              "      background-color: #E2EBFA;\n",
              "      box-shadow: 0px 1px 2px rgba(60, 64, 67, 0.3), 0px 1px 3px 1px rgba(60, 64, 67, 0.15);\n",
              "      fill: #174EA6;\n",
              "    }\n",
              "\n",
              "    [theme=dark] .colab-df-convert {\n",
              "      background-color: #3B4455;\n",
              "      fill: #D2E3FC;\n",
              "    }\n",
              "\n",
              "    [theme=dark] .colab-df-convert:hover {\n",
              "      background-color: #434B5C;\n",
              "      box-shadow: 0px 1px 3px 1px rgba(0, 0, 0, 0.15);\n",
              "      filter: drop-shadow(0px 1px 2px rgba(0, 0, 0, 0.3));\n",
              "      fill: #FFFFFF;\n",
              "    }\n",
              "  </style>\n",
              "\n",
              "      <script>\n",
              "        const buttonEl =\n",
              "          document.querySelector('#df-4d38fff9-8d58-490a-8374-80fc520b18fd button.colab-df-convert');\n",
              "        buttonEl.style.display =\n",
              "          google.colab.kernel.accessAllowed ? 'block' : 'none';\n",
              "\n",
              "        async function convertToInteractive(key) {\n",
              "          const element = document.querySelector('#df-4d38fff9-8d58-490a-8374-80fc520b18fd');\n",
              "          const dataTable =\n",
              "            await google.colab.kernel.invokeFunction('convertToInteractive',\n",
              "                                                     [key], {});\n",
              "          if (!dataTable) return;\n",
              "\n",
              "          const docLinkHtml = 'Like what you see? Visit the ' +\n",
              "            '<a target=\"_blank\" href=https://colab.research.google.com/notebooks/data_table.ipynb>data table notebook</a>'\n",
              "            + ' to learn more about interactive tables.';\n",
              "          element.innerHTML = '';\n",
              "          dataTable['output_type'] = 'display_data';\n",
              "          await google.colab.output.renderOutput(dataTable, element);\n",
              "          const docLink = document.createElement('div');\n",
              "          docLink.innerHTML = docLinkHtml;\n",
              "          element.appendChild(docLink);\n",
              "        }\n",
              "      </script>\n",
              "    </div>\n",
              "  </div>\n",
              "  "
            ]
          },
          "metadata": {},
          "execution_count": 10
        }
      ]
    },
    {
      "cell_type": "markdown",
      "source": [
        "### Print rows having 'To Kill a Mockingbird'"
      ],
      "metadata": {
        "id": "01kDNMsaHRVW"
      }
    },
    {
      "cell_type": "code",
      "source": [
        "df2 = df[df['Name'].str.contains(\"To Kill a Mockingbird\")]\n",
        "print(df2)"
      ],
      "metadata": {
        "id": "OggzU_H9-za2",
        "colab": {
          "base_uri": "https://localhost:8080/"
        },
        "outputId": "d2643d86-48f6-4077-8621-f58b799f3fcf"
      },
      "execution_count": 12,
      "outputs": [
        {
          "output_type": "stream",
          "name": "stdout",
          "text": [
            "                      Name      Author  User Rating  Reviews  Price  Year  \\\n",
            "505  To Kill a Mockingbird  Harper Lee          4.8    26234      0  2013   \n",
            "506  To Kill a Mockingbird  Harper Lee          4.8    26234      0  2014   \n",
            "507  To Kill a Mockingbird  Harper Lee          4.8    26234      0  2015   \n",
            "508  To Kill a Mockingbird  Harper Lee          4.8    26234      0  2016   \n",
            "509  To Kill a Mockingbird  Harper Lee          4.8    26234      7  2019   \n",
            "\n",
            "       Genre  \n",
            "505  Fiction  \n",
            "506  Fiction  \n",
            "507  Fiction  \n",
            "508  Fiction  \n",
            "509  Fiction  \n"
          ]
        }
      ]
    },
    {
      "cell_type": "markdown",
      "source": [
        "### Remove Duplicates by name (Remove duplicates of the same name)"
      ],
      "metadata": {
        "id": "IA9k0tBnEC1I"
      }
    },
    {
      "cell_type": "code",
      "source": [
        "df.sort_values(\"Name\", inplace=True)\n",
        "\n",
        "df.drop_duplicates(keep=False,inplace=True)\n",
        "print(df)"
      ],
      "metadata": {
        "id": "pMikskaO-1RI",
        "colab": {
          "base_uri": "https://localhost:8080/"
        },
        "outputId": "90f8e065-74d0-4c1c-8107-c1e0f00a71e6"
      },
      "execution_count": 18,
      "outputs": [
        {
          "output_type": "stream",
          "name": "stdout",
          "text": [
            "                                                  Name  \\\n",
            "0                        10-Day Green Smoothie Cleanse   \n",
            "1                                    11/22/63: A Novel   \n",
            "2              12 Rules for Life: An Antidote to Chaos   \n",
            "3                               1984 (Signet Classics)   \n",
            "4    5,000 Awesome Facts (About Everything!) (Natio...   \n",
            "..                                                 ...   \n",
            "536  Whose Boat Is This Boat?: Comments That Don't ...   \n",
            "537  Wild: From Lost to Found on the Pacific Crest ...   \n",
            "538  Winter of the World: Book Two of the Century T...   \n",
            "539  Women Food and God: An Unexpected Path to Almo...   \n",
            "545       Wrecking Ball (Diary of a Wimpy Kid Book 14)   \n",
            "\n",
            "                               Author  User Rating  Reviews  Price  Year  \\\n",
            "0                            JJ Smith          4.7    17350      8  2016   \n",
            "1                        Stephen King          4.6     2052     22  2011   \n",
            "2                  Jordan B. Peterson          4.7    18979     15  2018   \n",
            "3                       George Orwell          4.7    21424      6  2017   \n",
            "4            National Geographic Kids          4.8     7665     12  2019   \n",
            "..                                ...          ...      ...    ...   ...   \n",
            "536  The Staff of The Late Show with          4.6     6669     12  2018   \n",
            "537                    Cheryl Strayed          4.4    17044     18  2012   \n",
            "538                       Ken Follett          4.5    10760     15  2012   \n",
            "539                       Geneen Roth          4.2     1302     11  2010   \n",
            "545                       Jeff Kinney          4.9     9413      8  2019   \n",
            "\n",
            "           Genre  \n",
            "0    Non Fiction  \n",
            "1        Fiction  \n",
            "2    Non Fiction  \n",
            "3        Fiction  \n",
            "4    Non Fiction  \n",
            "..           ...  \n",
            "536  Non Fiction  \n",
            "537  Non Fiction  \n",
            "538      Fiction  \n",
            "539  Non Fiction  \n",
            "545      Fiction  \n",
            "\n",
            "[255 rows x 7 columns]\n"
          ]
        }
      ]
    },
    {
      "cell_type": "markdown",
      "source": [
        "### Print name of all columns"
      ],
      "metadata": {
        "id": "1j_Lner-3MtT"
      }
    },
    {
      "cell_type": "code",
      "source": [
        "df.columns.values"
      ],
      "metadata": {
        "colab": {
          "base_uri": "https://localhost:8080/"
        },
        "id": "Li0Qj--iEFCl",
        "outputId": "1a6760d2-d097-4e0e-d15d-f53b394a698c"
      },
      "execution_count": 20,
      "outputs": [
        {
          "output_type": "execute_result",
          "data": {
            "text/plain": [
              "array(['Name', 'Author', 'User Rating', 'Reviews', 'Price', 'Year',\n",
              "       'Genre'], dtype=object)"
            ]
          },
          "metadata": {},
          "execution_count": 20
        }
      ]
    },
    {
      "cell_type": "code",
      "source": [
        "print(df.columns)"
      ],
      "metadata": {
        "id": "gkLSK2DE-31v",
        "colab": {
          "base_uri": "https://localhost:8080/"
        },
        "outputId": "610eb62b-79df-4ed0-9345-ec147d99716c"
      },
      "execution_count": 19,
      "outputs": [
        {
          "output_type": "stream",
          "name": "stdout",
          "text": [
            "Index(['Name', 'Author', 'User Rating', 'Reviews', 'Price', 'Year', 'Genre'], dtype='object')\n"
          ]
        }
      ]
    },
    {
      "cell_type": "markdown",
      "source": [
        "### Find info about movie 'Steve Jobs'(i.e.Print row of name 'Steve Jobs')"
      ],
      "metadata": {
        "id": "PlBp6hDwEjSv"
      }
    },
    {
      "cell_type": "code",
      "source": [
        ""
      ],
      "metadata": {
        "id": "eyWjLx76_M2v"
      },
      "execution_count": null,
      "outputs": []
    },
    {
      "cell_type": "markdown",
      "source": [
        "### Plot Scatterplot of Price vs User Rating"
      ],
      "metadata": {
        "id": "OIz9rldRZOHw"
      }
    },
    {
      "cell_type": "code",
      "source": [
        "plt.scatter(df['Price'],df['User Rating'],s=1.5,color='blue')"
      ],
      "metadata": {
        "id": "7DtgV1x0_NWE",
        "colab": {
          "base_uri": "https://localhost:8080/",
          "height": 282
        },
        "outputId": "1d006413-f160-4774-b1d1-d3c0ca7ff994"
      },
      "execution_count": 26,
      "outputs": [
        {
          "output_type": "execute_result",
          "data": {
            "text/plain": [
              "<matplotlib.collections.PathCollection at 0x7f4bb1cd27d0>"
            ]
          },
          "metadata": {},
          "execution_count": 26
        },
        {
          "output_type": "display_data",
          "data": {
            "text/plain": [
              "<Figure size 432x288 with 1 Axes>"
            ],
            "image/png": "[encoded data removed]"
          },
          "metadata": {
            "needs_background": "light"
          }
        }
      ]
    },
    {
      "cell_type": "markdown",
      "source": [
        "### For each variable, plot the frequency of each unique value (histogram)."
      ],
      "metadata": {
        "id": "ZuSZIn3MHtdi"
      }
    },
    {
      "cell_type": "code",
      "source": [
        "plt.hist(df['Name'], bins=9, align='right', color='purple', edgecolor='black')"
      ],
      "metadata": {
        "colab": {
          "base_uri": "https://localhost:8080/",
          "height": 425
        },
        "id": "IInwXHvfGUW4",
        "outputId": "119ed2e7-9251-4414-fb25-de46dcf5a923"
      },
      "execution_count": 38,
      "outputs": [
        {
          "output_type": "execute_result",
          "data": {
            "text/plain": [
              "(array([29., 28., 28., 28., 29., 28., 28., 28., 29.]),\n",
              " array([  0.        ,  28.22222222,  56.44444444,  84.66666667,\n",
              "        112.88888889, 141.11111111, 169.33333333, 197.55555556,\n",
              "        225.77777778, 254.        ]),\n",
              " <a list of 9 Patch objects>)"
            ]
          },
          "metadata": {},
          "execution_count": 38
        },
        {
          "output_type": "stream",
          "name": "stderr",
          "text": [
            "/usr/local/lib/python3.7/dist-packages/matplotlib/backends/backend_agg.py:214: RuntimeWarning: Glyph 146 missing from current font.\n",
            "  font.set_text(s, 0.0, flags=flags)\n",
            "/usr/local/lib/python3.7/dist-packages/matplotlib/backends/backend_agg.py:183: RuntimeWarning: Glyph 146 missing from current font.\n",
            "  font.set_text(s, 0, flags=flags)\n"
          ]
        },
        {
          "output_type": "display_data",
          "data": {
            "text/plain": [
              "<Figure size 432x288 with 1 Axes>"
            ],
            "image/png": "[encoded data removed]"
          },
          "metadata": {
            "needs_background": "light"
          }
        }
      ]
    },
    {
      "cell_type": "code",
      "source": [
        "plt.hist(df['Author'], bins=9, align='right', color='purple', edgecolor='black')"
      ],
      "metadata": {
        "colab": {
          "base_uri": "https://localhost:8080/",
          "height": 424
        },
        "id": "BoKo-2B_Nh5Q",
        "outputId": "922eec51-675d-494a-d96f-b24e13b5294f"
      },
      "execution_count": 39,
      "outputs": [
        {
          "output_type": "execute_result",
          "data": {
            "text/plain": [
              "(array([28., 44., 35., 26., 26., 33., 21., 22., 20.]),\n",
              " array([  0.        ,  19.33333333,  38.66666667,  58.        ,\n",
              "         77.33333333,  96.66666667, 116.        , 135.33333333,\n",
              "        154.66666667, 174.        ]),\n",
              " <a list of 9 Patch objects>)"
            ]
          },
          "metadata": {},
          "execution_count": 39
        },
        {
          "output_type": "stream",
          "name": "stderr",
          "text": [
            "/usr/local/lib/python3.7/dist-packages/matplotlib/backends/backend_agg.py:214: RuntimeWarning: Glyph 133 missing from current font.\n",
            "  font.set_text(s, 0.0, flags=flags)\n",
            "/usr/local/lib/python3.7/dist-packages/matplotlib/backends/backend_agg.py:183: RuntimeWarning: Glyph 133 missing from current font.\n",
            "  font.set_text(s, 0, flags=flags)\n"
          ]
        },
        {
          "output_type": "display_data",
          "data": {
            "text/plain": [
              "<Figure size 432x288 with 1 Axes>"
            ],
            "image/png": "[encoded data removed]"
          },
          "metadata": {
            "needs_background": "light"
          }
        }
      ]
    },
    {
      "cell_type": "code",
      "source": [
        "plt.hist(df['User Rating'], bins=9, align='right', color='purple', edgecolor='black')"
      ],
      "metadata": {
        "colab": {
          "base_uri": "https://localhost:8080/",
          "height": 334
        },
        "id": "EW4oOIHINhrB",
        "outputId": "02b4e28a-4657-4b76-864b-50b49777bb73"
      },
      "execution_count": 40,
      "outputs": [
        {
          "output_type": "execute_result",
          "data": {
            "text/plain": [
              "(array([ 1.,  1.,  0.,  3.,  4., 25., 50., 93., 78.]),\n",
              " array([3.3       , 3.47777778, 3.65555556, 3.83333333, 4.01111111,\n",
              "        4.18888889, 4.36666667, 4.54444444, 4.72222222, 4.9       ]),\n",
              " <a list of 9 Patch objects>)"
            ]
          },
          "metadata": {},
          "execution_count": 40
        },
        {
          "output_type": "display_data",
          "data": {
            "text/plain": [
              "<Figure size 432x288 with 1 Axes>"
            ],
            "image/png": "[encoded data removed]"
          },
          "metadata": {
            "needs_background": "light"
          }
        }
      ]
    },
    {
      "cell_type": "code",
      "source": [
        "plt.hist(df['Reviews'], bins=9, align='right', color='purple', edgecolor='black')"
      ],
      "metadata": {
        "colab": {
          "base_uri": "https://localhost:8080/",
          "height": 334
        },
        "id": "a98OXHt3Nwr0",
        "outputId": "6fa056fe-2139-44b9-f5c6-2265174cd2a8"
      },
      "execution_count": 41,
      "outputs": [
        {
          "output_type": "execute_result",
          "data": {
            "text/plain": [
              "(array([200.,  37.,  12.,   4.,   1.,   0.,   0.,   0.,   1.]),\n",
              " array([3.7000e+01, 9.7930e+03, 1.9549e+04, 2.9305e+04, 3.9061e+04,\n",
              "        4.8817e+04, 5.8573e+04, 6.8329e+04, 7.8085e+04, 8.7841e+04]),\n",
              " <a list of 9 Patch objects>)"
            ]
          },
          "metadata": {},
          "execution_count": 41
        },
        {
          "output_type": "display_data",
          "data": {
            "text/plain": [
              "<Figure size 432x288 with 1 Axes>"
            ],
            "image/png": "[encoded data removed]"
          },
          "metadata": {
            "needs_background": "light"
          }
        }
      ]
    },
    {
      "cell_type": "code",
      "source": [
        "plt.hist(df['Price'], bins=9, align='right', color='purple', edgecolor='black')"
      ],
      "metadata": {
        "colab": {
          "base_uri": "https://localhost:8080/",
          "height": 334
        },
        "id": "xaevvJU6N2vD",
        "outputId": "b6474276-8578-4603-bf1d-0af051e65e00"
      },
      "execution_count": 42,
      "outputs": [
        {
          "output_type": "execute_result",
          "data": {
            "text/plain": [
              "(array([ 91., 123.,  28.,   7.,   2.,   3.,   0.,   0.,   1.]),\n",
              " array([ 0.        ,  9.11111111, 18.22222222, 27.33333333, 36.44444444,\n",
              "        45.55555556, 54.66666667, 63.77777778, 72.88888889, 82.        ]),\n",
              " <a list of 9 Patch objects>)"
            ]
          },
          "metadata": {},
          "execution_count": 42
        },
        {
          "output_type": "display_data",
          "data": {
            "text/plain": [
              "<Figure size 432x288 with 1 Axes>"
            ],
            "image/png": "[encoded data removed]"
          },
          "metadata": {
            "needs_background": "light"
          }
        }
      ]
    },
    {
      "cell_type": "code",
      "source": [
        "plt.hist(df['Year'], bins=9, align='right', color='purple', edgecolor='black')"
      ],
      "metadata": {
        "colab": {
          "base_uri": "https://localhost:8080/",
          "height": 355
        },
        "id": "aHe0LCGfN8Cp",
        "outputId": "95aa9cf5-a0d6-412d-f23a-b74f9c9e6786"
      },
      "execution_count": 43,
      "outputs": [
        {
          "output_type": "execute_result",
          "data": {
            "text/plain": [
              "(array([67., 20., 19., 21., 19., 22., 21., 19., 47.]),\n",
              " array([2009.        , 2010.11111111, 2011.22222222, 2012.33333333,\n",
              "        2013.44444444, 2014.55555556, 2015.66666667, 2016.77777778,\n",
              "        2017.88888889, 2019.        ]),\n",
              " <a list of 9 Patch objects>)"
            ]
          },
          "metadata": {},
          "execution_count": 43
        },
        {
          "output_type": "display_data",
          "data": {
            "text/plain": [
              "<Figure size 432x288 with 1 Axes>"
            ],
            "image/png": "[encoded data removed]"
          },
          "metadata": {
            "needs_background": "light"
          }
        }
      ]
    },
    {
      "cell_type": "code",
      "source": [
        "plt.hist(df['Genre'], bins=9, align='right', color='purple', edgecolor='black')"
      ],
      "metadata": {
        "colab": {
          "base_uri": "https://localhost:8080/",
          "height": 334
        },
        "id": "b7U4z5CnOAVq",
        "outputId": "ec4657b8-9f79-4f0e-c310-0f45bafaab50"
      },
      "execution_count": 44,
      "outputs": [
        {
          "output_type": "execute_result",
          "data": {
            "text/plain": [
              "(array([139.,   0.,   0.,   0.,   0.,   0.,   0.,   0., 116.]),\n",
              " array([0.        , 0.11111111, 0.22222222, 0.33333333, 0.44444444,\n",
              "        0.55555556, 0.66666667, 0.77777778, 0.88888889, 1.        ]),\n",
              " <a list of 9 Patch objects>)"
            ]
          },
          "metadata": {},
          "execution_count": 44
        },
        {
          "output_type": "display_data",
          "data": {
            "text/plain": [
              "<Figure size 432x288 with 1 Axes>"
            ],
            "image/png": "[encoded data removed]"
          },
          "metadata": {
            "needs_background": "light"
          }
        }
      ]
    },
    {
      "cell_type": "markdown",
      "source": [
        "### Plot Box_Plot of each var"
      ],
      "metadata": {
        "id": "OPaYjixJXIuV"
      }
    },
    {
      "cell_type": "code",
      "source": [
        "import seaborn as sb\n",
        "sb.boxplot( data = df, orient=\"h\")\n",
        "plt.show()"
      ],
      "metadata": {
        "id": "Ix99PGo0X9x-",
        "colab": {
          "base_uri": "https://localhost:8080/",
          "height": 265
        },
        "outputId": "6d0d6507-dea1-4b3e-e8d0-3702528cadde"
      },
      "execution_count": 45,
      "outputs": [
        {
          "output_type": "display_data",
          "data": {
            "text/plain": [
              "<Figure size 432x288 with 1 Axes>"
            ],
            "image/png": "[encoded data removed]"
          },
          "metadata": {
            "needs_background": "light"
          }
        }
      ]
    }
  ]
}