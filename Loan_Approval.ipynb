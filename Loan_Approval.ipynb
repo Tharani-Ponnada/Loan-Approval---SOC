{
  "nbformat": 4,
  "nbformat_minor": 0,
  "metadata": {
    "colab": {
      "name": "Loan_Approval.ipynb",
      "provenance": [],
      "include_colab_link": true
    },
    "kernelspec": {
      "name": "python3",
      "display_name": "Python 3"
    },
    "language_info": {
      "name": "python"
    }
  },
  "cells": [
    {
      "cell_type": "markdown",
      "metadata": {
        "id": "view-in-github",
        "colab_type": "text"
      },
      "source": [
        "<a href=\"https://colab.research.google.com/github/Tharani-Ponnada/Loan-Approval---SOC/blob/main/Loan_Approval.ipynb\" target=\"_parent\"><img src=\"https://colab.research.google.com/assets/colab-badge.svg\" alt=\"Open In Colab\"/></a>"
      ]
    },
    {
      "cell_type": "markdown",
      "source": [
        "# Loan Approval Prediction \n",
        "\n",
        "This is a binary classification problem, here we are predicting whether a person gets loan from a bank or not by taking some details of the person. \n",
        "Here we test various models but finally takes a model which gives us more accuracy. "
      ],
      "metadata": {
        "id": "vB-wHZ0wG_vn"
      }
    },
    {
      "cell_type": "markdown",
      "source": [
        "## Importing Libraries"
      ],
      "metadata": {
        "id": "aXwd4m-xN8kg"
      }
    },
    {
      "cell_type": "code",
      "execution_count": null,
      "metadata": {
        "id": "T4Q14GIBGbyf"
      },
      "outputs": [],
      "source": [
        "import numpy as np\n",
        "import pandas as pd\n",
        "import matplotlib.pyplot as plt \n",
        "import seaborn as sns\n",
        "%matplotlib inline \n",
        "import io\n",
        "import plotly.express as px\n",
        "\n",
        "import plotly.express as px\n",
        "import plotly.figure_factory as ff\n",
        "import plotly\n",
        "\n",
        "from sklearn.utils import resample\n",
        "from sklearn.preprocessing import StandardScaler , MinMaxScaler\n",
        "from collections import Counter\n",
        "\n",
        "#Classifiers\n",
        "from sklearn.ensemble import AdaBoostClassifier , GradientBoostingClassifier , VotingClassifier , RandomForestClassifier\n",
        "from sklearn.linear_model import LogisticRegression , RidgeClassifier\n",
        "from sklearn.discriminant_analysis import LinearDiscriminantAnalysis\n",
        "from sklearn.model_selection import RepeatedStratifiedKFold\n",
        "from sklearn.neighbors import KNeighborsClassifier\n",
        "from sklearn.model_selection import GridSearchCV\n",
        "from sklearn.tree import DecisionTreeClassifier \n",
        "from sklearn.naive_bayes import GaussianNB\n",
        "from xgboost import plot_importance\n",
        "from xgboost import XGBClassifier\n",
        "from sklearn.svm import SVC\n",
        "\n",
        "#Model evaluation tools\n",
        "from sklearn.metrics import classification_report , accuracy_score , confusion_matrix\n",
        "from sklearn.metrics import accuracy_score,f1_score\n",
        "from sklearn.model_selection import cross_val_score\n",
        "\n",
        "#Data processing functions\n",
        "from sklearn.preprocessing import StandardScaler\n",
        "from sklearn.model_selection import train_test_split\n",
        "from sklearn import model_selection\n",
        "from sklearn.preprocessing import LabelEncoder\n",
        "le = LabelEncoder()\n",
        "\n",
        "\n",
        "from google.colab import data_table\n",
        "data_table.enable_dataframe_formatter()\n",
        "\n",
        "import warnings\n",
        "warnings.filterwarnings(\"ignore\")"
      ]
    },
    {
      "cell_type": "markdown",
      "source": [
        "## Uploading Data"
      ],
      "metadata": {
        "id": "HnCz_xPEN2hH"
      }
    },
    {
      "cell_type": "markdown",
      "source": [
        "Loading the data "
      ],
      "metadata": {
        "id": "Z-uX2JNNIDo7"
      }
    },
    {
      "cell_type": "code",
      "source": [
        "from google.colab import files\n",
        " \n",
        "uploaded = files.upload()\n",
        "df = pd.read_csv(io.BytesIO(uploaded['loan.csv']))"
      ],
      "metadata": {
        "colab": {
          "resources": {
            "http://localhost:8080/nbextensions/google.colab/files.js": {
              "data": "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",
              "ok": true,
              "headers": [
                [
                  "content-type",
                  "application/javascript"
                ]
              ],
              "status": 200,
              "status_text": ""
            }
          },
          "base_uri": "https://localhost:8080/",
          "height": 73
        },
        "id": "l9w3XFilICSw",
        "outputId": "3c74fe6a-bca2-4a08-a59a-581fe715c0f9"
      },
      "execution_count": null,
      "outputs": [
        {
          "output_type": "display_data",
          "data": {
            "text/plain": [
              "<IPython.core.display.HTML object>"
            ],
            "text/html": [
              "\n",
              "     <input type=\"file\" id=\"files-71427aec-2f4b-4896-92ec-dbed900957c9\" name=\"files[]\" multiple disabled\n",
              "        style=\"border:none\" />\n",
              "     <output id=\"result-71427aec-2f4b-4896-92ec-dbed900957c9\">\n",
              "      Upload widget is only available when the cell has been executed in the\n",
              "      current browser session. Please rerun this cell to enable.\n",
              "      </output>\n",
              "      <script src=\"/nbextensions/google.colab/files.js\"></script> "
            ]
          },
          "metadata": {}
        },
        {
          "output_type": "stream",
          "name": "stdout",
          "text": [
            "Saving loan.csv to loan.csv\n"
          ]
        }
      ]
    },
    {
      "cell_type": "markdown",
      "source": [
        "## Data Analysing \n",
        "\n",
        "Lets analyse the data by plotting the graphs knowing number of rows number of missing values and knowing the relationship between the variables "
      ],
      "metadata": {
        "id": "vwkhOgQSJFRm"
      }
    },
    {
      "cell_type": "code",
      "source": [
        "print(len(df))"
      ],
      "metadata": {
        "colab": {
          "base_uri": "https://localhost:8080/"
        },
        "id": "WQMZwIgzIrle",
        "outputId": "e6fb027c-f6e5-4aab-a466-3d6f187c3dce"
      },
      "execution_count": null,
      "outputs": [
        {
          "output_type": "stream",
          "name": "stdout",
          "text": [
            "614\n"
          ]
        }
      ]
    },
    {
      "cell_type": "code",
      "source": [
        "sns.countplot(\"Loan_Status\",data = df)"
      ],
      "metadata": {
        "colab": {
          "base_uri": "https://localhost:8080/",
          "height": 297
        },
        "id": "Rmf7-bFKIthy",
        "outputId": "488db71d-b938-4368-c905-5c60c4444886"
      },
      "execution_count": null,
      "outputs": [
        {
          "output_type": "execute_result",
          "data": {
            "text/plain": [
              "<matplotlib.axes._subplots.AxesSubplot at 0x7f757dcf3290>"
            ]
          },
          "metadata": {},
          "execution_count": 4
        },
        {
          "output_type": "display_data",
          "data": {
            "text/plain": [
              "<Figure size 432x288 with 1 Axes>"
            ],
            "image/png": "[encoded data removed]"
          },
          "metadata": {
            "needs_background": "light"
          }
        }
      ]
    },
    {
      "cell_type": "code",
      "source": [
        "sns.countplot('Loan_Status',hue = 'Gender',data = df)"
      ],
      "metadata": {
        "colab": {
          "base_uri": "https://localhost:8080/",
          "height": 298
        },
        "id": "nUj1sQyHIv2Q",
        "outputId": "ca3cd28d-9c43-4e4f-df3e-032265fdfc83"
      },
      "execution_count": null,
      "outputs": [
        {
          "output_type": "execute_result",
          "data": {
            "text/plain": [
              "<matplotlib.axes._subplots.AxesSubplot at 0x7f757241bd50>"
            ]
          },
          "metadata": {},
          "execution_count": 5
        },
        {
          "output_type": "display_data",
          "data": {
            "text/plain": [
              "<Figure size 432x288 with 1 Axes>"
            ],
            "image/png": "[encoded data removed]"
          },
          "metadata": {
            "needs_background": "light"
          }
        }
      ]
    },
    {
      "cell_type": "code",
      "source": [
        "sns.countplot('Loan_Status',hue = 'Married',data = df)"
      ],
      "metadata": {
        "colab": {
          "base_uri": "https://localhost:8080/",
          "height": 297
        },
        "id": "sEiE6qGCIyE6",
        "outputId": "91dec306-ab4e-44a3-fef6-a8565f909088"
      },
      "execution_count": null,
      "outputs": [
        {
          "output_type": "execute_result",
          "data": {
            "text/plain": [
              "<matplotlib.axes._subplots.AxesSubplot at 0x7f75724ac510>"
            ]
          },
          "metadata": {},
          "execution_count": 6
        },
        {
          "output_type": "display_data",
          "data": {
            "text/plain": [
              "<Figure size 432x288 with 1 Axes>"
            ],
            "image/png": "[encoded data removed]"
          },
          "metadata": {
            "needs_background": "light"
          }
        }
      ]
    },
    {
      "cell_type": "code",
      "source": [
        "sns.countplot('Loan_Status',hue = 'Education',data = df)"
      ],
      "metadata": {
        "colab": {
          "base_uri": "https://localhost:8080/",
          "height": 297
        },
        "id": "85HoX9eKI0aa",
        "outputId": "7dca2624-4e0d-4bd4-c620-8cf9f5c8a85a"
      },
      "execution_count": null,
      "outputs": [
        {
          "output_type": "execute_result",
          "data": {
            "text/plain": [
              "<matplotlib.axes._subplots.AxesSubplot at 0x7f7571f55cd0>"
            ]
          },
          "metadata": {},
          "execution_count": 7
        },
        {
          "output_type": "display_data",
          "data": {
            "text/plain": [
              "<Figure size 432x288 with 1 Axes>"
            ],
            "image/png": "[encoded data removed]"
          },
          "metadata": {
            "needs_background": "light"
          }
        }
      ]
    },
    {
      "cell_type": "code",
      "source": [
        "sns.countplot('Loan_Status',hue = 'Property_Area',data = df)"
      ],
      "metadata": {
        "colab": {
          "base_uri": "https://localhost:8080/",
          "height": 297
        },
        "id": "Ul7KkLY3I260",
        "outputId": "a461e2f0-141d-4854-ca56-5695483e3970"
      },
      "execution_count": null,
      "outputs": [
        {
          "output_type": "execute_result",
          "data": {
            "text/plain": [
              "<matplotlib.axes._subplots.AxesSubplot at 0x7f7571f62e50>"
            ]
          },
          "metadata": {},
          "execution_count": 8
        },
        {
          "output_type": "display_data",
          "data": {
            "text/plain": [
              "<Figure size 432x288 with 1 Axes>"
            ],
            "image/png": "[encoded data removed]"
          },
          "metadata": {
            "needs_background": "light"
          }
        }
      ]
    },
    {
      "cell_type": "code",
      "source": [
        "sns.countplot('Loan_Status',hue = 'Credit_History',data = df)"
      ],
      "metadata": {
        "colab": {
          "base_uri": "https://localhost:8080/",
          "height": 297
        },
        "id": "oBzkSRKbI44o",
        "outputId": "f7ea1748-9ed2-44ed-9830-3c9ea3a0fc16"
      },
      "execution_count": null,
      "outputs": [
        {
          "output_type": "execute_result",
          "data": {
            "text/plain": [
              "<matplotlib.axes._subplots.AxesSubplot at 0x7f7571da7950>"
            ]
          },
          "metadata": {},
          "execution_count": 9
        },
        {
          "output_type": "display_data",
          "data": {
            "text/plain": [
              "<Figure size 432x288 with 1 Axes>"
            ],
            "image/png": "[encoded data removed]"
          },
          "metadata": {
            "needs_background": "light"
          }
        }
      ]
    },
    {
      "cell_type": "code",
      "source": [
        "sns.countplot('Loan_Status',hue = 'Dependents',data = df)"
      ],
      "metadata": {
        "colab": {
          "base_uri": "https://localhost:8080/",
          "height": 297
        },
        "id": "9IN6f2zeI7Qy",
        "outputId": "a77a1e19-f5a3-48b9-fab7-3c3428b7db4a"
      },
      "execution_count": null,
      "outputs": [
        {
          "output_type": "execute_result",
          "data": {
            "text/plain": [
              "<matplotlib.axes._subplots.AxesSubplot at 0x7f7571d11a90>"
            ]
          },
          "metadata": {},
          "execution_count": 10
        },
        {
          "output_type": "display_data",
          "data": {
            "text/plain": [
              "<Figure size 432x288 with 1 Axes>"
            ],
            "image/png": "[encoded data removed]"
          },
          "metadata": {
            "needs_background": "light"
          }
        }
      ]
    },
    {
      "cell_type": "code",
      "source": [
        "sns.countplot('Loan_Status',hue = 'Self_Employed',data = df)"
      ],
      "metadata": {
        "colab": {
          "base_uri": "https://localhost:8080/",
          "height": 297
        },
        "id": "xNg3F3lZI9lz",
        "outputId": "880832a3-0437-47c3-ea7e-754191683c2e"
      },
      "execution_count": null,
      "outputs": [
        {
          "output_type": "execute_result",
          "data": {
            "text/plain": [
              "<matplotlib.axes._subplots.AxesSubplot at 0x7f7571d00ed0>"
            ]
          },
          "metadata": {},
          "execution_count": 11
        },
        {
          "output_type": "display_data",
          "data": {
            "text/plain": [
              "<Figure size 432x288 with 1 Axes>"
            ],
            "image/png": "[encoded data removed]"
          },
          "metadata": {
            "needs_background": "light"
          }
        }
      ]
    },
    {
      "cell_type": "code",
      "source": [
        "df.info()"
      ],
      "metadata": {
        "colab": {
          "base_uri": "https://localhost:8080/"
        },
        "id": "0akZypwdI_Ty",
        "outputId": "62cc064c-32a0-48f5-c778-caa96a3c9d71"
      },
      "execution_count": null,
      "outputs": [
        {
          "output_type": "stream",
          "name": "stdout",
          "text": [
            "<class 'pandas.core.frame.DataFrame'>\n",
            "RangeIndex: 614 entries, 0 to 613\n",
            "Data columns (total 13 columns):\n",
            " #   Column             Non-Null Count  Dtype  \n",
            "---  ------             --------------  -----  \n",
            " 0   Loan_ID            614 non-null    object \n",
            " 1   Gender             601 non-null    object \n",
            " 2   Married            611 non-null    object \n",
            " 3   Dependents         599 non-null    object \n",
            " 4   Education          614 non-null    object \n",
            " 5   Self_Employed      582 non-null    object \n",
            " 6   ApplicantIncome    614 non-null    int64  \n",
            " 7   CoapplicantIncome  614 non-null    float64\n",
            " 8   LoanAmount         592 non-null    float64\n",
            " 9   Loan_Amount_Term   600 non-null    float64\n",
            " 10  Credit_History     564 non-null    float64\n",
            " 11  Property_Area      614 non-null    object \n",
            " 12  Loan_Status        614 non-null    object \n",
            "dtypes: float64(4), int64(1), object(8)\n",
            "memory usage: 62.5+ KB\n"
          ]
        }
      ]
    },
    {
      "cell_type": "code",
      "source": [
        "sns.heatmap(df.corr(), annot=True)"
      ],
      "metadata": {
        "colab": {
          "base_uri": "https://localhost:8080/",
          "height": 373
        },
        "id": "1MKPsqisJDop",
        "outputId": "636e3ac0-f462-4cb4-bab8-e8c9cb0f34cb"
      },
      "execution_count": null,
      "outputs": [
        {
          "output_type": "execute_result",
          "data": {
            "text/plain": [
              "<matplotlib.axes._subplots.AxesSubplot at 0x7f7571c56950>"
            ]
          },
          "metadata": {},
          "execution_count": 13
        },
        {
          "output_type": "display_data",
          "data": {
            "text/plain": [
              "<Figure size 432x288 with 2 Axes>"
            ],
            "image/png": "[encoded data removed]"
          },
          "metadata": {
            "needs_background": "light"
          }
        }
      ]
    },
    {
      "cell_type": "code",
      "source": [
        "df.describe()"
      ],
      "metadata": {
        "colab": {
          "base_uri": "https://localhost:8080/",
          "height": 262
        },
        "id": "8NfmMxTEKK7l",
        "outputId": "0ea8d070-16ee-4dac-dad5-f15aa15a1873"
      },
      "execution_count": null,
      "outputs": [
        {
          "output_type": "execute_result",
          "data": {
            "text/plain": [
              "       ApplicantIncome  CoapplicantIncome  LoanAmount  Loan_Amount_Term  \\\n",
              "count       614.000000         614.000000  592.000000         600.00000   \n",
              "mean       5403.459283        1621.245798  146.412162         342.00000   \n",
              "std        6109.041673        2926.248369   85.587325          65.12041   \n",
              "min         150.000000           0.000000    9.000000          12.00000   \n",
              "25%        2877.500000           0.000000  100.000000         360.00000   \n",
              "50%        3812.500000        1188.500000  128.000000         360.00000   \n",
              "75%        5795.000000        2297.250000  168.000000         360.00000   \n",
              "max       81000.000000       41667.000000  700.000000         480.00000   \n",
              "\n",
              "       Credit_History  \n",
              "count      564.000000  \n",
              "mean         0.842199  \n",
              "std          0.364878  \n",
              "min          0.000000  \n",
              "25%          1.000000  \n",
              "50%          1.000000  \n",
              "75%          1.000000  \n",
              "max          1.000000  "
            ],
            "text/html": [
              "\n",
              "  <div id=\"df-f6ceabfb-cf87-43a3-b404-4f37abd84f91\">\n",
              "    <div class=\"colab-df-container\">\n",
              "      <div>\n",
              "<style scoped>\n",
              "    .dataframe tbody tr th:only-of-type {\n",
              "        vertical-align: middle;\n",
              "    }\n",
              "\n",
              "    .dataframe tbody tr th {\n",
              "        vertical-align: top;\n",
              "    }\n",
              "\n",
              "    .dataframe thead th {\n",
              "        text-align: right;\n",
              "    }\n",
              "</style>\n",
              "<table border=\"1\" class=\"dataframe\">\n",
              "  <thead>\n",
              "    <tr style=\"text-align: right;\">\n",
              "      <th></th>\n",
              "      <th>ApplicantIncome</th>\n",
              "      <th>CoapplicantIncome</th>\n",
              "      <th>LoanAmount</th>\n",
              "      <th>Loan_Amount_Term</th>\n",
              "      <th>Credit_History</th>\n",
              "    </tr>\n",
              "  </thead>\n",
              "  <tbody>\n",
              "    <tr>\n",
              "      <th>count</th>\n",
              "      <td>614.000000</td>\n",
              "      <td>614.000000</td>\n",
              "      <td>592.000000</td>\n",
              "      <td>600.00000</td>\n",
              "      <td>564.000000</td>\n",
              "    </tr>\n",
              "    <tr>\n",
              "      <th>mean</th>\n",
              "      <td>5403.459283</td>\n",
              "      <td>1621.245798</td>\n",
              "      <td>146.412162</td>\n",
              "      <td>342.00000</td>\n",
              "      <td>0.842199</td>\n",
              "    </tr>\n",
              "    <tr>\n",
              "      <th>std</th>\n",
              "      <td>6109.041673</td>\n",
              "      <td>2926.248369</td>\n",
              "      <td>85.587325</td>\n",
              "      <td>65.12041</td>\n",
              "      <td>0.364878</td>\n",
              "    </tr>\n",
              "    <tr>\n",
              "      <th>min</th>\n",
              "      <td>150.000000</td>\n",
              "      <td>0.000000</td>\n",
              "      <td>9.000000</td>\n",
              "      <td>12.00000</td>\n",
              "      <td>0.000000</td>\n",
              "    </tr>\n",
              "    <tr>\n",
              "      <th>25%</th>\n",
              "      <td>2877.500000</td>\n",
              "      <td>0.000000</td>\n",
              "      <td>100.000000</td>\n",
              "      <td>360.00000</td>\n",
              "      <td>1.000000</td>\n",
              "    </tr>\n",
              "    <tr>\n",
              "      <th>50%</th>\n",
              "      <td>3812.500000</td>\n",
              "      <td>1188.500000</td>\n",
              "      <td>128.000000</td>\n",
              "      <td>360.00000</td>\n",
              "      <td>1.000000</td>\n",
              "    </tr>\n",
              "    <tr>\n",
              "      <th>75%</th>\n",
              "      <td>5795.000000</td>\n",
              "      <td>2297.250000</td>\n",
              "      <td>168.000000</td>\n",
              "      <td>360.00000</td>\n",
              "      <td>1.000000</td>\n",
              "    </tr>\n",
              "    <tr>\n",
              "      <th>max</th>\n",
              "      <td>81000.000000</td>\n",
              "      <td>41667.000000</td>\n",
              "      <td>700.000000</td>\n",
              "      <td>480.00000</td>\n",
              "      <td>1.000000</td>\n",
              "    </tr>\n",
              "  </tbody>\n",
              "</table>\n",
              "</div>\n",
              "      <button class=\"colab-df-convert\" onclick=\"convertToInteractive('df-f6ceabfb-cf87-43a3-b404-4f37abd84f91')\"\n",
              "              title=\"Convert this dataframe to an interactive table.\"\n",
              "              style=\"display:none;\">\n",
              "        \n",
              "  <svg xmlns=\"http://www.w3.org/2000/svg\" height=\"24px\"viewBox=\"0 0 24 24\"\n",
              "       width=\"24px\">\n",
              "    <path d=\"M0 0h24v24H0V0z\" fill=\"none\"/>\n",
              "    <path d=\"M18.56 5.44l.94 2.06.94-2.06 2.06-.94-2.06-.94-.94-2.06-.94 2.06-2.06.94zm-11 1L8.5 8.5l.94-2.06 2.06-.94-2.06-.94L8.5 2.5l-.94 2.06-2.06.94zm10 10l.94 2.06.94-2.06 2.06-.94-2.06-.94-.94-2.06-.94 2.06-2.06.94z\"/><path d=\"M17.41 7.96l-1.37-1.37c-.4-.4-.92-.59-1.43-.59-.52 0-1.04.2-1.43.59L10.3 9.45l-7.72 7.72c-.78.78-.78 2.05 0 2.83L4 21.41c.39.39.9.59 1.41.59.51 0 1.02-.2 1.41-.59l7.78-7.78 2.81-2.81c.8-.78.8-2.07 0-2.86zM5.41 20L4 18.59l7.72-7.72 1.47 1.35L5.41 20z\"/>\n",
              "  </svg>\n",
              "      </button>\n",
              "      \n",
              "  <style>\n",
              "    .colab-df-container {\n",
              "      display:flex;\n",
              "      flex-wrap:wrap;\n",
              "      gap: 12px;\n",
              "    }\n",
              "\n",
              "    .colab-df-convert {\n",
              "      background-color: #E8F0FE;\n",
              "      border: none;\n",
              "      border-radius: 50%;\n",
              "      cursor: pointer;\n",
              "      display: none;\n",
              "      fill: #1967D2;\n",
              "      height: 32px;\n",
              "      padding: 0 0 0 0;\n",
              "      width: 32px;\n",
              "    }\n",
              "\n",
              "    .colab-df-convert:hover {\n",
              "      background-color: #E2EBFA;\n",
              "      box-shadow: 0px 1px 2px rgba(60, 64, 67, 0.3), 0px 1px 3px 1px rgba(60, 64, 67, 0.15);\n",
              "      fill: #174EA6;\n",
              "    }\n",
              "\n",
              "    [theme=dark] .colab-df-convert {\n",
              "      background-color: #3B4455;\n",
              "      fill: #D2E3FC;\n",
              "    }\n",
              "\n",
              "    [theme=dark] .colab-df-convert:hover {\n",
              "      background-color: #434B5C;\n",
              "      box-shadow: 0px 1px 3px 1px rgba(0, 0, 0, 0.15);\n",
              "      filter: drop-shadow(0px 1px 2px rgba(0, 0, 0, 0.3));\n",
              "      fill: #FFFFFF;\n",
              "    }\n",
              "  </style>\n",
              "\n",
              "      <script>\n",
              "        const buttonEl =\n",
              "          document.querySelector('#df-f6ceabfb-cf87-43a3-b404-4f37abd84f91 button.colab-df-convert');\n",
              "        buttonEl.style.display =\n",
              "          google.colab.kernel.accessAllowed ? 'block' : 'none';\n",
              "\n",
              "        async function convertToInteractive(key) {\n",
              "          const element = document.querySelector('#df-f6ceabfb-cf87-43a3-b404-4f37abd84f91');\n",
              "          const dataTable =\n",
              "            await google.colab.kernel.invokeFunction('convertToInteractive',\n",
              "                                                     [key], {});\n",
              "          if (!dataTable) return;\n",
              "\n",
              "          const docLinkHtml = 'Like what you see? Visit the ' +\n",
              "            '<a target=\"_blank\" href=https://colab.research.google.com/notebooks/data_table.ipynb>data table notebook</a>'\n",
              "            + ' to learn more about interactive tables.';\n",
              "          element.innerHTML = '';\n",
              "          dataTable['output_type'] = 'display_data';\n",
              "          await google.colab.output.renderOutput(dataTable, element);\n",
              "          const docLink = document.createElement('div');\n",
              "          docLink.innerHTML = docLinkHtml;\n",
              "          element.appendChild(docLink);\n",
              "        }\n",
              "      </script>\n",
              "    </div>\n",
              "  </div>\n",
              "  "
            ],
            "application/vnd.google.colaboratory.module+javascript": "\n      import \"https://ssl.gstatic.com/colaboratory/data_table/f872b2c2305463fd/data_table.js\";\n\n      window.createDataTable({\n        data: [[\"count\",\n{\n            'v': 614.0,\n            'f': \"614.0\",\n        },\n{\n            'v': 614.0,\n            'f': \"614.0\",\n        },\n{\n            'v': 592.0,\n            'f': \"592.0\",\n        },\n{\n            'v': 600.0,\n            'f': \"600.0\",\n        },\n{\n            'v': 564.0,\n            'f': \"564.0\",\n        }],\n [\"mean\",\n{\n            'v': 5403.459283387622,\n            'f': \"5403.459283387622\",\n        },\n{\n            'v': 1621.2457980271008,\n            'f': \"1621.2457980271008\",\n        },\n{\n            'v': 146.41216216216216,\n            'f': \"146.41216216216216\",\n        },\n{\n            'v': 342.0,\n            'f': \"342.0\",\n        },\n{\n            'v': 0.8421985815602837,\n            'f': \"0.8421985815602837\",\n        }],\n [\"std\",\n{\n            'v': 6109.041673387178,\n            'f': \"6109.041673387178\",\n        },\n{\n            'v': 2926.2483692241885,\n            'f': \"2926.2483692241885\",\n        },\n{\n            'v': 85.58732523570545,\n            'f': \"85.58732523570545\",\n        },\n{\n            'v': 65.12040985461256,\n            'f': \"65.12040985461256\",\n        },\n{\n            'v': 0.3648783192364048,\n            'f': \"0.3648783192364048\",\n        }],\n [\"min\",\n{\n            'v': 150.0,\n            'f': \"150.0\",\n        },\n{\n            'v': 0.0,\n            'f': \"0.0\",\n        },\n{\n            'v': 9.0,\n            'f': \"9.0\",\n        },\n{\n            'v': 12.0,\n            'f': \"12.0\",\n        },\n{\n            'v': 0.0,\n            'f': \"0.0\",\n        }],\n [\"25%\",\n{\n            'v': 2877.5,\n            'f': \"2877.5\",\n        },\n{\n            'v': 0.0,\n            'f': \"0.0\",\n        },\n{\n            'v': 100.0,\n            'f': \"100.0\",\n        },\n{\n            'v': 360.0,\n            'f': \"360.0\",\n        },\n{\n            'v': 1.0,\n            'f': \"1.0\",\n        }],\n [\"50%\",\n{\n            'v': 3812.5,\n            'f': \"3812.5\",\n        },\n{\n            'v': 1188.5,\n            'f': \"1188.5\",\n        },\n{\n            'v': 128.0,\n            'f': \"128.0\",\n        },\n{\n            'v': 360.0,\n            'f': \"360.0\",\n        },\n{\n            'v': 1.0,\n            'f': \"1.0\",\n        }],\n [\"75%\",\n{\n            'v': 5795.0,\n            'f': \"5795.0\",\n        },\n{\n            'v': 2297.25,\n            'f': \"2297.25\",\n        },\n{\n            'v': 168.0,\n            'f': \"168.0\",\n        },\n{\n            'v': 360.0,\n            'f': \"360.0\",\n        },\n{\n            'v': 1.0,\n            'f': \"1.0\",\n        }],\n [\"max\",\n{\n            'v': 81000.0,\n            'f': \"81000.0\",\n        },\n{\n            'v': 41667.0,\n            'f': \"41667.0\",\n        },\n{\n            'v': 700.0,\n            'f': \"700.0\",\n        },\n{\n            'v': 480.0,\n            'f': \"480.0\",\n        },\n{\n            'v': 1.0,\n            'f': \"1.0\",\n        }]],\n        columns: [[\"string\", \"index\"], [\"number\", \"ApplicantIncome\"], [\"number\", \"CoapplicantIncome\"], [\"number\", \"LoanAmount\"], [\"number\", \"Loan_Amount_Term\"], [\"number\", \"Credit_History\"]],\n        columnOptions: [{\"width\": \"1px\", \"className\": \"index_column\"}],\n        rowsPerPage: 25,\n        helpUrl: \"https://colab.research.google.com/notebooks/data_table.ipynb\",\n        suppressOutputScrolling: true,\n        minimumWidth: undefined,\n      });\n    "
          },
          "metadata": {},
          "execution_count": 14
        }
      ]
    },
    {
      "cell_type": "code",
      "source": [
        "sns.pairplot(df)"
      ],
      "metadata": {
        "colab": {
          "base_uri": "https://localhost:8080/",
          "height": 920
        },
        "id": "5ImBQ1PvKVzJ",
        "outputId": "b74f6162-1d96-47dc-e44c-3096fce74e9c"
      },
      "execution_count": null,
      "outputs": [
        {
          "output_type": "execute_result",
          "data": {
            "text/plain": [
              "<seaborn.axisgrid.PairGrid at 0x7f756f2dc290>"
            ]
          },
          "metadata": {},
          "execution_count": 15
        },
        {
          "output_type": "display_data",
          "data": {
            "text/plain": [
              "<Figure size 900x900 with 30 Axes>"
            ],
            "image/png": "[encoded data removed]"
          },
          "metadata": {
            "needs_background": "light"
          }
        }
      ]
    },
    {
      "cell_type": "markdown",
      "source": [
        "We can see that there are outliers in the datset \n",
        "\n",
        "Outliers are the values that look different from the other values in the data. Below is a plot highlighting the outliers in ‘red’ and outliers can be seen in both the extremes of data. Outliers in the data may causes problems during model fitting. Outliers may inflate the error metrics which give higher weights to large errors.\n",
        "\n",
        "Here Outliers are present in labels ApplicantIncome and CoapplicantIncome, there are outliers in the categorical labels tooo\n"
      ],
      "metadata": {
        "id": "9vqkxOBCREMP"
      }
    },
    {
      "cell_type": "markdown",
      "source": [
        "##Normalisation \n",
        "Central limit theorem In simple language we can say that maximum amount of data or maximum number of data points are near the Mean of the all data points.\n",
        "To validate he normal distribution of the data:- Mean Mode Median are Equal.\n",
        "We can gen identified the distribution of entire data with the help of Mean and Standard Deviation. When the data is normally distributed maximum data is centralized near the mean value of the data. To get understanding of distribtuion we can simply plot Distribution plot i.e. Simple Histogram.\n",
        "Normally Distributed data represents a Bell Shaped curve. Also Mean, Mode , Median on Normaly Distributed data are equal. One more method is to calculate mean which should be 0 or near to 0 and Standard deviation 1 or near 1.  Normalization is generally required when we are dealing with attributes on a different scale, otherwise, it may lead to a dilution in the effectiveness of an important equally important attribute(on a lower scale) because of other attributes having values on a larger scale. In simple words, when multiple attributes are there but attributes have values on different scales, this may lead to poor data models while performing data mining operations. So they are normalized to bring all the attributes on the same scale. "
      ],
      "metadata": {
        "id": "v-2am_UmRiIc"
      }
    },
    {
      "cell_type": "code",
      "source": [
        "df.LoanAmount.hist()"
      ],
      "metadata": {
        "colab": {
          "base_uri": "https://localhost:8080/",
          "height": 282
        },
        "id": "CyFNnI1kQG60",
        "outputId": "cab2d98b-4aab-4912-c6b1-d94e8b7e088f"
      },
      "execution_count": null,
      "outputs": [
        {
          "output_type": "execute_result",
          "data": {
            "text/plain": [
              "<matplotlib.axes._subplots.AxesSubplot at 0x7f756e7bfe10>"
            ]
          },
          "metadata": {},
          "execution_count": 16
        },
        {
          "output_type": "display_data",
          "data": {
            "text/plain": [
              "<Figure size 432x288 with 1 Axes>"
            ],
            "image/png": "[encoded data removed]"
          },
          "metadata": {
            "needs_background": "light"
          }
        }
      ]
    },
    {
      "cell_type": "markdown",
      "source": [
        "This shows LoanAmount does not fit in Normal Distribution "
      ],
      "metadata": {
        "id": "R2wcISVzQWkY"
      }
    },
    {
      "cell_type": "code",
      "source": [
        "df.CoapplicantIncome.hist()"
      ],
      "metadata": {
        "colab": {
          "base_uri": "https://localhost:8080/",
          "height": 282
        },
        "id": "Vx4xeIOORAQp",
        "outputId": "34fc9c85-562d-41d6-f32a-d1dc55047816"
      },
      "execution_count": null,
      "outputs": [
        {
          "output_type": "execute_result",
          "data": {
            "text/plain": [
              "<matplotlib.axes._subplots.AxesSubplot at 0x7f756cceb6d0>"
            ]
          },
          "metadata": {},
          "execution_count": 17
        },
        {
          "output_type": "display_data",
          "data": {
            "text/plain": [
              "<Figure size 432x288 with 1 Axes>"
            ],
            "image/png": "[encoded data removed]"
          },
          "metadata": {
            "needs_background": "light"
          }
        }
      ]
    },
    {
      "cell_type": "code",
      "source": [
        "df.ApplicantIncome.hist()"
      ],
      "metadata": {
        "colab": {
          "base_uri": "https://localhost:8080/",
          "height": 282
        },
        "id": "65esi26zQ38R",
        "outputId": "8fffb7e1-ee7f-4d59-fab6-ad0b8e2d43e7"
      },
      "execution_count": null,
      "outputs": [
        {
          "output_type": "execute_result",
          "data": {
            "text/plain": [
              "<matplotlib.axes._subplots.AxesSubplot at 0x7f756cc550d0>"
            ]
          },
          "metadata": {},
          "execution_count": 18
        },
        {
          "output_type": "display_data",
          "data": {
            "text/plain": [
              "<Figure size 432x288 with 1 Axes>"
            ],
            "image/png": "[encoded data removed]"
          },
          "metadata": {
            "needs_background": "light"
          }
        }
      ]
    },
    {
      "cell_type": "markdown",
      "source": [
        "So after observing the graphs we have concluded that we need to normalize the data as they are skewed, So for numerical labels we normalize that column "
      ],
      "metadata": {
        "id": "_FuN2WsXV7Xr"
      }
    },
    {
      "cell_type": "markdown",
      "source": [
        "## Data Wrangling \n",
        "\n",
        "Here we prepare the data for modeling that is normalise the data, filling the null values, removing the outliers, removing skewness"
      ],
      "metadata": {
        "id": "EZnO6ulANwtE"
      }
    },
    {
      "cell_type": "code",
      "source": [
        "df.isnull().sum() "
      ],
      "metadata": {
        "colab": {
          "base_uri": "https://localhost:8080/"
        },
        "id": "NFSXsTrJI_x5",
        "outputId": "db79dc08-40eb-470d-d8d8-7953af1e81ca"
      },
      "execution_count": null,
      "outputs": [
        {
          "output_type": "execute_result",
          "data": {
            "text/plain": [
              "Loan_ID               0\n",
              "Gender               13\n",
              "Married               3\n",
              "Dependents           15\n",
              "Education             0\n",
              "Self_Employed        32\n",
              "ApplicantIncome       0\n",
              "CoapplicantIncome     0\n",
              "LoanAmount           22\n",
              "Loan_Amount_Term     14\n",
              "Credit_History       50\n",
              "Property_Area         0\n",
              "Loan_Status           0\n",
              "dtype: int64"
            ]
          },
          "metadata": {},
          "execution_count": 19
        }
      ]
    },
    {
      "cell_type": "code",
      "source": [
        "sns.heatmap(df.isnull())"
      ],
      "metadata": {
        "colab": {
          "base_uri": "https://localhost:8080/",
          "height": 374
        },
        "id": "GH9wmUMsKoR-",
        "outputId": "3ad31767-b021-4b1e-88df-1c17f6d15642"
      },
      "execution_count": null,
      "outputs": [
        {
          "output_type": "execute_result",
          "data": {
            "text/plain": [
              "<matplotlib.axes._subplots.AxesSubplot at 0x7f756cbe6410>"
            ]
          },
          "metadata": {},
          "execution_count": 20
        },
        {
          "output_type": "display_data",
          "data": {
            "text/plain": [
              "<Figure size 432x288 with 2 Axes>"
            ],
            "image/png": "[encoded data removed]"
          },
          "metadata": {
            "needs_background": "light"
          }
        }
      ]
    },
    {
      "cell_type": "markdown",
      "source": [
        "So if we look the above graph we can see that there are some missing values in the data, so we need to either impute the data or just drop the rows which have null/na values but if we do that we will loose a lot of data and also with less data model which we obtain will be robust, so we will try to impute those that is replace null/na with a value."
      ],
      "metadata": {
        "id": "jSG0WMPHKtgS"
      }
    },
    {
      "cell_type": "markdown",
      "source": [
        "If we see in the data we have two types of labels one is numerical and the other is categorical. There are many ways of imputing, we can either replace the null/na values with the mean value of that column or mode of that column but this does not make any sense for categorical labels, so for categorical labels we replace it with most frequent value in that column or this also makes sense that filling the value of next row in that corresponding column. "
      ],
      "metadata": {
        "id": "f2Y7EIsTL1ro"
      }
    },
    {
      "cell_type": "markdown",
      "source": [
        "### Categorical Labels\n",
        "\n",
        "Here we are filling the values of the categorical labels and we fill it by the most frequently occurred value in that column because they are ordinal not numerical"
      ],
      "metadata": {
        "id": "jrcxgFFNX5lL"
      }
    },
    {
      "cell_type": "code",
      "source": [
        "df[\"Gender\"].fillna(df[\"Gender\"].mode()[0],inplace=True)\n",
        "df[\"Married\"].fillna(df[\"Married\"].mode()[0],inplace=True)\n",
        "df[\"Self_Employed\"].fillna(df[\"Self_Employed\"].mode()[0],inplace=True)\n",
        "df[\"Loan_Amount_Term\"].fillna(df[\"Loan_Amount_Term\"].mode()[0],inplace=True)\n",
        "df[\"Dependents\"].fillna(df[\"Dependents\"].mode()[0],inplace=True)\n",
        "df[\"Credit_History\"].fillna(df[\"Credit_History\"].mode()[0],inplace=True)"
      ],
      "metadata": {
        "id": "3q8qDu6_Mvhw"
      },
      "execution_count": null,
      "outputs": []
    },
    {
      "cell_type": "code",
      "source": [
        "#All values of \"Dependents\" columns were of \"str\" form now converting to \"int\" form.\n",
        "df[\"Dependents\"] = df[\"Dependents\"].replace('3+',int(3))\n",
        "df[\"Dependents\"] = df[\"Dependents\"].replace('1',int(1))\n",
        "df[\"Dependents\"] = df[\"Dependents\"].replace('2',int(2))\n",
        "df[\"Dependents\"] = df[\"Dependents\"].replace('0',int(0))"
      ],
      "metadata": {
        "id": "88621_baYieJ"
      },
      "execution_count": null,
      "outputs": []
    },
    {
      "cell_type": "code",
      "source": [
        "# for numerical label replacing with the mean\n",
        "\n",
        "df[\"LoanAmount\"].fillna(df[\"LoanAmount\"].mean(),inplace=True)\n",
        "\n",
        "# check out for median tooo "
      ],
      "metadata": {
        "id": "spvDWBh-ZHdU"
      },
      "execution_count": null,
      "outputs": []
    },
    {
      "cell_type": "code",
      "source": [
        "df.isnull().sum()"
      ],
      "metadata": {
        "colab": {
          "base_uri": "https://localhost:8080/"
        },
        "id": "aW26p6j8ZdEC",
        "outputId": "75b4c01f-f49e-452e-8afc-3a4e84cd5571"
      },
      "execution_count": null,
      "outputs": [
        {
          "output_type": "execute_result",
          "data": {
            "text/plain": [
              "Loan_ID              0\n",
              "Gender               0\n",
              "Married              0\n",
              "Dependents           0\n",
              "Education            0\n",
              "Self_Employed        0\n",
              "ApplicantIncome      0\n",
              "CoapplicantIncome    0\n",
              "LoanAmount           0\n",
              "Loan_Amount_Term     0\n",
              "Credit_History       0\n",
              "Property_Area        0\n",
              "Loan_Status          0\n",
              "dtype: int64"
            ]
          },
          "metadata": {},
          "execution_count": 24
        }
      ]
    },
    {
      "cell_type": "code",
      "source": [
        "sns.heatmap(df.isnull())"
      ],
      "metadata": {
        "colab": {
          "base_uri": "https://localhost:8080/",
          "height": 374
        },
        "id": "gH52eVLcZXYs",
        "outputId": "0dc87235-8164-4413-c266-c0620baf6e8a"
      },
      "execution_count": null,
      "outputs": [
        {
          "output_type": "execute_result",
          "data": {
            "text/plain": [
              "<matplotlib.axes._subplots.AxesSubplot at 0x7f756cb42710>"
            ]
          },
          "metadata": {},
          "execution_count": 25
        },
        {
          "output_type": "display_data",
          "data": {
            "text/plain": [
              "<Figure size 432x288 with 2 Axes>"
            ],
            "image/png": "[encoded data removed]"
          },
          "metadata": {
            "needs_background": "light"
          }
        }
      ]
    },
    {
      "cell_type": "markdown",
      "source": [
        "We can see that there are no null values in the data set right now "
      ],
      "metadata": {
        "id": "htuEO84FbY7b"
      }
    },
    {
      "cell_type": "markdown",
      "source": [
        "Now normalising the data"
      ],
      "metadata": {
        "id": "0PuYYFKmZ7_r"
      }
    },
    {
      "cell_type": "code",
      "source": [
        "df[\"ApplicantIncome\"] = np.log(df[\"ApplicantIncome\"])\n",
        "#As \"CoapplicantIncome\" columns has some \"0\" values we will get log values except \"0\"\n",
        "df[\"CoapplicantIncome\"] = [np.log(i) if i!=0 else 0 for i in df[\"CoapplicantIncome\"]]\n",
        "df[\"LoanAmount\"] = np.log(df[\"LoanAmount\"])"
      ],
      "metadata": {
        "id": "CsDWMcP9Z7Dx"
      },
      "execution_count": null,
      "outputs": []
    },
    {
      "cell_type": "markdown",
      "source": [
        "If we see we have a lot of string values, so we have to convert them into categorical values in order to implement the logistic regression, so we convert the strings into some categorical variables(dummy variables), which can be done using pandas, while doing ML we have to take care of strings, from strings we can not predict anything so we have to encode the strings which we have done now "
      ],
      "metadata": {
        "id": "f9ZHZnQEdCzU"
      }
    },
    {
      "cell_type": "code",
      "source": [
        "df[\"Gender\"] = le.fit_transform(df[\"Gender\"])\n",
        "df[\"Married\"] = le.fit_transform(df[\"Married\"])\n",
        "df[\"Education\"] = le.fit_transform(df[\"Education\"])\n",
        "df[\"Self_Employed\"] = le.fit_transform(df[\"Self_Employed\"])\n",
        "df[\"Property_Area\"] = le.fit_transform(df[\"Property_Area\"])\n",
        "df[\"Loan_Status\"] = le.fit_transform(df[\"Loan_Status\"])\n"
      ],
      "metadata": {
        "id": "lruOIgZSbzFF"
      },
      "execution_count": null,
      "outputs": []
    },
    {
      "cell_type": "code",
      "source": [
        "df.drop(\"Loan_ID\", axis =1)\n",
        "df.head()"
      ],
      "metadata": {
        "colab": {
          "base_uri": "https://localhost:8080/",
          "height": 197
        },
        "id": "FM6C7hIwbQRZ",
        "outputId": "3ef9de6f-e904-4c33-f9b6-f070d569be90"
      },
      "execution_count": null,
      "outputs": [
        {
          "output_type": "execute_result",
          "data": {
            "text/plain": [
              "    Loan_ID  Gender  Married  Dependents  Education  Self_Employed  \\\n",
              "0  LP001002       1        0           0          0              0   \n",
              "1  LP001003       1        1           1          0              0   \n",
              "2  LP001005       1        1           0          0              1   \n",
              "3  LP001006       1        1           0          1              0   \n",
              "4  LP001008       1        0           0          0              0   \n",
              "\n",
              "   ApplicantIncome  CoapplicantIncome  LoanAmount  Loan_Amount_Term  \\\n",
              "0         8.674026           0.000000    4.986426             360.0   \n",
              "1         8.430109           7.318540    4.852030             360.0   \n",
              "2         8.006368           0.000000    4.189655             360.0   \n",
              "3         7.856707           7.765569    4.787492             360.0   \n",
              "4         8.699515           0.000000    4.948760             360.0   \n",
              "\n",
              "   Credit_History  Property_Area  Loan_Status  \n",
              "0             1.0              2            1  \n",
              "1             1.0              0            0  \n",
              "2             1.0              2            1  \n",
              "3             1.0              2            1  \n",
              "4             1.0              2            1  "
            ],
            "text/html": [
              "\n",
              "  <div id=\"df-a949b2b4-c88d-4147-bdb5-e16ad0f7bbef\">\n",
              "    <div class=\"colab-df-container\">\n",
              "      <div>\n",
              "<style scoped>\n",
              "    .dataframe tbody tr th:only-of-type {\n",
              "        vertical-align: middle;\n",
              "    }\n",
              "\n",
              "    .dataframe tbody tr th {\n",
              "        vertical-align: top;\n",
              "    }\n",
              "\n",
              "    .dataframe thead th {\n",
              "        text-align: right;\n",
              "    }\n",
              "</style>\n",
              "<table border=\"1\" class=\"dataframe\">\n",
              "  <thead>\n",
              "    <tr style=\"text-align: right;\">\n",
              "      <th></th>\n",
              "      <th>Loan_ID</th>\n",
              "      <th>Gender</th>\n",
              "      <th>Married</th>\n",
              "      <th>Dependents</th>\n",
              "      <th>Education</th>\n",
              "      <th>Self_Employed</th>\n",
              "      <th>ApplicantIncome</th>\n",
              "      <th>CoapplicantIncome</th>\n",
              "      <th>LoanAmount</th>\n",
              "      <th>Loan_Amount_Term</th>\n",
              "      <th>Credit_History</th>\n",
              "      <th>Property_Area</th>\n",
              "      <th>Loan_Status</th>\n",
              "    </tr>\n",
              "  </thead>\n",
              "  <tbody>\n",
              "    <tr>\n",
              "      <th>0</th>\n",
              "      <td>LP001002</td>\n",
              "      <td>1</td>\n",
              "      <td>0</td>\n",
              "      <td>0</td>\n",
              "      <td>0</td>\n",
              "      <td>0</td>\n",
              "      <td>8.674026</td>\n",
              "      <td>0.000000</td>\n",
              "      <td>4.986426</td>\n",
              "      <td>360.0</td>\n",
              "      <td>1.0</td>\n",
              "      <td>2</td>\n",
              "      <td>1</td>\n",
              "    </tr>\n",
              "    <tr>\n",
              "      <th>1</th>\n",
              "      <td>LP001003</td>\n",
              "      <td>1</td>\n",
              "      <td>1</td>\n",
              "      <td>1</td>\n",
              "      <td>0</td>\n",
              "      <td>0</td>\n",
              "      <td>8.430109</td>\n",
              "      <td>7.318540</td>\n",
              "      <td>4.852030</td>\n",
              "      <td>360.0</td>\n",
              "      <td>1.0</td>\n",
              "      <td>0</td>\n",
              "      <td>0</td>\n",
              "    </tr>\n",
              "    <tr>\n",
              "      <th>2</th>\n",
              "      <td>LP001005</td>\n",
              "      <td>1</td>\n",
              "      <td>1</td>\n",
              "      <td>0</td>\n",
              "      <td>0</td>\n",
              "      <td>1</td>\n",
              "      <td>8.006368</td>\n",
              "      <td>0.000000</td>\n",
              "      <td>4.189655</td>\n",
              "      <td>360.0</td>\n",
              "      <td>1.0</td>\n",
              "      <td>2</td>\n",
              "      <td>1</td>\n",
              "    </tr>\n",
              "    <tr>\n",
              "      <th>3</th>\n",
              "      <td>LP001006</td>\n",
              "      <td>1</td>\n",
              "      <td>1</td>\n",
              "      <td>0</td>\n",
              "      <td>1</td>\n",
              "      <td>0</td>\n",
              "      <td>7.856707</td>\n",
              "      <td>7.765569</td>\n",
              "      <td>4.787492</td>\n",
              "      <td>360.0</td>\n",
              "      <td>1.0</td>\n",
              "      <td>2</td>\n",
              "      <td>1</td>\n",
              "    </tr>\n",
              "    <tr>\n",
              "      <th>4</th>\n",
              "      <td>LP001008</td>\n",
              "      <td>1</td>\n",
              "      <td>0</td>\n",
              "      <td>0</td>\n",
              "      <td>0</td>\n",
              "      <td>0</td>\n",
              "      <td>8.699515</td>\n",
              "      <td>0.000000</td>\n",
              "      <td>4.948760</td>\n",
              "      <td>360.0</td>\n",
              "      <td>1.0</td>\n",
              "      <td>2</td>\n",
              "      <td>1</td>\n",
              "    </tr>\n",
              "  </tbody>\n",
              "</table>\n",
              "</div>\n",
              "      <button class=\"colab-df-convert\" onclick=\"convertToInteractive('df-a949b2b4-c88d-4147-bdb5-e16ad0f7bbef')\"\n",
              "              title=\"Convert this dataframe to an interactive table.\"\n",
              "              style=\"display:none;\">\n",
              "        \n",
              "  <svg xmlns=\"http://www.w3.org/2000/svg\" height=\"24px\"viewBox=\"0 0 24 24\"\n",
              "       width=\"24px\">\n",
              "    <path d=\"M0 0h24v24H0V0z\" fill=\"none\"/>\n",
              "    <path d=\"M18.56 5.44l.94 2.06.94-2.06 2.06-.94-2.06-.94-.94-2.06-.94 2.06-2.06.94zm-11 1L8.5 8.5l.94-2.06 2.06-.94-2.06-.94L8.5 2.5l-.94 2.06-2.06.94zm10 10l.94 2.06.94-2.06 2.06-.94-2.06-.94-.94-2.06-.94 2.06-2.06.94z\"/><path d=\"M17.41 7.96l-1.37-1.37c-.4-.4-.92-.59-1.43-.59-.52 0-1.04.2-1.43.59L10.3 9.45l-7.72 7.72c-.78.78-.78 2.05 0 2.83L4 21.41c.39.39.9.59 1.41.59.51 0 1.02-.2 1.41-.59l7.78-7.78 2.81-2.81c.8-.78.8-2.07 0-2.86zM5.41 20L4 18.59l7.72-7.72 1.47 1.35L5.41 20z\"/>\n",
              "  </svg>\n",
              "      </button>\n",
              "      \n",
              "  <style>\n",
              "    .colab-df-container {\n",
              "      display:flex;\n",
              "      flex-wrap:wrap;\n",
              "      gap: 12px;\n",
              "    }\n",
              "\n",
              "    .colab-df-convert {\n",
              "      background-color: #E8F0FE;\n",
              "      border: none;\n",
              "      border-radius: 50%;\n",
              "      cursor: pointer;\n",
              "      display: none;\n",
              "      fill: #1967D2;\n",
              "      height: 32px;\n",
              "      padding: 0 0 0 0;\n",
              "      width: 32px;\n",
              "    }\n",
              "\n",
              "    .colab-df-convert:hover {\n",
              "      background-color: #E2EBFA;\n",
              "      box-shadow: 0px 1px 2px rgba(60, 64, 67, 0.3), 0px 1px 3px 1px rgba(60, 64, 67, 0.15);\n",
              "      fill: #174EA6;\n",
              "    }\n",
              "\n",
              "    [theme=dark] .colab-df-convert {\n",
              "      background-color: #3B4455;\n",
              "      fill: #D2E3FC;\n",
              "    }\n",
              "\n",
              "    [theme=dark] .colab-df-convert:hover {\n",
              "      background-color: #434B5C;\n",
              "      box-shadow: 0px 1px 3px 1px rgba(0, 0, 0, 0.15);\n",
              "      filter: drop-shadow(0px 1px 2px rgba(0, 0, 0, 0.3));\n",
              "      fill: #FFFFFF;\n",
              "    }\n",
              "  </style>\n",
              "\n",
              "      <script>\n",
              "        const buttonEl =\n",
              "          document.querySelector('#df-a949b2b4-c88d-4147-bdb5-e16ad0f7bbef button.colab-df-convert');\n",
              "        buttonEl.style.display =\n",
              "          google.colab.kernel.accessAllowed ? 'block' : 'none';\n",
              "\n",
              "        async function convertToInteractive(key) {\n",
              "          const element = document.querySelector('#df-a949b2b4-c88d-4147-bdb5-e16ad0f7bbef');\n",
              "          const dataTable =\n",
              "            await google.colab.kernel.invokeFunction('convertToInteractive',\n",
              "                                                     [key], {});\n",
              "          if (!dataTable) return;\n",
              "\n",
              "          const docLinkHtml = 'Like what you see? Visit the ' +\n",
              "            '<a target=\"_blank\" href=https://colab.research.google.com/notebooks/data_table.ipynb>data table notebook</a>'\n",
              "            + ' to learn more about interactive tables.';\n",
              "          element.innerHTML = '';\n",
              "          dataTable['output_type'] = 'display_data';\n",
              "          await google.colab.output.renderOutput(dataTable, element);\n",
              "          const docLink = document.createElement('div');\n",
              "          docLink.innerHTML = docLinkHtml;\n",
              "          element.appendChild(docLink);\n",
              "        }\n",
              "      </script>\n",
              "    </div>\n",
              "  </div>\n",
              "  "
            ],
            "application/vnd.google.colaboratory.module+javascript": "\n      import \"https://ssl.gstatic.com/colaboratory/data_table/f872b2c2305463fd/data_table.js\";\n\n      window.createDataTable({\n        data: [[{\n            'v': 0,\n            'f': \"0\",\n        },\n\"LP001002\",\n{\n            'v': 1,\n            'f': \"1\",\n        },\n{\n            'v': 0,\n            'f': \"0\",\n        },\n{\n            'v': 0,\n            'f': \"0\",\n        },\n{\n            'v': 0,\n            'f': \"0\",\n        },\n{\n            'v': 0,\n            'f': \"0\",\n        },\n{\n            'v': 8.674025985443025,\n            'f': \"8.674025985443025\",\n        },\n{\n            'v': 0.0,\n            'f': \"0.0\",\n        },\n{\n            'v': 4.986425672954842,\n            'f': \"4.986425672954842\",\n        },\n{\n            'v': 360.0,\n            'f': \"360.0\",\n        },\n{\n            'v': 1.0,\n            'f': \"1.0\",\n        },\n{\n            'v': 2,\n            'f': \"2\",\n        },\n{\n            'v': 1,\n            'f': \"1\",\n        }],\n [{\n            'v': 1,\n            'f': \"1\",\n        },\n\"LP001003\",\n{\n            'v': 1,\n            'f': \"1\",\n        },\n{\n            'v': 1,\n            'f': \"1\",\n        },\n{\n            'v': 1,\n            'f': \"1\",\n        },\n{\n            'v': 0,\n            'f': \"0\",\n        },\n{\n            'v': 0,\n            'f': \"0\",\n        },\n{\n            'v': 8.430109084509125,\n            'f': \"8.430109084509125\",\n        },\n{\n            'v': 7.318539548567902,\n            'f': \"7.318539548567902\",\n        },\n{\n            'v': 4.852030263919617,\n            'f': \"4.852030263919617\",\n        },\n{\n            'v': 360.0,\n            'f': \"360.0\",\n        },\n{\n            'v': 1.0,\n            'f': \"1.0\",\n        },\n{\n            'v': 0,\n            'f': \"0\",\n        },\n{\n            'v': 0,\n            'f': \"0\",\n        }],\n [{\n            'v': 2,\n            'f': \"2\",\n        },\n\"LP001005\",\n{\n            'v': 1,\n            'f': \"1\",\n        },\n{\n            'v': 1,\n            'f': \"1\",\n        },\n{\n            'v': 0,\n            'f': \"0\",\n        },\n{\n            'v': 0,\n            'f': \"0\",\n        },\n{\n            'v': 1,\n            'f': \"1\",\n        },\n{\n            'v': 8.006367567650246,\n            'f': \"8.006367567650246\",\n        },\n{\n            'v': 0.0,\n            'f': \"0.0\",\n        },\n{\n            'v': 4.189654742026425,\n            'f': \"4.189654742026425\",\n        },\n{\n            'v': 360.0,\n            'f': \"360.0\",\n        },\n{\n            'v': 1.0,\n            'f': \"1.0\",\n        },\n{\n            'v': 2,\n            'f': \"2\",\n        },\n{\n            'v': 1,\n            'f': \"1\",\n        }],\n [{\n            'v': 3,\n            'f': \"3\",\n        },\n\"LP001006\",\n{\n            'v': 1,\n            'f': \"1\",\n        },\n{\n            'v': 1,\n            'f': \"1\",\n        },\n{\n            'v': 0,\n            'f': \"0\",\n        },\n{\n            'v': 1,\n            'f': \"1\",\n        },\n{\n            'v': 0,\n            'f': \"0\",\n        },\n{\n            'v': 7.8567067930958405,\n            'f': \"7.8567067930958405\",\n        },\n{\n            'v': 7.765569081097317,\n            'f': \"7.765569081097317\",\n        },\n{\n            'v': 4.787491742782046,\n            'f': \"4.787491742782046\",\n        },\n{\n            'v': 360.0,\n            'f': \"360.0\",\n        },\n{\n            'v': 1.0,\n            'f': \"1.0\",\n        },\n{\n            'v': 2,\n            'f': \"2\",\n        },\n{\n            'v': 1,\n            'f': \"1\",\n        }],\n [{\n            'v': 4,\n            'f': \"4\",\n        },\n\"LP001008\",\n{\n            'v': 1,\n            'f': \"1\",\n        },\n{\n            'v': 0,\n            'f': \"0\",\n        },\n{\n            'v': 0,\n            'f': \"0\",\n        },\n{\n            'v': 0,\n            'f': \"0\",\n        },\n{\n            'v': 0,\n            'f': \"0\",\n        },\n{\n            'v': 8.699514748210191,\n            'f': \"8.699514748210191\",\n        },\n{\n            'v': 0.0,\n            'f': \"0.0\",\n        },\n{\n            'v': 4.948759890378168,\n            'f': \"4.948759890378168\",\n        },\n{\n            'v': 360.0,\n            'f': \"360.0\",\n        },\n{\n            'v': 1.0,\n            'f': \"1.0\",\n        },\n{\n            'v': 2,\n            'f': \"2\",\n        },\n{\n            'v': 1,\n            'f': \"1\",\n        }]],\n        columns: [[\"number\", \"index\"], [\"string\", \"Loan_ID\"], [\"number\", \"Gender\"], [\"number\", \"Married\"], [\"number\", \"Dependents\"], [\"number\", \"Education\"], [\"number\", \"Self_Employed\"], [\"number\", \"ApplicantIncome\"], [\"number\", \"CoapplicantIncome\"], [\"number\", \"LoanAmount\"], [\"number\", \"Loan_Amount_Term\"], [\"number\", \"Credit_History\"], [\"number\", \"Property_Area\"], [\"number\", \"Loan_Status\"]],\n        columnOptions: [{\"width\": \"1px\", \"className\": \"index_column\"}],\n        rowsPerPage: 25,\n        helpUrl: \"https://colab.research.google.com/notebooks/data_table.ipynb\",\n        suppressOutputScrolling: true,\n        minimumWidth: undefined,\n      });\n    "
          },
          "metadata": {},
          "execution_count": 28
        }
      ]
    },
    {
      "cell_type": "code",
      "source": [
        "dependents = df[\"Dependents\"]\n",
        "print(dependents)"
      ],
      "metadata": {
        "colab": {
          "base_uri": "https://localhost:8080/"
        },
        "id": "hz9J2fh3eoB1",
        "outputId": "dfe2ceae-aa73-48f3-ea48-6d11f1a214f1"
      },
      "execution_count": null,
      "outputs": [
        {
          "output_type": "stream",
          "name": "stdout",
          "text": [
            "0      0\n",
            "1      1\n",
            "2      0\n",
            "3      0\n",
            "4      0\n",
            "      ..\n",
            "609    0\n",
            "610    3\n",
            "611    1\n",
            "612    2\n",
            "613    0\n",
            "Name: Dependents, Length: 614, dtype: int64\n"
          ]
        }
      ]
    },
    {
      "cell_type": "markdown",
      "source": [
        "Now the data is normalised and also strings are encoded now the data is ready for training the model"
      ],
      "metadata": {
        "id": "FAqdlquTaW94"
      }
    },
    {
      "cell_type": "markdown",
      "source": [
        "## Feature Importance\n",
        "\n",
        "In order to create best predictive model we need to best understand the available data and get most information from the data. In multivariate data it is important to understand the importance of varialbes and how much they are contributing towards the target variable. Such that we can remove unnecessary variables to increase model performance. Many times dataset consists of extra columns which do not identically serve information to classify the data. This leads in wrong assumption of model while training. To understand the importance of the data we are going to use Machine Learning classifiers and then will plot bar graph based on importance. Also XGBoost has built-in feature importance plotting tool which we are going to use. Using more than one classifier will increase the confidence on our assumption of which variables to keep and which to remove."
      ],
      "metadata": {
        "id": "3RrEN435bLiy"
      }
    },
    {
      "cell_type": "code",
      "source": [
        "#Dividing data into Input X variables and Target Y variable\n",
        "X = df.drop([\"Loan_Status\",\"Loan_ID\"],axis=1)\n",
        "y = df[\"Loan_Status\"]"
      ],
      "metadata": {
        "id": "0-nBXazdesom"
      },
      "execution_count": null,
      "outputs": []
    },
    {
      "cell_type": "code",
      "source": [
        "print(\"Feature importance by XGBoost:\\n\")\n",
        "XGBR = XGBClassifier()\n",
        "XGBR.fit(X,y)\n",
        "features = XGBR.feature_importances_\n",
        "Columns = list(X.columns)\n",
        "for i,j in enumerate(features):\n",
        "    print(Columns[i],\":\",j)\n",
        "    print(\"\\n\")\n",
        "plt.figure(figsize=(16,5))\n",
        "plt.title(label=\"XGBC\")\n",
        "plt.bar([x for x in range(len(features))],features)\n",
        "plt.show()\n",
        "\n",
        "plot_importance(XGBR)"
      ],
      "metadata": {
        "colab": {
          "base_uri": "https://localhost:8080/",
          "height": 1000
        },
        "id": "F-LlKxY_ftTR",
        "outputId": "45b44d7b-696a-4798-c1db-253a6f7dc747"
      },
      "execution_count": null,
      "outputs": [
        {
          "output_type": "stream",
          "name": "stdout",
          "text": [
            "Feature importance by XGBoost:\n",
            "\n",
            "Gender : 0.051204063\n",
            "\n",
            "\n",
            "Married : 0.03951264\n",
            "\n",
            "\n",
            "Dependents : 0.03388747\n",
            "\n",
            "\n",
            "Education : 0.0480825\n",
            "\n",
            "\n",
            "Self_Employed : 0.025786212\n",
            "\n",
            "\n",
            "ApplicantIncome : 0.04256763\n",
            "\n",
            "\n",
            "CoapplicantIncome : 0.052825093\n",
            "\n",
            "\n",
            "LoanAmount : 0.04665784\n",
            "\n",
            "\n",
            "Loan_Amount_Term : 0.030101473\n",
            "\n",
            "\n",
            "Credit_History : 0.5847656\n",
            "\n",
            "\n",
            "Property_Area : 0.04460945\n",
            "\n",
            "\n"
          ]
        },
        {
          "output_type": "display_data",
          "data": {
            "text/plain": [
              "<Figure size 1152x360 with 1 Axes>"
            ],
            "image/png": "[encoded data removed]"
          },
          "metadata": {
            "needs_background": "light"
          }
        },
        {
          "output_type": "execute_result",
          "data": {
            "text/plain": [
              "<matplotlib.axes._subplots.AxesSubplot at 0x7f756c97fb10>"
            ]
          },
          "metadata": {},
          "execution_count": 31
        },
        {
          "output_type": "display_data",
          "data": {
            "text/plain": [
              "<Figure size 432x288 with 1 Axes>"
            ],
            "image/png": "[encoded data removed]"
          },
          "metadata": {
            "needs_background": "light"
          }
        }
      ]
    },
    {
      "cell_type": "code",
      "source": [
        "print(\"Feature importance by Random Forest:\\n\")\n",
        "RF = RandomForestClassifier()\n",
        "RF.fit(X,y)\n",
        "features = RF.feature_importances_\n",
        "Columns = list(X.columns)\n",
        "for i,j in enumerate(features):\n",
        "    print(Columns[i],\"->\",j)\n",
        "    print(\"\\n\")\n",
        "plt.figure(figsize=(16,5))\n",
        "plt.title(label=\"RF\")\n",
        "plt.bar([x for x in range(len(features))],features)\n",
        "plt.show()"
      ],
      "metadata": {
        "colab": {
          "base_uri": "https://localhost:8080/",
          "height": 944
        },
        "id": "j6ptyKKEfzJ3",
        "outputId": "e4e04380-5d5e-4ea5-9d5f-8dacc6dbc6f0"
      },
      "execution_count": null,
      "outputs": [
        {
          "output_type": "stream",
          "name": "stdout",
          "text": [
            "Feature importance by Random Forest:\n",
            "\n",
            "Gender -> 0.01822389451220961\n",
            "\n",
            "\n",
            "Married -> 0.025020057743363945\n",
            "\n",
            "\n",
            "Dependents -> 0.048149522315108564\n",
            "\n",
            "\n",
            "Education -> 0.023459778624265636\n",
            "\n",
            "\n",
            "Self_Employed -> 0.020296516295416078\n",
            "\n",
            "\n",
            "ApplicantIncome -> 0.20459699530271658\n",
            "\n",
            "\n",
            "CoapplicantIncome -> 0.12264309076528668\n",
            "\n",
            "\n",
            "LoanAmount -> 0.18655046925634775\n",
            "\n",
            "\n",
            "Loan_Amount_Term -> 0.04383023838046993\n",
            "\n",
            "\n",
            "Credit_History -> 0.25795067597354926\n",
            "\n",
            "\n",
            "Property_Area -> 0.04927876083126591\n",
            "\n",
            "\n"
          ]
        },
        {
          "output_type": "display_data",
          "data": {
            "text/plain": [
              "<Figure size 1152x360 with 1 Axes>"
            ],
            "image/png": "[encoded data removed]"
          },
          "metadata": {
            "needs_background": "light"
          }
        }
      ]
    },
    {
      "cell_type": "code",
      "source": [
        "print(\"Feature importance by Decision Tree:\\n\")\n",
        "DT = DecisionTreeClassifier()\n",
        "DT.fit(X,y)\n",
        "features = DT.feature_importances_\n",
        "Columns = list(X.columns)\n",
        "for i,j in enumerate(features):\n",
        "    print(Columns[i],\":\",j)\n",
        "    print(\"\\n\")\n",
        "plt.figure(figsize=(16,5))\n",
        "plt.title(label=\"DT\")\n",
        "plt.bar([x for x in range(len(features))],features)\n",
        "plt.show()"
      ],
      "metadata": {
        "colab": {
          "base_uri": "https://localhost:8080/",
          "height": 944
        },
        "id": "FdBPFU-5f7B2",
        "outputId": "4e336c52-c352-4564-f4d1-1adc14bf7b8e"
      },
      "execution_count": null,
      "outputs": [
        {
          "output_type": "stream",
          "name": "stdout",
          "text": [
            "Feature importance by Decision Tree:\n",
            "\n",
            "Gender : 0.016636825207393676\n",
            "\n",
            "\n",
            "Married : 0.03707418054684433\n",
            "\n",
            "\n",
            "Dependents : 0.054018074752865484\n",
            "\n",
            "\n",
            "Education : 0.029952879523841697\n",
            "\n",
            "\n",
            "Self_Employed : 0.038781537496515195\n",
            "\n",
            "\n",
            "ApplicantIncome : 0.21128635066741716\n",
            "\n",
            "\n",
            "CoapplicantIncome : 0.12258749061957967\n",
            "\n",
            "\n",
            "LoanAmount : 0.1542498856053682\n",
            "\n",
            "\n",
            "Loan_Amount_Term : 0.014912654156826397\n",
            "\n",
            "\n",
            "Credit_History : 0.2922008668920113\n",
            "\n",
            "\n",
            "Property_Area : 0.02829925453133704\n",
            "\n",
            "\n"
          ]
        },
        {
          "output_type": "display_data",
          "data": {
            "text/plain": [
              "<Figure size 1152x360 with 1 Axes>"
            ],
            "image/png": "[encoded data removed]"
          },
          "metadata": {
            "needs_background": "light"
          }
        }
      ]
    },
    {
      "cell_type": "code",
      "source": [
        "print(\"Feature importance by Suppoprt Vector Machine:\\n\")\n",
        "SVM = SVC(kernel=\"linear\")\n",
        "SVM.fit(X,y)\n",
        "features = SVM.coef_[0]\n",
        "Columns = list(X.columns)\n",
        "for i,j in enumerate(features):\n",
        "    print(Columns[i],\":\",j)\n",
        "    print(\"\\n\")\n",
        "plt.figure(figsize=(16,5))\n",
        "plt.bar([x for x in range(len(features))],features)\n",
        "plt.show()"
      ],
      "metadata": {
        "colab": {
          "base_uri": "https://localhost:8080/",
          "height": 928
        },
        "id": "zVe97lcgf_YV",
        "outputId": "5d9dc0e3-2a62-4b2b-bba4-c54b0d6650d1"
      },
      "execution_count": null,
      "outputs": [
        {
          "output_type": "stream",
          "name": "stdout",
          "text": [
            "Feature importance by Suppoprt Vector Machine:\n",
            "\n",
            "Gender : -0.001811934484730493\n",
            "\n",
            "\n",
            "Married : 0.007487651608078849\n",
            "\n",
            "\n",
            "Dependents : 0.0052430217717969185\n",
            "\n",
            "\n",
            "Education : -0.00604162119865137\n",
            "\n",
            "\n",
            "Self_Employed : 0.0018119344847518093\n",
            "\n",
            "\n",
            "ApplicantIncome : 0.005549602227112871\n",
            "\n",
            "\n",
            "CoapplicantIncome : 0.000752630268774368\n",
            "\n",
            "\n",
            "LoanAmount : -0.01305614633934482\n",
            "\n",
            "\n",
            "Loan_Amount_Term : 8.874054947227705e-05\n",
            "\n",
            "\n",
            "Credit_History : 2.08055549411758\n",
            "\n",
            "\n",
            "Property_Area : -0.0018702018746949989\n",
            "\n",
            "\n"
          ]
        },
        {
          "output_type": "display_data",
          "data": {
            "text/plain": [
              "<Figure size 1152x360 with 1 Axes>"
            ],
            "image/png": "[encoded data removed]"
          },
          "metadata": {
            "needs_background": "light"
          }
        }
      ]
    },
    {
      "cell_type": "code",
      "source": [
        "print(\"Feature importance by Logistic Regression:\\n\")\n",
        "LOGC = LogisticRegression()\n",
        "LOGC.fit(X,y)\n",
        "features = LOGC.coef_[0]\n",
        "Columns = list(X.columns)\n",
        "for i,j in enumerate(features):\n",
        "    print(Columns[i],\":\",j)\n",
        "    print(\"\\n\")\n",
        "plt.figure(figsize=(16,5))\n",
        "plt.title(label=\"LOGC\")\n",
        "plt.bar([x for x in range(len(features))],features)\n",
        "plt.show()"
      ],
      "metadata": {
        "colab": {
          "base_uri": "https://localhost:8080/",
          "height": 944
        },
        "id": "t0BPRz5UgE3v",
        "outputId": "a8e7e3d2-a1c4-4d9b-a515-cbb863ff7541"
      },
      "execution_count": null,
      "outputs": [
        {
          "output_type": "stream",
          "name": "stdout",
          "text": [
            "Feature importance by Logistic Regression:\n",
            "\n",
            "Gender : -0.16303972790479157\n",
            "\n",
            "\n",
            "Married : 0.45484440784727764\n",
            "\n",
            "\n",
            "Dependents : 0.04701961689944757\n",
            "\n",
            "\n",
            "Education : -0.4269474507002776\n",
            "\n",
            "\n",
            "Self_Employed : 0.04941691564923764\n",
            "\n",
            "\n",
            "ApplicantIncome : 0.11510638513821161\n",
            "\n",
            "\n",
            "CoapplicantIncome : 0.04462222462395291\n",
            "\n",
            "\n",
            "LoanAmount : -0.5742823866697617\n",
            "\n",
            "\n",
            "Loan_Amount_Term : -0.0010292370932304547\n",
            "\n",
            "\n",
            "Credit_History : 3.246932636595751\n",
            "\n",
            "\n",
            "Property_Area : 0.0737919890954136\n",
            "\n",
            "\n"
          ]
        },
        {
          "output_type": "display_data",
          "data": {
            "text/plain": [
              "<Figure size 1152x360 with 1 Axes>"
            ],
            "image/png": "[encoded data removed]"
          },
          "metadata": {
            "needs_background": "light"
          }
        }
      ]
    },
    {
      "cell_type": "markdown",
      "source": [
        "So from the feature importance we can see that Credit History, ApplicantIncome, CoapplicantIncome, LoanAmount are the most important features"
      ],
      "metadata": {
        "id": "qMT2wMA0gK89"
      }
    },
    {
      "cell_type": "code",
      "source": [
        "#Heat map of dataset with relative importance\n",
        "matrix = df.drop([\"Gender\",\"Married\",\"Dependents\",\"Education\",\"Self_Employed\"],axis=1).corr()\n",
        "\n",
        "\n",
        "plt.figure(figsize=(18,8))\n",
        "sns.heatmap(matrix,vmax=0.8,square=True,cmap=\"BuPu\", annot = True)"
      ],
      "metadata": {
        "colab": {
          "base_uri": "https://localhost:8080/",
          "height": 591
        },
        "id": "c5v37RBdgThS",
        "outputId": "5732bebe-4378-4fa2-9772-9a7c409f5474"
      },
      "execution_count": null,
      "outputs": [
        {
          "output_type": "execute_result",
          "data": {
            "text/plain": [
              "<matplotlib.axes._subplots.AxesSubplot at 0x7f756e549750>"
            ]
          },
          "metadata": {},
          "execution_count": 36
        },
        {
          "output_type": "display_data",
          "data": {
            "text/plain": [
              "<Figure size 1296x576 with 2 Axes>"
            ],
            "image/png": "[encoded data removed]"
          },
          "metadata": {
            "needs_background": "light"
          }
        }
      ]
    },
    {
      "cell_type": "markdown",
      "source": [
        "It seems Application income and Loan Amount is correlated , also Coapplication income correlated with Loan Aount then Credit history is corrleated with Loan Status"
      ],
      "metadata": {
        "id": "ioFPoKfRiTxO"
      }
    },
    {
      "cell_type": "code",
      "source": [
        "A = list(df.Loan_Status).count(1)\n",
        "B = list(df.Loan_Status).count(0)\n",
        "print(\"Count of 1 (Approved) : \",A,\"\\nCount of 0 (Rejected) : \",B)"
      ],
      "metadata": {
        "colab": {
          "base_uri": "https://localhost:8080/"
        },
        "id": "_bMDBtvuiRS7",
        "outputId": "aa813c4d-a137-44f3-9845-c8eb3e98ce7c"
      },
      "execution_count": null,
      "outputs": [
        {
          "output_type": "stream",
          "name": "stdout",
          "text": [
            "Count of 1 (Approved) :  422 \n",
            "Count of 0 (Rejected) :  192\n"
          ]
        }
      ]
    },
    {
      "cell_type": "markdown",
      "source": [
        "It seems that data is highly Imbalanced. When the target classes does not have equal count then the data is considered as imbalanced data. From above graph it seems that dataset contains more records with Approved Loan_Status than Rejected Loan_Status. 422 over 192 If data would have maximum of 20-30 records difference that time this imabalnced would be ignorable. Which will lead to make wrong assumptions by model and also model will be biased after training. We will overcome this issue by balancing the data. To overcome this problem we will balance the data using resampling technique with Upsample and Downsample."
      ],
      "metadata": {
        "id": "qPlS6mktiygD"
      }
    },
    {
      "cell_type": "code",
      "source": [
        "data = df.copy()\n",
        "data.head()"
      ],
      "metadata": {
        "colab": {
          "base_uri": "https://localhost:8080/",
          "height": 197
        },
        "id": "fSbwcTMtjB6H",
        "outputId": "5b6f9442-91af-4f63-a62b-78864acc3246"
      },
      "execution_count": null,
      "outputs": [
        {
          "output_type": "execute_result",
          "data": {
            "text/plain": [
              "    Loan_ID  Gender  Married  Dependents  Education  Self_Employed  \\\n",
              "0  LP001002       1        0           0          0              0   \n",
              "1  LP001003       1        1           1          0              0   \n",
              "2  LP001005       1        1           0          0              1   \n",
              "3  LP001006       1        1           0          1              0   \n",
              "4  LP001008       1        0           0          0              0   \n",
              "\n",
              "   ApplicantIncome  CoapplicantIncome  LoanAmount  Loan_Amount_Term  \\\n",
              "0         8.674026           0.000000    4.986426             360.0   \n",
              "1         8.430109           7.318540    4.852030             360.0   \n",
              "2         8.006368           0.000000    4.189655             360.0   \n",
              "3         7.856707           7.765569    4.787492             360.0   \n",
              "4         8.699515           0.000000    4.948760             360.0   \n",
              "\n",
              "   Credit_History  Property_Area  Loan_Status  \n",
              "0             1.0              2            1  \n",
              "1             1.0              0            0  \n",
              "2             1.0              2            1  \n",
              "3             1.0              2            1  \n",
              "4             1.0              2            1  "
            ],
            "text/html": [
              "\n",
              "  <div id=\"df-916708dd-c6dd-4704-93a3-fb7e1ee04b24\">\n",
              "    <div class=\"colab-df-container\">\n",
              "      <div>\n",
              "<style scoped>\n",
              "    .dataframe tbody tr th:only-of-type {\n",
              "        vertical-align: middle;\n",
              "    }\n",
              "\n",
              "    .dataframe tbody tr th {\n",
              "        vertical-align: top;\n",
              "    }\n",
              "\n",
              "    .dataframe thead th {\n",
              "        text-align: right;\n",
              "    }\n",
              "</style>\n",
              "<table border=\"1\" class=\"dataframe\">\n",
              "  <thead>\n",
              "    <tr style=\"text-align: right;\">\n",
              "      <th></th>\n",
              "      <th>Loan_ID</th>\n",
              "      <th>Gender</th>\n",
              "      <th>Married</th>\n",
              "      <th>Dependents</th>\n",
              "      <th>Education</th>\n",
              "      <th>Self_Employed</th>\n",
              "      <th>ApplicantIncome</th>\n",
              "      <th>CoapplicantIncome</th>\n",
              "      <th>LoanAmount</th>\n",
              "      <th>Loan_Amount_Term</th>\n",
              "      <th>Credit_History</th>\n",
              "      <th>Property_Area</th>\n",
              "      <th>Loan_Status</th>\n",
              "    </tr>\n",
              "  </thead>\n",
              "  <tbody>\n",
              "    <tr>\n",
              "      <th>0</th>\n",
              "      <td>LP001002</td>\n",
              "      <td>1</td>\n",
              "      <td>0</td>\n",
              "      <td>0</td>\n",
              "      <td>0</td>\n",
              "      <td>0</td>\n",
              "      <td>8.674026</td>\n",
              "      <td>0.000000</td>\n",
              "      <td>4.986426</td>\n",
              "      <td>360.0</td>\n",
              "      <td>1.0</td>\n",
              "      <td>2</td>\n",
              "      <td>1</td>\n",
              "    </tr>\n",
              "    <tr>\n",
              "      <th>1</th>\n",
              "      <td>LP001003</td>\n",
              "      <td>1</td>\n",
              "      <td>1</td>\n",
              "      <td>1</td>\n",
              "      <td>0</td>\n",
              "      <td>0</td>\n",
              "      <td>8.430109</td>\n",
              "      <td>7.318540</td>\n",
              "      <td>4.852030</td>\n",
              "      <td>360.0</td>\n",
              "      <td>1.0</td>\n",
              "      <td>0</td>\n",
              "      <td>0</td>\n",
              "    </tr>\n",
              "    <tr>\n",
              "      <th>2</th>\n",
              "      <td>LP001005</td>\n",
              "      <td>1</td>\n",
              "      <td>1</td>\n",
              "      <td>0</td>\n",
              "      <td>0</td>\n",
              "      <td>1</td>\n",
              "      <td>8.006368</td>\n",
              "      <td>0.000000</td>\n",
              "      <td>4.189655</td>\n",
              "      <td>360.0</td>\n",
              "      <td>1.0</td>\n",
              "      <td>2</td>\n",
              "      <td>1</td>\n",
              "    </tr>\n",
              "    <tr>\n",
              "      <th>3</th>\n",
              "      <td>LP001006</td>\n",
              "      <td>1</td>\n",
              "      <td>1</td>\n",
              "      <td>0</td>\n",
              "      <td>1</td>\n",
              "      <td>0</td>\n",
              "      <td>7.856707</td>\n",
              "      <td>7.765569</td>\n",
              "      <td>4.787492</td>\n",
              "      <td>360.0</td>\n",
              "      <td>1.0</td>\n",
              "      <td>2</td>\n",
              "      <td>1</td>\n",
              "    </tr>\n",
              "    <tr>\n",
              "      <th>4</th>\n",
              "      <td>LP001008</td>\n",
              "      <td>1</td>\n",
              "      <td>0</td>\n",
              "      <td>0</td>\n",
              "      <td>0</td>\n",
              "      <td>0</td>\n",
              "      <td>8.699515</td>\n",
              "      <td>0.000000</td>\n",
              "      <td>4.948760</td>\n",
              "      <td>360.0</td>\n",
              "      <td>1.0</td>\n",
              "      <td>2</td>\n",
              "      <td>1</td>\n",
              "    </tr>\n",
              "  </tbody>\n",
              "</table>\n",
              "</div>\n",
              "      <button class=\"colab-df-convert\" onclick=\"convertToInteractive('df-916708dd-c6dd-4704-93a3-fb7e1ee04b24')\"\n",
              "              title=\"Convert this dataframe to an interactive table.\"\n",
              "              style=\"display:none;\">\n",
              "        \n",
              "  <svg xmlns=\"http://www.w3.org/2000/svg\" height=\"24px\"viewBox=\"0 0 24 24\"\n",
              "       width=\"24px\">\n",
              "    <path d=\"M0 0h24v24H0V0z\" fill=\"none\"/>\n",
              "    <path d=\"M18.56 5.44l.94 2.06.94-2.06 2.06-.94-2.06-.94-.94-2.06-.94 2.06-2.06.94zm-11 1L8.5 8.5l.94-2.06 2.06-.94-2.06-.94L8.5 2.5l-.94 2.06-2.06.94zm10 10l.94 2.06.94-2.06 2.06-.94-2.06-.94-.94-2.06-.94 2.06-2.06.94z\"/><path d=\"M17.41 7.96l-1.37-1.37c-.4-.4-.92-.59-1.43-.59-.52 0-1.04.2-1.43.59L10.3 9.45l-7.72 7.72c-.78.78-.78 2.05 0 2.83L4 21.41c.39.39.9.59 1.41.59.51 0 1.02-.2 1.41-.59l7.78-7.78 2.81-2.81c.8-.78.8-2.07 0-2.86zM5.41 20L4 18.59l7.72-7.72 1.47 1.35L5.41 20z\"/>\n",
              "  </svg>\n",
              "      </button>\n",
              "      \n",
              "  <style>\n",
              "    .colab-df-container {\n",
              "      display:flex;\n",
              "      flex-wrap:wrap;\n",
              "      gap: 12px;\n",
              "    }\n",
              "\n",
              "    .colab-df-convert {\n",
              "      background-color: #E8F0FE;\n",
              "      border: none;\n",
              "      border-radius: 50%;\n",
              "      cursor: pointer;\n",
              "      display: none;\n",
              "      fill: #1967D2;\n",
              "      height: 32px;\n",
              "      padding: 0 0 0 0;\n",
              "      width: 32px;\n",
              "    }\n",
              "\n",
              "    .colab-df-convert:hover {\n",
              "      background-color: #E2EBFA;\n",
              "      box-shadow: 0px 1px 2px rgba(60, 64, 67, 0.3), 0px 1px 3px 1px rgba(60, 64, 67, 0.15);\n",
              "      fill: #174EA6;\n",
              "    }\n",
              "\n",
              "    [theme=dark] .colab-df-convert {\n",
              "      background-color: #3B4455;\n",
              "      fill: #D2E3FC;\n",
              "    }\n",
              "\n",
              "    [theme=dark] .colab-df-convert:hover {\n",
              "      background-color: #434B5C;\n",
              "      box-shadow: 0px 1px 3px 1px rgba(0, 0, 0, 0.15);\n",
              "      filter: drop-shadow(0px 1px 2px rgba(0, 0, 0, 0.3));\n",
              "      fill: #FFFFFF;\n",
              "    }\n",
              "  </style>\n",
              "\n",
              "      <script>\n",
              "        const buttonEl =\n",
              "          document.querySelector('#df-916708dd-c6dd-4704-93a3-fb7e1ee04b24 button.colab-df-convert');\n",
              "        buttonEl.style.display =\n",
              "          google.colab.kernel.accessAllowed ? 'block' : 'none';\n",
              "\n",
              "        async function convertToInteractive(key) {\n",
              "          const element = document.querySelector('#df-916708dd-c6dd-4704-93a3-fb7e1ee04b24');\n",
              "          const dataTable =\n",
              "            await google.colab.kernel.invokeFunction('convertToInteractive',\n",
              "                                                     [key], {});\n",
              "          if (!dataTable) return;\n",
              "\n",
              "          const docLinkHtml = 'Like what you see? Visit the ' +\n",
              "            '<a target=\"_blank\" href=https://colab.research.google.com/notebooks/data_table.ipynb>data table notebook</a>'\n",
              "            + ' to learn more about interactive tables.';\n",
              "          element.innerHTML = '';\n",
              "          dataTable['output_type'] = 'display_data';\n",
              "          await google.colab.output.renderOutput(dataTable, element);\n",
              "          const docLink = document.createElement('div');\n",
              "          docLink.innerHTML = docLinkHtml;\n",
              "          element.appendChild(docLink);\n",
              "        }\n",
              "      </script>\n",
              "    </div>\n",
              "  </div>\n",
              "  "
            ],
            "application/vnd.google.colaboratory.module+javascript": "\n      import \"https://ssl.gstatic.com/colaboratory/data_table/f872b2c2305463fd/data_table.js\";\n\n      window.createDataTable({\n        data: [[{\n            'v': 0,\n            'f': \"0\",\n        },\n\"LP001002\",\n{\n            'v': 1,\n            'f': \"1\",\n        },\n{\n            'v': 0,\n            'f': \"0\",\n        },\n{\n            'v': 0,\n            'f': \"0\",\n        },\n{\n            'v': 0,\n            'f': \"0\",\n        },\n{\n            'v': 0,\n            'f': \"0\",\n        },\n{\n            'v': 8.674025985443025,\n            'f': \"8.674025985443025\",\n        },\n{\n            'v': 0.0,\n            'f': \"0.0\",\n        },\n{\n            'v': 4.986425672954842,\n            'f': \"4.986425672954842\",\n        },\n{\n            'v': 360.0,\n            'f': \"360.0\",\n        },\n{\n            'v': 1.0,\n            'f': \"1.0\",\n        },\n{\n            'v': 2,\n            'f': \"2\",\n        },\n{\n            'v': 1,\n            'f': \"1\",\n        }],\n [{\n            'v': 1,\n            'f': \"1\",\n        },\n\"LP001003\",\n{\n            'v': 1,\n            'f': \"1\",\n        },\n{\n            'v': 1,\n            'f': \"1\",\n        },\n{\n            'v': 1,\n            'f': \"1\",\n        },\n{\n            'v': 0,\n            'f': \"0\",\n        },\n{\n            'v': 0,\n            'f': \"0\",\n        },\n{\n            'v': 8.430109084509125,\n            'f': \"8.430109084509125\",\n        },\n{\n            'v': 7.318539548567902,\n            'f': \"7.318539548567902\",\n        },\n{\n            'v': 4.852030263919617,\n            'f': \"4.852030263919617\",\n        },\n{\n            'v': 360.0,\n            'f': \"360.0\",\n        },\n{\n            'v': 1.0,\n            'f': \"1.0\",\n        },\n{\n            'v': 0,\n            'f': \"0\",\n        },\n{\n            'v': 0,\n            'f': \"0\",\n        }],\n [{\n            'v': 2,\n            'f': \"2\",\n        },\n\"LP001005\",\n{\n            'v': 1,\n            'f': \"1\",\n        },\n{\n            'v': 1,\n            'f': \"1\",\n        },\n{\n            'v': 0,\n            'f': \"0\",\n        },\n{\n            'v': 0,\n            'f': \"0\",\n        },\n{\n            'v': 1,\n            'f': \"1\",\n        },\n{\n            'v': 8.006367567650246,\n            'f': \"8.006367567650246\",\n        },\n{\n            'v': 0.0,\n            'f': \"0.0\",\n        },\n{\n            'v': 4.189654742026425,\n            'f': \"4.189654742026425\",\n        },\n{\n            'v': 360.0,\n            'f': \"360.0\",\n        },\n{\n            'v': 1.0,\n            'f': \"1.0\",\n        },\n{\n            'v': 2,\n            'f': \"2\",\n        },\n{\n            'v': 1,\n            'f': \"1\",\n        }],\n [{\n            'v': 3,\n            'f': \"3\",\n        },\n\"LP001006\",\n{\n            'v': 1,\n            'f': \"1\",\n        },\n{\n            'v': 1,\n            'f': \"1\",\n        },\n{\n            'v': 0,\n            'f': \"0\",\n        },\n{\n            'v': 1,\n            'f': \"1\",\n        },\n{\n            'v': 0,\n            'f': \"0\",\n        },\n{\n            'v': 7.8567067930958405,\n            'f': \"7.8567067930958405\",\n        },\n{\n            'v': 7.765569081097317,\n            'f': \"7.765569081097317\",\n        },\n{\n            'v': 4.787491742782046,\n            'f': \"4.787491742782046\",\n        },\n{\n            'v': 360.0,\n            'f': \"360.0\",\n        },\n{\n            'v': 1.0,\n            'f': \"1.0\",\n        },\n{\n            'v': 2,\n            'f': \"2\",\n        },\n{\n            'v': 1,\n            'f': \"1\",\n        }],\n [{\n            'v': 4,\n            'f': \"4\",\n        },\n\"LP001008\",\n{\n            'v': 1,\n            'f': \"1\",\n        },\n{\n            'v': 0,\n            'f': \"0\",\n        },\n{\n            'v': 0,\n            'f': \"0\",\n        },\n{\n            'v': 0,\n            'f': \"0\",\n        },\n{\n            'v': 0,\n            'f': \"0\",\n        },\n{\n            'v': 8.699514748210191,\n            'f': \"8.699514748210191\",\n        },\n{\n            'v': 0.0,\n            'f': \"0.0\",\n        },\n{\n            'v': 4.948759890378168,\n            'f': \"4.948759890378168\",\n        },\n{\n            'v': 360.0,\n            'f': \"360.0\",\n        },\n{\n            'v': 1.0,\n            'f': \"1.0\",\n        },\n{\n            'v': 2,\n            'f': \"2\",\n        },\n{\n            'v': 1,\n            'f': \"1\",\n        }]],\n        columns: [[\"number\", \"index\"], [\"string\", \"Loan_ID\"], [\"number\", \"Gender\"], [\"number\", \"Married\"], [\"number\", \"Dependents\"], [\"number\", \"Education\"], [\"number\", \"Self_Employed\"], [\"number\", \"ApplicantIncome\"], [\"number\", \"CoapplicantIncome\"], [\"number\", \"LoanAmount\"], [\"number\", \"Loan_Amount_Term\"], [\"number\", \"Credit_History\"], [\"number\", \"Property_Area\"], [\"number\", \"Loan_Status\"]],\n        columnOptions: [{\"width\": \"1px\", \"className\": \"index_column\"}],\n        rowsPerPage: 25,\n        helpUrl: \"https://colab.research.google.com/notebooks/data_table.ipynb\",\n        suppressOutputScrolling: true,\n        minimumWidth: undefined,\n      });\n    "
          },
          "metadata": {},
          "execution_count": 38
        }
      ]
    },
    {
      "cell_type": "code",
      "source": [
        "#Getting seperated data with 1 and 0 status.\n",
        "df_majority = data[data.Loan_Status==1]\n",
        "df_minority = data[data.Loan_Status==0]\n",
        "\n",
        "#Here we are downsampling the Majority Class Data Points. \n",
        "#i.e. We will get equal amount of datapoint as Minority class from Majority class\n",
        "\n",
        "df_majority_downsampled = resample(df_majority,replace=False,n_samples=192,random_state=123)\n",
        "df_downsampled = pd.concat([df_majority_downsampled,df_minority])\n",
        "print(\"Downsampled data: \\n\",df_downsampled.Loan_Status.value_counts())\n",
        "print(\"\\n\")\n",
        "#Here we are upsampling the Minority Class Data Points. \n",
        "#i.e. We will get equal amount of datapoint as Majority class from Minority class\n",
        "df_minority_upsampled = resample(df_minority,replace=True,n_samples=422,random_state=123)\n",
        "df_upsampled = pd.concat([df_majority,df_minority_upsampled])\n",
        "print(\"Upsampled data: \\n\",df_upsampled.Loan_Status.value_counts())"
      ],
      "metadata": {
        "colab": {
          "base_uri": "https://localhost:8080/"
        },
        "id": "Zi5LsoAHksYn",
        "outputId": "bdb00c0d-1192-4de8-9609-2ee78c41c11f"
      },
      "execution_count": null,
      "outputs": [
        {
          "output_type": "stream",
          "name": "stdout",
          "text": [
            "Downsampled data: \n",
            " 1    192\n",
            "0    192\n",
            "Name: Loan_Status, dtype: int64\n",
            "\n",
            "\n",
            "Upsampled data: \n",
            " 1    422\n",
            "0    422\n",
            "Name: Loan_Status, dtype: int64\n"
          ]
        }
      ]
    },
    {
      "cell_type": "markdown",
      "source": [
        "## Modeling \n",
        "\n",
        "In order to gain maximum posible accuracy one needs to conduct more experiments.\n",
        "\n",
        "We will pass data one by one with different state i.e.\n",
        "\n",
        "-Only Scaled data\n",
        "\n",
        "-Scaled + Down Sampled Data\n",
        "\n",
        "-Scaled + Up Sampled Data\n",
        "\n",
        "-Scaled + Up Sampled Data + Selected feature with respective importance."
      ],
      "metadata": {
        "id": "NBQ96ZF0mWzj"
      }
    },
    {
      "cell_type": "markdown",
      "source": [
        "### Experiment1 Only Scaled Data \n"
      ],
      "metadata": {
        "id": "ddN7-HwMyXdB"
      }
    },
    {
      "cell_type": "code",
      "source": [
        "new_data = df.copy()"
      ],
      "metadata": {
        "id": "B8piB4vhyzBu"
      },
      "execution_count": null,
      "outputs": []
    },
    {
      "cell_type": "code",
      "source": [
        "X = new_data.drop([\"Loan_Status\",\"Loan_ID\"],axis=1)\n",
        "y = new_data[\"Loan_Status\"]"
      ],
      "metadata": {
        "id": "VWBOGt3dy3c0"
      },
      "execution_count": null,
      "outputs": []
    },
    {
      "cell_type": "code",
      "source": [
        "X_train , X_test , y_train , y_test = train_test_split(X,y,test_size=0.25,random_state=0)"
      ],
      "metadata": {
        "id": "Y5z0D5KRzJkm"
      },
      "execution_count": null,
      "outputs": []
    },
    {
      "cell_type": "code",
      "source": [
        "#Scaling data \n",
        "\n",
        "StSc = StandardScaler()\n",
        "X_train  = StSc.fit_transform(X_train)\n",
        "X_test  = StSc.fit_transform(X_test)\n"
      ],
      "metadata": {
        "id": "fvZ874MUzQUS"
      },
      "execution_count": null,
      "outputs": []
    },
    {
      "cell_type": "code",
      "source": [
        "#Voting ensemble method. Combining all tree based algorithms.\n",
        "models = []\n",
        "models.append((\"XGB\",XGBClassifier()))\n",
        "models.append((\"RF\",RandomForestClassifier()))\n",
        "models.append((\"DT\",DecisionTreeClassifier()))\n",
        "models.append((\"ADB\",AdaBoostClassifier()))\n",
        "models.append((\"GB\",GradientBoostingClassifier()))"
      ],
      "metadata": {
        "id": "DGdg8qGTzceQ"
      },
      "execution_count": null,
      "outputs": []
    },
    {
      "cell_type": "code",
      "source": [
        "ensemble = VotingClassifier(estimators=models)\n",
        "ensemble.fit(X_train,y_train)\n",
        "y_pred = ensemble.predict(X_test) \n",
        "print(classification_report(y_pred,y_test))\n",
        "print(\"Voting Ensemble: \",accuracy_score(y_pred,y_test))"
      ],
      "metadata": {
        "colab": {
          "base_uri": "https://localhost:8080/"
        },
        "id": "MEtfvEsLzkOK",
        "outputId": "da20b97f-a872-4c3a-c310-a7b8166dd44f"
      },
      "execution_count": null,
      "outputs": [
        {
          "output_type": "stream",
          "name": "stdout",
          "text": [
            "              precision    recall  f1-score   support\n",
            "\n",
            "           0       0.44      0.83      0.58        23\n",
            "           1       0.96      0.82      0.88       131\n",
            "\n",
            "    accuracy                           0.82       154\n",
            "   macro avg       0.70      0.82      0.73       154\n",
            "weighted avg       0.89      0.82      0.84       154\n",
            "\n",
            "Voting Ensemble:  0.8181818181818182\n"
          ]
        }
      ]
    },
    {
      "cell_type": "code",
      "source": [
        "SVM = SVC(kernel=\"linear\",class_weight=\"balanced\",probability=True)\n",
        "SVM.fit(X_train,y_train)\n",
        "y_pred = SVM.predict(X_test)\n",
        "print(classification_report(y_pred,y_test))\n",
        "print(\"SVM: \",accuracy_score(y_pred,y_test))"
      ],
      "metadata": {
        "colab": {
          "base_uri": "https://localhost:8080/"
        },
        "id": "vnHuaonRzqBw",
        "outputId": "bfd9f6a5-e906-4e35-beca-af3569619b39"
      },
      "execution_count": null,
      "outputs": [
        {
          "output_type": "stream",
          "name": "stdout",
          "text": [
            "              precision    recall  f1-score   support\n",
            "\n",
            "           0       0.44      0.90      0.59        21\n",
            "           1       0.98      0.82      0.89       133\n",
            "\n",
            "    accuracy                           0.83       154\n",
            "   macro avg       0.71      0.86      0.74       154\n",
            "weighted avg       0.91      0.83      0.85       154\n",
            "\n",
            "SVM:  0.8311688311688312\n"
          ]
        }
      ]
    },
    {
      "cell_type": "code",
      "source": [
        "XGBC = XGBClassifier(learning_rate =0.1,n_estimators=10000,max_depth=4,min_child_weight=6,gamma=0,subsample=0.6,colsample_bytree=0.8,reg_alpha=0.005, objective= 'binary:logistic', nthread=2, scale_pos_weight=1, seed=27)\n",
        "XGBC.fit(X_train,y_train)\n",
        "y_pred = XGBC.predict(X_test)\n",
        "print(classification_report(y_pred,y_test))\n",
        "print(\"XGBoost: \",accuracy_score(y_pred,y_test))"
      ],
      "metadata": {
        "colab": {
          "base_uri": "https://localhost:8080/"
        },
        "id": "9ZIvmh5CzsJi",
        "outputId": "05ad7a78-072c-4ec0-8818-cef91f3eaff3"
      },
      "execution_count": null,
      "outputs": [
        {
          "output_type": "stream",
          "name": "stdout",
          "text": [
            "              precision    recall  f1-score   support\n",
            "\n",
            "           0       0.23      0.34      0.28        29\n",
            "           1       0.83      0.74      0.78       125\n",
            "\n",
            "    accuracy                           0.66       154\n",
            "   macro avg       0.53      0.54      0.53       154\n",
            "weighted avg       0.72      0.66      0.69       154\n",
            "\n",
            "XGBoost:  0.6623376623376623\n"
          ]
        }
      ]
    },
    {
      "cell_type": "code",
      "source": [
        "Model1 = RandomForestClassifier(n_estimators=1000,random_state=0,n_jobs=1000,max_depth=70,bootstrap=True)\n",
        "Model1.fit(X_train,y_train)\n",
        "y_pred = Model1.predict(X_test)\n",
        "print(classification_report(y_pred,y_test))\n",
        "print(\"RandomForestClassifier: \",accuracy_score(y_pred,y_test))"
      ],
      "metadata": {
        "colab": {
          "base_uri": "https://localhost:8080/"
        },
        "id": "8eXB_PkczuyT",
        "outputId": "ea25d51c-66ff-4536-c330-a094f4e383f3"
      },
      "execution_count": null,
      "outputs": [
        {
          "output_type": "stream",
          "name": "stdout",
          "text": [
            "              precision    recall  f1-score   support\n",
            "\n",
            "           0       0.44      0.70      0.54        27\n",
            "           1       0.93      0.81      0.87       127\n",
            "\n",
            "    accuracy                           0.79       154\n",
            "   macro avg       0.68      0.76      0.70       154\n",
            "weighted avg       0.84      0.79      0.81       154\n",
            "\n",
            "RandomForestClassifier:  0.7922077922077922\n"
          ]
        }
      ]
    },
    {
      "cell_type": "code",
      "source": [
        "Model2 = GradientBoostingClassifier()\n",
        "Model2.fit(X_train,y_train)\n",
        "y_pred = Model2.predict(X_test)\n",
        "print(classification_report(y_pred,y_test))\n",
        "print(\"GradientBoostingClassifier: \",accuracy_score(y_pred,y_test))"
      ],
      "metadata": {
        "colab": {
          "base_uri": "https://localhost:8080/"
        },
        "id": "5sJfhdrtzznK",
        "outputId": "53d083a7-9c92-4b1d-fdd9-5f7a378cfd54"
      },
      "execution_count": null,
      "outputs": [
        {
          "output_type": "stream",
          "name": "stdout",
          "text": [
            "              precision    recall  f1-score   support\n",
            "\n",
            "           0       0.44      0.73      0.55        26\n",
            "           1       0.94      0.81      0.87       128\n",
            "\n",
            "    accuracy                           0.80       154\n",
            "   macro avg       0.69      0.77      0.71       154\n",
            "weighted avg       0.85      0.80      0.82       154\n",
            "\n",
            "GradientBoostingClassifier:  0.7987012987012987\n"
          ]
        }
      ]
    },
    {
      "cell_type": "code",
      "source": [
        "Model3 = DecisionTreeClassifier(class_weight=None, criterion='gini', max_depth=100,max_features=1.0, max_leaf_nodes=10,min_impurity_decrease=1e-07, min_samples_leaf=1,min_samples_split=2, min_weight_fraction_leaf=0.10, random_state=27, splitter='best')\n",
        "Model3.fit(X_train,y_train)\n",
        "y_pred = Model3.predict(X_test)\n",
        "print(classification_report(y_pred,y_test))\n",
        "print(\"DecisionTreeClassifier: \",accuracy_score(y_pred,y_test))"
      ],
      "metadata": {
        "colab": {
          "base_uri": "https://localhost:8080/"
        },
        "id": "DZ589Rsmz2-J",
        "outputId": "92ffb3c7-2715-4def-a0c7-43e442c46149"
      },
      "execution_count": null,
      "outputs": [
        {
          "output_type": "stream",
          "name": "stdout",
          "text": [
            "              precision    recall  f1-score   support\n",
            "\n",
            "           0       0.44      0.90      0.59        21\n",
            "           1       0.98      0.82      0.89       133\n",
            "\n",
            "    accuracy                           0.83       154\n",
            "   macro avg       0.71      0.86      0.74       154\n",
            "weighted avg       0.91      0.83      0.85       154\n",
            "\n",
            "DecisionTreeClassifier:  0.8311688311688312\n"
          ]
        }
      ]
    },
    {
      "cell_type": "code",
      "source": [
        "Model4 = AdaBoostClassifier()\n",
        "Model4.fit(X_train,y_train)\n",
        "y_pred = Model4.predict(X_test)\n",
        "print(classification_report(y_pred,y_test))\n",
        "print(\"AdaBoostClassifier: \",accuracy_score(y_pred,y_test))"
      ],
      "metadata": {
        "colab": {
          "base_uri": "https://localhost:8080/"
        },
        "id": "msEBPhokz6kK",
        "outputId": "2ac1c7af-346a-4580-d155-92f73c91a5cf"
      },
      "execution_count": null,
      "outputs": [
        {
          "output_type": "stream",
          "name": "stdout",
          "text": [
            "              precision    recall  f1-score   support\n",
            "\n",
            "           0       0.49      0.78      0.60        27\n",
            "           1       0.95      0.83      0.88       127\n",
            "\n",
            "    accuracy                           0.82       154\n",
            "   macro avg       0.72      0.80      0.74       154\n",
            "weighted avg       0.87      0.82      0.83       154\n",
            "\n",
            "AdaBoostClassifier:  0.8181818181818182\n"
          ]
        }
      ]
    },
    {
      "cell_type": "code",
      "source": [
        "Model5 = LinearDiscriminantAnalysis()\n",
        "Model5.fit(X_train,y_train)\n",
        "y_pred = Model5.predict(X_test)\n",
        "print(classification_report(y_pred,y_test))\n",
        "print(\"LinearDiscriminantAnalysis: \",accuracy_score(y_pred,y_test),\"\\n\")"
      ],
      "metadata": {
        "colab": {
          "base_uri": "https://localhost:8080/"
        },
        "id": "hFnv5728z8gq",
        "outputId": "58774379-bd22-4f97-f0cf-ea4e73f7e11c"
      },
      "execution_count": null,
      "outputs": [
        {
          "output_type": "stream",
          "name": "stdout",
          "text": [
            "              precision    recall  f1-score   support\n",
            "\n",
            "           0       0.44      0.90      0.59        21\n",
            "           1       0.98      0.82      0.89       133\n",
            "\n",
            "    accuracy                           0.83       154\n",
            "   macro avg       0.71      0.86      0.74       154\n",
            "weighted avg       0.91      0.83      0.85       154\n",
            "\n",
            "LinearDiscriminantAnalysis:  0.8311688311688312 \n",
            "\n"
          ]
        }
      ]
    },
    {
      "cell_type": "code",
      "source": [
        "KNN = KNeighborsClassifier(leaf_size=1,p=2,n_neighbors=20)\n",
        "KNN.fit(X_train,y_train)\n",
        "y_pred = KNN.predict(X_test)\n",
        "print(classification_report(y_pred,y_test))\n",
        "print(\"KNeighborsClassifier: \",accuracy_score(y_pred,y_test))"
      ],
      "metadata": {
        "colab": {
          "base_uri": "https://localhost:8080/"
        },
        "id": "_gVHWfl9z-dK",
        "outputId": "f9e8a14c-193a-4e41-c539-552711a42f91"
      },
      "execution_count": null,
      "outputs": [
        {
          "output_type": "stream",
          "name": "stdout",
          "text": [
            "              precision    recall  f1-score   support\n",
            "\n",
            "           0       0.47      0.91      0.62        22\n",
            "           1       0.98      0.83      0.90       132\n",
            "\n",
            "    accuracy                           0.84       154\n",
            "   macro avg       0.72      0.87      0.76       154\n",
            "weighted avg       0.91      0.84      0.86       154\n",
            "\n",
            "KNeighborsClassifier:  0.8376623376623377\n"
          ]
        }
      ]
    },
    {
      "cell_type": "code",
      "source": [
        "Model7 = GaussianNB()\n",
        "Model7.fit(X_train,y_train)\n",
        "y_pred = Model7.predict(X_test)\n",
        "print(classification_report(y_pred,y_test))\n",
        "print(\"GaussianNB: \",accuracy_score(y_pred,y_test))\n"
      ],
      "metadata": {
        "colab": {
          "base_uri": "https://localhost:8080/"
        },
        "id": "tLTrtKmI0Dno",
        "outputId": "f57e4478-6c6f-47ce-d594-95e7e84d8133"
      },
      "execution_count": null,
      "outputs": [
        {
          "output_type": "stream",
          "name": "stdout",
          "text": [
            "              precision    recall  f1-score   support\n",
            "\n",
            "           0       0.44      0.90      0.59        21\n",
            "           1       0.98      0.82      0.89       133\n",
            "\n",
            "    accuracy                           0.83       154\n",
            "   macro avg       0.71      0.86      0.74       154\n",
            "weighted avg       0.91      0.83      0.85       154\n",
            "\n",
            "GaussianNB:  0.8311688311688312\n"
          ]
        }
      ]
    },
    {
      "cell_type": "code",
      "source": [
        "Model8 = LogisticRegression(C=1.0, class_weight=None, dual=False, fit_intercept=True,intercept_scaling=1, max_iter=100, multi_class='ovr', n_jobs=1,penalty='l2', random_state=None, solver='liblinear', tol=0.0001,verbose=0, warm_start=False)\n",
        "Model8.fit(X_train,y_train)\n",
        "y_pred = Model8.predict(X_test)\n",
        "print(classification_report(y_pred,y_test))\n",
        "print(\"Logistic Regression: \",accuracy_score(y_pred,y_test))"
      ],
      "metadata": {
        "colab": {
          "base_uri": "https://localhost:8080/"
        },
        "id": "gtwk2e7I0AUK",
        "outputId": "9f97fbc1-f607-4ea5-948e-9512d77982d6"
      },
      "execution_count": null,
      "outputs": [
        {
          "output_type": "stream",
          "name": "stdout",
          "text": [
            "              precision    recall  f1-score   support\n",
            "\n",
            "           0       0.44      0.90      0.59        21\n",
            "           1       0.98      0.82      0.89       133\n",
            "\n",
            "    accuracy                           0.83       154\n",
            "   macro avg       0.71      0.86      0.74       154\n",
            "weighted avg       0.91      0.83      0.85       154\n",
            "\n",
            "Logistic Regression:  0.8311688311688312\n"
          ]
        }
      ]
    },
    {
      "cell_type": "markdown",
      "source": [
        "## Experiment2 Scaled and Down Sampled Data\n"
      ],
      "metadata": {
        "id": "RiczoDlS5qkw"
      }
    },
    {
      "cell_type": "code",
      "source": [
        "X = df_downsampled.drop([\"Loan_Status\",\"Loan_ID\"],axis=1)\n",
        "y = df_downsampled.Loan_Status"
      ],
      "metadata": {
        "id": "mIIrbn4d5wva"
      },
      "execution_count": null,
      "outputs": []
    },
    {
      "cell_type": "code",
      "source": [
        "X_train , X_test , y_train , y_test = train_test_split(X,y,test_size=0.25,random_state=0)\n"
      ],
      "metadata": {
        "id": "88JJhZN351WW"
      },
      "execution_count": null,
      "outputs": []
    },
    {
      "cell_type": "code",
      "source": [
        "#Scaling data \n",
        "\n",
        "StSc = StandardScaler()\n",
        "X_train  = StSc.fit_transform(X_train)\n",
        "X_test  = StSc.fit_transform(X_test)\n"
      ],
      "metadata": {
        "id": "j2ueN4Td53n7"
      },
      "execution_count": null,
      "outputs": []
    },
    {
      "cell_type": "code",
      "source": [
        "models = []\n",
        "models.append((\"XGB\",XGBClassifier()))\n",
        "models.append((\"RF\",RandomForestClassifier()))\n",
        "models.append((\"DT\",DecisionTreeClassifier()))\n",
        "models.append((\"ADB\",AdaBoostClassifier()))\n",
        "models.append((\"GB\",GradientBoostingClassifier()))"
      ],
      "metadata": {
        "id": "khnVA2K46Bf_"
      },
      "execution_count": null,
      "outputs": []
    },
    {
      "cell_type": "code",
      "source": [
        "ensemble = VotingClassifier(estimators=models)\n",
        "ensemble.fit(X_train,y_train)\n",
        "y_pred = ensemble.predict(X_test) \n",
        "print(classification_report(y_pred,y_test))\n",
        "print(\"Voting Ensemble: \",accuracy_score(y_pred,y_test))\n"
      ],
      "metadata": {
        "colab": {
          "base_uri": "https://localhost:8080/"
        },
        "id": "jMUG3GL06CBs",
        "outputId": "bb61f658-3a5d-4579-da81-f465d58012fd"
      },
      "execution_count": null,
      "outputs": [
        {
          "output_type": "stream",
          "name": "stdout",
          "text": [
            "              precision    recall  f1-score   support\n",
            "\n",
            "           0       0.56      0.77      0.65        35\n",
            "           1       0.83      0.66      0.73        61\n",
            "\n",
            "    accuracy                           0.70        96\n",
            "   macro avg       0.70      0.71      0.69        96\n",
            "weighted avg       0.73      0.70      0.70        96\n",
            "\n",
            "Voting Ensemble:  0.6979166666666666\n"
          ]
        }
      ]
    },
    {
      "cell_type": "code",
      "source": [
        "SVM = SVC(kernel=\"linear\",class_weight=\"balanced\",probability=True)\n",
        "SVM.fit(X_train,y_train)\n",
        "y_pred = SVM.predict(X_test)\n",
        "print(classification_report(y_pred,y_test))\n",
        "print(\"SVM: \",accuracy_score(y_pred,y_test))"
      ],
      "metadata": {
        "colab": {
          "base_uri": "https://localhost:8080/"
        },
        "id": "w5M7biCf6J1R",
        "outputId": "a172172e-9eed-4e3e-e498-8b87e446d1d6"
      },
      "execution_count": null,
      "outputs": [
        {
          "output_type": "stream",
          "name": "stdout",
          "text": [
            "              precision    recall  f1-score   support\n",
            "\n",
            "           0       0.42      1.00      0.59        20\n",
            "           1       1.00      0.63      0.77        76\n",
            "\n",
            "    accuracy                           0.71        96\n",
            "   macro avg       0.71      0.82      0.68        96\n",
            "weighted avg       0.88      0.71      0.74        96\n",
            "\n",
            "SVM:  0.7083333333333334\n"
          ]
        }
      ]
    },
    {
      "cell_type": "code",
      "source": [
        "XGBC = XGBClassifier(learning_rate =0.1,n_estimators=10000,max_depth=4,min_child_weight=6,gamma=0,subsample=0.6,colsample_bytree=0.8,reg_alpha=0.005, objective= 'binary:logistic', nthread=2, scale_pos_weight=1, seed=27)\n",
        "XGBC.fit(X_train,y_train)\n",
        "y_pred = XGBC.predict(X_test)\n",
        "print(classification_report(y_pred,y_test))\n",
        "print(\"XGBoost: \",accuracy_score(y_pred,y_test))"
      ],
      "metadata": {
        "colab": {
          "base_uri": "https://localhost:8080/"
        },
        "id": "Dos1aE2u6N2w",
        "outputId": "691af413-0945-4091-c9a3-81a5d8b47694"
      },
      "execution_count": null,
      "outputs": [
        {
          "output_type": "stream",
          "name": "stdout",
          "text": [
            "              precision    recall  f1-score   support\n",
            "\n",
            "           0       0.50      0.62      0.55        39\n",
            "           1       0.69      0.58      0.63        57\n",
            "\n",
            "    accuracy                           0.59        96\n",
            "   macro avg       0.59      0.60      0.59        96\n",
            "weighted avg       0.61      0.59      0.60        96\n",
            "\n",
            "XGBoost:  0.59375\n"
          ]
        }
      ]
    },
    {
      "cell_type": "code",
      "source": [
        "Model1 = RandomForestClassifier(n_estimators=1000,random_state=0,n_jobs=1000,max_depth=70,bootstrap=True)\n",
        "Model1.fit(X_train,y_train)\n",
        "y_pred = Model1.predict(X_test)\n",
        "print(classification_report(y_pred,y_test))\n",
        "print(\"RandomForestClassifier: \",accuracy_score(y_pred,y_test))"
      ],
      "metadata": {
        "colab": {
          "base_uri": "https://localhost:8080/"
        },
        "id": "juJaVkY76SRd",
        "outputId": "1579d422-7792-4577-bb47-fa6297c5d3f9"
      },
      "execution_count": null,
      "outputs": [
        {
          "output_type": "stream",
          "name": "stdout",
          "text": [
            "              precision    recall  f1-score   support\n",
            "\n",
            "           0       0.54      0.74      0.63        35\n",
            "           1       0.81      0.64      0.72        61\n",
            "\n",
            "    accuracy                           0.68        96\n",
            "   macro avg       0.68      0.69      0.67        96\n",
            "weighted avg       0.71      0.68      0.68        96\n",
            "\n",
            "RandomForestClassifier:  0.6770833333333334\n"
          ]
        }
      ]
    },
    {
      "cell_type": "code",
      "source": [
        "Model2 = GradientBoostingClassifier()\n",
        "Model2.fit(X_train,y_train)\n",
        "y_pred = Model2.predict(X_test)\n",
        "print(classification_report(y_pred,y_test))\n",
        "print(\"GradientBoostingClassifier: \",accuracy_score(y_pred,y_test))\n"
      ],
      "metadata": {
        "colab": {
          "base_uri": "https://localhost:8080/"
        },
        "id": "dfg4fAw06Uc-",
        "outputId": "aa58f1e5-5128-4300-b2e1-a62be46d0665"
      },
      "execution_count": null,
      "outputs": [
        {
          "output_type": "stream",
          "name": "stdout",
          "text": [
            "              precision    recall  f1-score   support\n",
            "\n",
            "           0       0.58      0.74      0.65        38\n",
            "           1       0.79      0.66      0.72        58\n",
            "\n",
            "    accuracy                           0.69        96\n",
            "   macro avg       0.69      0.70      0.68        96\n",
            "weighted avg       0.71      0.69      0.69        96\n",
            "\n",
            "GradientBoostingClassifier:  0.6875\n"
          ]
        }
      ]
    },
    {
      "cell_type": "code",
      "source": [
        "\n",
        "Model3 = DecisionTreeClassifier(class_weight=None, criterion='gini', max_depth=100,max_features=1.0, max_leaf_nodes=10,min_impurity_decrease=1e-07, min_samples_leaf=1,min_samples_split=2, min_weight_fraction_leaf=0.10, random_state=27, splitter='best')\n",
        "Model3.fit(X_train,y_train)\n",
        "y_pred = Model3.predict(X_test)\n",
        "print(classification_report(y_pred,y_test))\n",
        "print(\"DecisionTreeClassifier: \",accuracy_score(y_pred,y_test))"
      ],
      "metadata": {
        "colab": {
          "base_uri": "https://localhost:8080/"
        },
        "id": "dKe1iMaE6XCq",
        "outputId": "58e001b0-85eb-4eee-a803-2db0740f56f8"
      },
      "execution_count": null,
      "outputs": [
        {
          "output_type": "stream",
          "name": "stdout",
          "text": [
            "              precision    recall  f1-score   support\n",
            "\n",
            "           0       0.54      0.87      0.67        30\n",
            "           1       0.92      0.67      0.77        66\n",
            "\n",
            "    accuracy                           0.73        96\n",
            "   macro avg       0.73      0.77      0.72        96\n",
            "weighted avg       0.80      0.73      0.74        96\n",
            "\n",
            "DecisionTreeClassifier:  0.7291666666666666\n"
          ]
        }
      ]
    },
    {
      "cell_type": "code",
      "source": [
        "Model4 = AdaBoostClassifier()\n",
        "Model4.fit(X_train,y_train)\n",
        "y_pred = Model4.predict(X_test)\n",
        "print(classification_report(y_pred,y_test))\n",
        "print(\"AdaBoostClassifier: \",accuracy_score(y_pred,y_test))"
      ],
      "metadata": {
        "colab": {
          "base_uri": "https://localhost:8080/"
        },
        "id": "3Vgb_h1c6hgT",
        "outputId": "0e684963-4bde-446c-86e6-7ce721d88d09"
      },
      "execution_count": null,
      "outputs": [
        {
          "output_type": "stream",
          "name": "stdout",
          "text": [
            "              precision    recall  f1-score   support\n",
            "\n",
            "           0       0.60      0.85      0.71        34\n",
            "           1       0.90      0.69      0.78        62\n",
            "\n",
            "    accuracy                           0.75        96\n",
            "   macro avg       0.75      0.77      0.74        96\n",
            "weighted avg       0.79      0.75      0.76        96\n",
            "\n",
            "AdaBoostClassifier:  0.75\n"
          ]
        }
      ]
    },
    {
      "cell_type": "code",
      "source": [
        "Model5 = LinearDiscriminantAnalysis()\n",
        "Model5.fit(X_train,y_train)\n",
        "y_pred = Model5.predict(X_test)\n",
        "print(classification_report(y_pred,y_test))\n",
        "print(\"LinearDiscriminantAnalysis: \",accuracy_score(y_pred,y_test))"
      ],
      "metadata": {
        "colab": {
          "base_uri": "https://localhost:8080/"
        },
        "id": "418KCQHP6kjH",
        "outputId": "b9b564c6-c3a3-4e1e-9cc4-ec3afc0c8671"
      },
      "execution_count": null,
      "outputs": [
        {
          "output_type": "stream",
          "name": "stdout",
          "text": [
            "              precision    recall  f1-score   support\n",
            "\n",
            "           0       0.52      0.78      0.62        32\n",
            "           1       0.85      0.64      0.73        64\n",
            "\n",
            "    accuracy                           0.69        96\n",
            "   macro avg       0.69      0.71      0.68        96\n",
            "weighted avg       0.74      0.69      0.70        96\n",
            "\n",
            "LinearDiscriminantAnalysis:  0.6875\n"
          ]
        }
      ]
    },
    {
      "cell_type": "code",
      "source": [
        "KNN = KNeighborsClassifier(leaf_size=1,p=2,n_neighbors=20)\n",
        "KNN.fit(X_train,y_train)\n",
        "y_pred = KNN.predict(X_test)\n",
        "print(classification_report(y_pred,y_test))\n",
        "print(\"KNeighborsClassifier: \",accuracy_score(y_pred,y_test))"
      ],
      "metadata": {
        "colab": {
          "base_uri": "https://localhost:8080/"
        },
        "id": "DIJCFBaw6qA7",
        "outputId": "65ae2759-2406-4f7f-a904-9e32ef4adf00"
      },
      "execution_count": null,
      "outputs": [
        {
          "output_type": "stream",
          "name": "stdout",
          "text": [
            "              precision    recall  f1-score   support\n",
            "\n",
            "           0       0.50      0.83      0.62        29\n",
            "           1       0.90      0.64      0.75        67\n",
            "\n",
            "    accuracy                           0.70        96\n",
            "   macro avg       0.70      0.73      0.69        96\n",
            "weighted avg       0.78      0.70      0.71        96\n",
            "\n",
            "KNeighborsClassifier:  0.6979166666666666\n"
          ]
        }
      ]
    },
    {
      "cell_type": "code",
      "source": [
        "Model7 = GaussianNB()\n",
        "Model7.fit(X_train,y_train)\n",
        "y_pred = Model7.predict(X_test)\n",
        "print(classification_report(y_pred,y_test))\n",
        "print(\"GaussianNB: \",accuracy_score(y_pred,y_test))\n"
      ],
      "metadata": {
        "colab": {
          "base_uri": "https://localhost:8080/"
        },
        "id": "eReJ1hGY6zmV",
        "outputId": "c745d08b-dda6-49f9-e5ce-1aadbd4d5826"
      },
      "execution_count": null,
      "outputs": [
        {
          "output_type": "stream",
          "name": "stdout",
          "text": [
            "              precision    recall  f1-score   support\n",
            "\n",
            "           0       0.42      0.91      0.57        22\n",
            "           1       0.96      0.62      0.75        74\n",
            "\n",
            "    accuracy                           0.69        96\n",
            "   macro avg       0.69      0.77      0.66        96\n",
            "weighted avg       0.83      0.69      0.71        96\n",
            "\n",
            "GaussianNB:  0.6875\n"
          ]
        }
      ]
    },
    {
      "cell_type": "code",
      "source": [
        "Model8 = LogisticRegression(C=1.0, class_weight=None, dual=False, fit_intercept=True,intercept_scaling=1, max_iter=100, multi_class='ovr', n_jobs=1,penalty='l2', random_state=None, solver='liblinear', tol=0.0001,verbose=0, warm_start=False)\n",
        "Model8.fit(X_train,y_train)\n",
        "y_pred = Model8.predict(X_test)\n",
        "print(classification_report(y_pred,y_test))\n",
        "print(\"Logistic Regression: \",accuracy_score(y_pred,y_test))"
      ],
      "metadata": {
        "colab": {
          "base_uri": "https://localhost:8080/"
        },
        "id": "i6cwiaW363sx",
        "outputId": "a2f7d5ce-6fc9-400e-8cee-1243767a3c95"
      },
      "execution_count": null,
      "outputs": [
        {
          "output_type": "stream",
          "name": "stdout",
          "text": [
            "              precision    recall  f1-score   support\n",
            "\n",
            "           0       0.54      0.74      0.63        35\n",
            "           1       0.81      0.64      0.72        61\n",
            "\n",
            "    accuracy                           0.68        96\n",
            "   macro avg       0.68      0.69      0.67        96\n",
            "weighted avg       0.71      0.68      0.68        96\n",
            "\n",
            "Logistic Regression:  0.6770833333333334\n"
          ]
        }
      ]
    },
    {
      "cell_type": "markdown",
      "source": [
        "## Experiment3 Scaled and Up Sampled Data "
      ],
      "metadata": {
        "id": "XdLTDD1n7LcK"
      }
    },
    {
      "cell_type": "code",
      "source": [
        "X = df_upsampled.drop([\"Loan_Status\",\"Loan_ID\"],axis=1)\n",
        "y = df_upsampled.Loan_Status"
      ],
      "metadata": {
        "id": "6-kzXxmF7cHf"
      },
      "execution_count": null,
      "outputs": []
    },
    {
      "cell_type": "code",
      "source": [
        "X_train , X_test , y_train , y_test = train_test_split(X,y,test_size=0.25,random_state=0)"
      ],
      "metadata": {
        "id": "uQE7YV5b7eeP"
      },
      "execution_count": null,
      "outputs": []
    },
    {
      "cell_type": "code",
      "source": [
        "#Scaling data \n",
        "\n",
        "StSc = StandardScaler()\n",
        "X_train  = StSc.fit_transform(X_train)\n",
        "X_test  = StSc.fit_transform(X_test)"
      ],
      "metadata": {
        "id": "KQF2VAqm7fbT"
      },
      "execution_count": null,
      "outputs": []
    },
    {
      "cell_type": "code",
      "source": [
        "models = []\n",
        "models.append((\"XGB\",XGBClassifier()))\n",
        "models.append((\"RF\",RandomForestClassifier()))\n",
        "models.append((\"DT\",DecisionTreeClassifier()))\n",
        "models.append((\"ADB\",AdaBoostClassifier()))\n",
        "models.append((\"GB\",GradientBoostingClassifier()))"
      ],
      "metadata": {
        "id": "3f3ysxEy7l8M"
      },
      "execution_count": null,
      "outputs": []
    },
    {
      "cell_type": "code",
      "source": [
        "ensemble = VotingClassifier(estimators=models)\n",
        "ensemble.fit(X_train,y_train)\n",
        "y_pred = ensemble.predict(X_test) \n",
        "print(classification_report(y_pred,y_test))\n",
        "print(\"Voting Ensemble: \",accuracy_score(y_pred,y_test))"
      ],
      "metadata": {
        "colab": {
          "base_uri": "https://localhost:8080/"
        },
        "id": "Ohv72Qwo7meM",
        "outputId": "ca7fac58-2075-41f2-bb83-afab33da6729"
      },
      "execution_count": null,
      "outputs": [
        {
          "output_type": "stream",
          "name": "stdout",
          "text": [
            "              precision    recall  f1-score   support\n",
            "\n",
            "           0       0.69      0.84      0.76        88\n",
            "           1       0.86      0.72      0.79       123\n",
            "\n",
            "    accuracy                           0.77       211\n",
            "   macro avg       0.77      0.78      0.77       211\n",
            "weighted avg       0.79      0.77      0.77       211\n",
            "\n",
            "Voting Ensemble:  0.7725118483412322\n"
          ]
        }
      ]
    },
    {
      "cell_type": "code",
      "source": [
        "SVM = SVC(kernel=\"linear\",class_weight=\"balanced\",probability=True)\n",
        "SVM.fit(X_train,y_train)\n",
        "y_pred = SVM.predict(X_test)\n",
        "print(classification_report(y_pred,y_test))\n",
        "print(\"SVM: \",accuracy_score(y_pred,y_test))\n"
      ],
      "metadata": {
        "colab": {
          "base_uri": "https://localhost:8080/"
        },
        "id": "9XFgC_1y7tzI",
        "outputId": "5aeab3cd-85e6-442d-d953-c70d73d66ed5"
      },
      "execution_count": null,
      "outputs": [
        {
          "output_type": "stream",
          "name": "stdout",
          "text": [
            "              precision    recall  f1-score   support\n",
            "\n",
            "           0       0.38      0.95      0.54        43\n",
            "           1       0.98      0.60      0.75       168\n",
            "\n",
            "    accuracy                           0.67       211\n",
            "   macro avg       0.68      0.78      0.64       211\n",
            "weighted avg       0.86      0.67      0.70       211\n",
            "\n",
            "SVM:  0.6729857819905213\n"
          ]
        }
      ]
    },
    {
      "cell_type": "code",
      "source": [
        "XGBC = XGBClassifier(learning_rate =0.1,n_estimators=10000,max_depth=4,min_child_weight=6,gamma=0,subsample=0.6,colsample_bytree=0.8,reg_alpha=0.005, objective= 'binary:logistic', nthread=2, scale_pos_weight=1, seed=27)\n",
        "XGBC.fit(X_train,y_train)\n",
        "y_pred = XGBC.predict(X_test)\n",
        "print(classification_report(y_pred,y_test))\n",
        "print(\"XGBoost: \",accuracy_score(y_pred,y_test))\n"
      ],
      "metadata": {
        "colab": {
          "base_uri": "https://localhost:8080/"
        },
        "id": "GYw9nEzI70zg",
        "outputId": "08d14740-08f3-4aab-f5d2-48dd0e09f444"
      },
      "execution_count": null,
      "outputs": [
        {
          "output_type": "stream",
          "name": "stdout",
          "text": [
            "              precision    recall  f1-score   support\n",
            "\n",
            "           0       0.68      0.74      0.71        99\n",
            "           1       0.75      0.69      0.72       112\n",
            "\n",
            "    accuracy                           0.71       211\n",
            "   macro avg       0.71      0.71      0.71       211\n",
            "weighted avg       0.71      0.71      0.71       211\n",
            "\n",
            "XGBoost:  0.7109004739336493\n"
          ]
        }
      ]
    },
    {
      "cell_type": "code",
      "source": [
        "Model1 = RandomForestClassifier(n_estimators=1000,random_state=0,n_jobs=1000,max_depth=70,bootstrap=True)\n",
        "Model1.fit(X_train,y_train)\n",
        "y_pred = Model1.predict(X_test)\n",
        "print(classification_report(y_pred,y_test))\n",
        "print(\"RandomForestClassifier: \",accuracy_score(y_pred,y_test))"
      ],
      "metadata": {
        "colab": {
          "base_uri": "https://localhost:8080/"
        },
        "id": "33ePaep476vS",
        "outputId": "8e4b78ea-53a9-4d55-b89f-9aba8cd95cbe"
      },
      "execution_count": null,
      "outputs": [
        {
          "output_type": "stream",
          "name": "stdout",
          "text": [
            "              precision    recall  f1-score   support\n",
            "\n",
            "           0       0.77      0.86      0.81        96\n",
            "           1       0.87      0.78      0.83       115\n",
            "\n",
            "    accuracy                           0.82       211\n",
            "   macro avg       0.82      0.82      0.82       211\n",
            "weighted avg       0.83      0.82      0.82       211\n",
            "\n",
            "RandomForestClassifier:  0.8199052132701422\n"
          ]
        }
      ]
    },
    {
      "cell_type": "code",
      "source": [
        "Model2 = GradientBoostingClassifier()\n",
        "Model2.fit(X_train,y_train)\n",
        "y_pred = Model2.predict(X_test)\n",
        "print(classification_report(y_pred,y_test))\n",
        "print(\"GradientBoostingClassifier: \",accuracy_score(y_pred,y_test))\n"
      ],
      "metadata": {
        "colab": {
          "base_uri": "https://localhost:8080/"
        },
        "id": "3q8F1X2W8A1G",
        "outputId": "90c6dc4d-f386-4476-9b31-da7140cf4ef0"
      },
      "execution_count": null,
      "outputs": [
        {
          "output_type": "stream",
          "name": "stdout",
          "text": [
            "              precision    recall  f1-score   support\n",
            "\n",
            "           0       0.60      0.80      0.69        81\n",
            "           1       0.84      0.67      0.75       130\n",
            "\n",
            "    accuracy                           0.72       211\n",
            "   macro avg       0.72      0.74      0.72       211\n",
            "weighted avg       0.75      0.72      0.72       211\n",
            "\n",
            "GradientBoostingClassifier:  0.7203791469194313\n"
          ]
        }
      ]
    },
    {
      "cell_type": "code",
      "source": [
        "Model3 = DecisionTreeClassifier(class_weight=None, criterion='gini', max_depth=100,max_features=1.0, max_leaf_nodes=10,min_impurity_decrease=1e-07, min_samples_leaf=1,min_samples_split=2, min_weight_fraction_leaf=0.10, random_state=27, splitter='best')\n",
        "Model3.fit(X_train,y_train)\n",
        "y_pred = Model3.predict(X_test)\n",
        "print(classification_report(y_pred,y_test))\n",
        "print(\"DecisionTreeClassifier: \",accuracy_score(y_pred,y_test))\n"
      ],
      "metadata": {
        "colab": {
          "base_uri": "https://localhost:8080/"
        },
        "id": "vKcEfcZp8GhK",
        "outputId": "1f869223-24d7-4cd4-c502-a57eab999ba3"
      },
      "execution_count": null,
      "outputs": [
        {
          "output_type": "stream",
          "name": "stdout",
          "text": [
            "              precision    recall  f1-score   support\n",
            "\n",
            "           0       0.56      0.72      0.63        83\n",
            "           1       0.78      0.62      0.69       128\n",
            "\n",
            "    accuracy                           0.66       211\n",
            "   macro avg       0.67      0.67      0.66       211\n",
            "weighted avg       0.69      0.66      0.67       211\n",
            "\n",
            "DecisionTreeClassifier:  0.6635071090047393\n"
          ]
        }
      ]
    },
    {
      "cell_type": "code",
      "source": [
        "Model4 = AdaBoostClassifier()\n",
        "Model4.fit(X_train,y_train)\n",
        "y_pred = Model4.predict(X_test)\n",
        "print(classification_report(y_pred,y_test))\n",
        "print(\"AdaBoostClassifier: \",accuracy_score(y_pred,y_test))\n"
      ],
      "metadata": {
        "colab": {
          "base_uri": "https://localhost:8080/"
        },
        "id": "_o6GzJKP7sDV",
        "outputId": "eefc76b8-911f-4b19-d98e-ba8ed5c5e0e0"
      },
      "execution_count": null,
      "outputs": [
        {
          "output_type": "stream",
          "name": "stdout",
          "text": [
            "              precision    recall  f1-score   support\n",
            "\n",
            "           0       0.66      0.79      0.72        90\n",
            "           1       0.82      0.69      0.75       121\n",
            "\n",
            "    accuracy                           0.73       211\n",
            "   macro avg       0.74      0.74      0.73       211\n",
            "weighted avg       0.75      0.73      0.74       211\n",
            "\n",
            "AdaBoostClassifier:  0.7345971563981043\n"
          ]
        }
      ]
    },
    {
      "cell_type": "code",
      "source": [
        "Model5 = LinearDiscriminantAnalysis()\n",
        "Model5.fit(X_train,y_train)\n",
        "y_pred = Model5.predict(X_test)\n",
        "print(classification_report(y_pred,y_test))\n",
        "print(\"LinearDiscriminantAnalysis: \",accuracy_score(y_pred,y_test))"
      ],
      "metadata": {
        "colab": {
          "base_uri": "https://localhost:8080/"
        },
        "id": "urGO2c7B8OE2",
        "outputId": "ccb1f6be-903e-4502-95da-d72d24d156cc"
      },
      "execution_count": null,
      "outputs": [
        {
          "output_type": "stream",
          "name": "stdout",
          "text": [
            "              precision    recall  f1-score   support\n",
            "\n",
            "           0       0.44      0.78      0.56        60\n",
            "           1       0.87      0.60      0.71       151\n",
            "\n",
            "    accuracy                           0.65       211\n",
            "   macro avg       0.65      0.69      0.63       211\n",
            "weighted avg       0.75      0.65      0.67       211\n",
            "\n",
            "LinearDiscriminantAnalysis:  0.6492890995260664\n"
          ]
        }
      ]
    },
    {
      "cell_type": "code",
      "source": [
        "KNN = KNeighborsClassifier(leaf_size=1,p=2,n_neighbors=20)\n",
        "KNN.fit(X_train,y_train)\n",
        "y_pred = KNN.predict(X_test)\n",
        "print(classification_report(y_pred,y_test))\n",
        "print(\"KNeighborsClassifier: \",accuracy_score(y_pred,y_test))"
      ],
      "metadata": {
        "colab": {
          "base_uri": "https://localhost:8080/"
        },
        "id": "PvlPzIn98QfI",
        "outputId": "91eaca6f-3726-43a3-cc7a-088fd297ddaf"
      },
      "execution_count": null,
      "outputs": [
        {
          "output_type": "stream",
          "name": "stdout",
          "text": [
            "              precision    recall  f1-score   support\n",
            "\n",
            "           0       0.54      0.81      0.64        72\n",
            "           1       0.86      0.64      0.74       139\n",
            "\n",
            "    accuracy                           0.70       211\n",
            "   macro avg       0.70      0.72      0.69       211\n",
            "weighted avg       0.75      0.70      0.70       211\n",
            "\n",
            "KNeighborsClassifier:  0.6966824644549763\n"
          ]
        }
      ]
    },
    {
      "cell_type": "code",
      "source": [
        "Model7 = GaussianNB()\n",
        "Model7.fit(X_train,y_train)\n",
        "y_pred = Model7.predict(X_test)\n",
        "print(classification_report(y_pred,y_test))\n",
        "print(\"GaussianNB: \",accuracy_score(y_pred,y_test))"
      ],
      "metadata": {
        "colab": {
          "base_uri": "https://localhost:8080/"
        },
        "id": "nx6UKnFL8ToC",
        "outputId": "316704d4-1b46-4e5d-bbce-4c22fdef65ee"
      },
      "execution_count": null,
      "outputs": [
        {
          "output_type": "stream",
          "name": "stdout",
          "text": [
            "              precision    recall  f1-score   support\n",
            "\n",
            "           0       0.40      0.88      0.55        49\n",
            "           1       0.94      0.60      0.73       162\n",
            "\n",
            "    accuracy                           0.66       211\n",
            "   macro avg       0.67      0.74      0.64       211\n",
            "weighted avg       0.82      0.66      0.69       211\n",
            "\n",
            "GaussianNB:  0.6635071090047393\n"
          ]
        }
      ]
    },
    {
      "cell_type": "code",
      "source": [
        "Model8 = LogisticRegression(C=1.0, class_weight=None, dual=False, fit_intercept=True,intercept_scaling=1, max_iter=100, multi_class='ovr', n_jobs=1,penalty='l2', random_state=None, solver='liblinear', tol=0.0001,verbose=0, warm_start=False)\n",
        "Model8.fit(X_train,y_train)\n",
        "y_pred = Model8.predict(X_test)\n",
        "print(classification_report(y_pred,y_test))\n",
        "print(\"Logistic Regression: \",accuracy_score(y_pred,y_test))"
      ],
      "metadata": {
        "colab": {
          "base_uri": "https://localhost:8080/"
        },
        "id": "FkOCu6gN8V5w",
        "outputId": "cfffa18c-4ef2-4334-8177-8020ad5efb17"
      },
      "execution_count": null,
      "outputs": [
        {
          "output_type": "stream",
          "name": "stdout",
          "text": [
            "              precision    recall  f1-score   support\n",
            "\n",
            "           0       0.45      0.79      0.58        62\n",
            "           1       0.87      0.60      0.71       149\n",
            "\n",
            "    accuracy                           0.66       211\n",
            "   macro avg       0.66      0.70      0.65       211\n",
            "weighted avg       0.75      0.66      0.67       211\n",
            "\n",
            "Logistic Regression:  0.6587677725118484\n"
          ]
        }
      ]
    },
    {
      "cell_type": "markdown",
      "source": [
        "## Experiment4 Scaled Data with selective features and importance of those features"
      ],
      "metadata": {
        "id": "S2Ot6d_y9PTM"
      }
    },
    {
      "cell_type": "code",
      "source": [
        "X = new_data.drop([\"Loan_ID\",\"Gender\",\"Married\",\"Education\",\"Self_Employed\",\"Loan_Amount_Term\",\"Loan_Status\",\"Property_Area\"],axis=1)\n",
        "y = new_data.Loan_Status"
      ],
      "metadata": {
        "id": "4Bd7tTkF9Vi0"
      },
      "execution_count": null,
      "outputs": []
    },
    {
      "cell_type": "code",
      "source": [
        "X_train , X_test , y_train , y_test = train_test_split(X,y,test_size=0.25,random_state=0)"
      ],
      "metadata": {
        "id": "nGh7zSca9Y-J"
      },
      "execution_count": null,
      "outputs": []
    },
    {
      "cell_type": "code",
      "source": [
        "#Scaling data \n",
        "\n",
        "StSc = StandardScaler()\n",
        "X_train  = StSc.fit_transform(X_train)\n",
        "X_test  = StSc.fit_transform(X_test)"
      ],
      "metadata": {
        "id": "Wa5iFwyV9fTm"
      },
      "execution_count": null,
      "outputs": []
    },
    {
      "cell_type": "code",
      "source": [
        "models = []\n",
        "models.append((\"XGB\",XGBClassifier()))\n",
        "models.append((\"RF\",RandomForestClassifier()))\n",
        "models.append((\"DT\",DecisionTreeClassifier()))\n",
        "models.append((\"ADB\",AdaBoostClassifier()))\n",
        "models.append((\"GB\",GradientBoostingClassifier()))"
      ],
      "metadata": {
        "id": "sRtvw-4Z9g3m"
      },
      "execution_count": null,
      "outputs": []
    },
    {
      "cell_type": "code",
      "source": [
        "ensemble = VotingClassifier(estimators=models)\n",
        "ensemble.fit(X_train,y_train)\n",
        "y_pred = ensemble.predict(X_test) \n",
        "print(classification_report(y_pred,y_test))\n",
        "print(\"Voting Ensemble: \",accuracy_score(y_pred,y_test))\n"
      ],
      "metadata": {
        "colab": {
          "base_uri": "https://localhost:8080/"
        },
        "id": "_463yhri9jD7",
        "outputId": "6728d428-4bd6-46d1-9b2b-e03fa50f650b"
      },
      "execution_count": null,
      "outputs": [
        {
          "output_type": "stream",
          "name": "stdout",
          "text": [
            "              precision    recall  f1-score   support\n",
            "\n",
            "           0       0.47      0.80      0.59        25\n",
            "           1       0.95      0.82      0.88       129\n",
            "\n",
            "    accuracy                           0.82       154\n",
            "   macro avg       0.71      0.81      0.74       154\n",
            "weighted avg       0.88      0.82      0.84       154\n",
            "\n",
            "Voting Ensemble:  0.8181818181818182\n"
          ]
        }
      ]
    },
    {
      "cell_type": "code",
      "source": [
        "SVM = SVC(kernel=\"linear\",class_weight=\"balanced\",probability=True)\n",
        "SVM.fit(X_train,y_train)\n",
        "y_pred = SVM.predict(X_test)\n",
        "print(classification_report(y_pred,y_test))\n",
        "print(\"SVM: \",accuracy_score(y_pred,y_test))"
      ],
      "metadata": {
        "colab": {
          "base_uri": "https://localhost:8080/"
        },
        "id": "6AyHVx2T9nZ6",
        "outputId": "061f51df-a852-4851-e39c-c1530a71351e"
      },
      "execution_count": null,
      "outputs": [
        {
          "output_type": "stream",
          "name": "stdout",
          "text": [
            "              precision    recall  f1-score   support\n",
            "\n",
            "           0       0.44      0.90      0.59        21\n",
            "           1       0.98      0.82      0.89       133\n",
            "\n",
            "    accuracy                           0.83       154\n",
            "   macro avg       0.71      0.86      0.74       154\n",
            "weighted avg       0.91      0.83      0.85       154\n",
            "\n",
            "SVM:  0.8311688311688312\n"
          ]
        }
      ]
    },
    {
      "cell_type": "code",
      "source": [
        "XGBC = XGBClassifier(learning_rate =0.1,n_estimators=10000,max_depth=4,min_child_weight=6,gamma=0,subsample=0.6,colsample_bytree=0.8,reg_alpha=0.005, objective= 'binary:logistic', nthread=2, scale_pos_weight=1, seed=27)\n",
        "XGBC.fit(X_train,y_train)\n",
        "y_pred = XGBC.predict(X_test)\n",
        "print(classification_report(y_pred,y_test))\n",
        "print(\"XGBoost: \",accuracy_score(y_pred,y_test))\n"
      ],
      "metadata": {
        "colab": {
          "base_uri": "https://localhost:8080/"
        },
        "id": "FUfF_S1d9p8y",
        "outputId": "bf2c7b98-37e6-4942-f2ef-f8c2e8ab8d49"
      },
      "execution_count": null,
      "outputs": [
        {
          "output_type": "stream",
          "name": "stdout",
          "text": [
            "              precision    recall  f1-score   support\n",
            "\n",
            "           0       0.23      0.34      0.28        29\n",
            "           1       0.83      0.74      0.78       125\n",
            "\n",
            "    accuracy                           0.66       154\n",
            "   macro avg       0.53      0.54      0.53       154\n",
            "weighted avg       0.72      0.66      0.69       154\n",
            "\n",
            "XGBoost:  0.6623376623376623\n"
          ]
        }
      ]
    },
    {
      "cell_type": "code",
      "source": [
        "Model1 = RandomForestClassifier(n_estimators=1000,random_state=0,n_jobs=1000,max_depth=70,bootstrap=True)\n",
        "Model1.fit(X_train,y_train)\n",
        "y_pred = Model1.predict(X_test)\n",
        "print(classification_report(y_pred,y_test))\n",
        "print(\"RandomForestClassifier: \",accuracy_score(y_pred,y_test))"
      ],
      "metadata": {
        "colab": {
          "base_uri": "https://localhost:8080/"
        },
        "id": "tF05VV7B9uME",
        "outputId": "ddbb3f22-d43f-4651-a38e-b82d0e8b0297"
      },
      "execution_count": null,
      "outputs": [
        {
          "output_type": "stream",
          "name": "stdout",
          "text": [
            "              precision    recall  f1-score   support\n",
            "\n",
            "           0       0.49      0.70      0.58        30\n",
            "           1       0.92      0.82      0.87       124\n",
            "\n",
            "    accuracy                           0.80       154\n",
            "   macro avg       0.70      0.76      0.72       154\n",
            "weighted avg       0.84      0.80      0.81       154\n",
            "\n",
            "RandomForestClassifier:  0.7987012987012987\n"
          ]
        }
      ]
    },
    {
      "cell_type": "code",
      "source": [
        "Model2 = GradientBoostingClassifier()\n",
        "Model2.fit(X_train,y_train)\n",
        "y_pred = Model2.predict(X_test)\n",
        "print(classification_report(y_pred,y_test))\n",
        "print(\"GradientBoostingClassifier: \",accuracy_score(y_pred,y_test))"
      ],
      "metadata": {
        "colab": {
          "base_uri": "https://localhost:8080/"
        },
        "id": "CrzH1Kry9xtn",
        "outputId": "5d8b941f-ab96-4531-bb26-7d6a79e7187f"
      },
      "execution_count": null,
      "outputs": [
        {
          "output_type": "stream",
          "name": "stdout",
          "text": [
            "              precision    recall  f1-score   support\n",
            "\n",
            "           0       0.44      0.73      0.55        26\n",
            "           1       0.94      0.81      0.87       128\n",
            "\n",
            "    accuracy                           0.80       154\n",
            "   macro avg       0.69      0.77      0.71       154\n",
            "weighted avg       0.85      0.80      0.82       154\n",
            "\n",
            "GradientBoostingClassifier:  0.7987012987012987\n"
          ]
        }
      ]
    },
    {
      "cell_type": "code",
      "source": [
        "Model3 = DecisionTreeClassifier(class_weight=None, criterion='gini', max_depth=100,max_features=1.0, max_leaf_nodes=10,min_impurity_decrease=1e-07, min_samples_leaf=1,min_samples_split=2, min_weight_fraction_leaf=0.10, random_state=27, splitter='best')\n",
        "Model3.fit(X_train,y_train)\n",
        "y_pred = Model3.predict(X_test)\n",
        "print(classification_report(y_pred,y_test))\n",
        "print(\"DecisionTreeClassifier: \",accuracy_score(y_pred,y_test))"
      ],
      "metadata": {
        "colab": {
          "base_uri": "https://localhost:8080/"
        },
        "id": "H5X5jpAD91-2",
        "outputId": "d85398a4-570c-40ff-ab0e-419f7c2ba34a"
      },
      "execution_count": null,
      "outputs": [
        {
          "output_type": "stream",
          "name": "stdout",
          "text": [
            "              precision    recall  f1-score   support\n",
            "\n",
            "           0       0.44      0.90      0.59        21\n",
            "           1       0.98      0.82      0.89       133\n",
            "\n",
            "    accuracy                           0.83       154\n",
            "   macro avg       0.71      0.86      0.74       154\n",
            "weighted avg       0.91      0.83      0.85       154\n",
            "\n",
            "DecisionTreeClassifier:  0.8311688311688312\n"
          ]
        }
      ]
    },
    {
      "cell_type": "code",
      "source": [
        "Model4 = AdaBoostClassifier()\n",
        "Model4.fit(X_train,y_train)\n",
        "y_pred = Model4.predict(X_test)\n",
        "print(classification_report(y_pred,y_test))\n",
        "print(\"AdaBoostClassifier: \",accuracy_score(y_pred,y_test))\n"
      ],
      "metadata": {
        "colab": {
          "base_uri": "https://localhost:8080/"
        },
        "id": "UwdCyxx598qQ",
        "outputId": "45406742-e1ff-4297-abb6-19286f94fdde"
      },
      "execution_count": null,
      "outputs": [
        {
          "output_type": "stream",
          "name": "stdout",
          "text": [
            "              precision    recall  f1-score   support\n",
            "\n",
            "           0       0.47      0.83      0.60        24\n",
            "           1       0.96      0.82      0.89       130\n",
            "\n",
            "    accuracy                           0.82       154\n",
            "   macro avg       0.71      0.83      0.74       154\n",
            "weighted avg       0.89      0.82      0.84       154\n",
            "\n",
            "AdaBoostClassifier:  0.8246753246753247\n"
          ]
        }
      ]
    },
    {
      "cell_type": "code",
      "source": [
        "Model5 = LinearDiscriminantAnalysis()\n",
        "Model5.fit(X_train,y_train)\n",
        "y_pred = Model5.predict(X_test)\n",
        "print(classification_report(y_pred,y_test))\n",
        "print(\"LinearDiscriminantAnalysis: \",accuracy_score(y_pred,y_test))"
      ],
      "metadata": {
        "colab": {
          "base_uri": "https://localhost:8080/"
        },
        "id": "Fxd_CXPc9_TN",
        "outputId": "80f4e854-978f-4c65-ccc2-47350c00b95d"
      },
      "execution_count": null,
      "outputs": [
        {
          "output_type": "stream",
          "name": "stdout",
          "text": [
            "              precision    recall  f1-score   support\n",
            "\n",
            "           0       0.44      0.90      0.59        21\n",
            "           1       0.98      0.82      0.89       133\n",
            "\n",
            "    accuracy                           0.83       154\n",
            "   macro avg       0.71      0.86      0.74       154\n",
            "weighted avg       0.91      0.83      0.85       154\n",
            "\n",
            "LinearDiscriminantAnalysis:  0.8311688311688312\n"
          ]
        }
      ]
    },
    {
      "cell_type": "code",
      "source": [
        "KNN = KNeighborsClassifier(leaf_size=1,p=2,n_neighbors=20)\n",
        "KNN.fit(X_train,y_train)\n",
        "y_pred = KNN.predict(X_test)\n",
        "print(classification_report(y_pred,y_test))\n",
        "print(\"KNeighborsClassifier: \",accuracy_score(y_pred,y_test))\n"
      ],
      "metadata": {
        "colab": {
          "base_uri": "https://localhost:8080/"
        },
        "id": "XgQtj0c_-BuP",
        "outputId": "0f8a8ece-1a89-4752-ca06-e29e9d8e35fb"
      },
      "execution_count": null,
      "outputs": [
        {
          "output_type": "stream",
          "name": "stdout",
          "text": [
            "              precision    recall  f1-score   support\n",
            "\n",
            "           0       0.44      0.90      0.59        21\n",
            "           1       0.98      0.82      0.89       133\n",
            "\n",
            "    accuracy                           0.83       154\n",
            "   macro avg       0.71      0.86      0.74       154\n",
            "weighted avg       0.91      0.83      0.85       154\n",
            "\n",
            "KNeighborsClassifier:  0.8311688311688312\n"
          ]
        }
      ]
    },
    {
      "cell_type": "code",
      "source": [
        "Model7 = GaussianNB()\n",
        "Model7.fit(X_train,y_train)\n",
        "y_pred = Model7.predict(X_test)\n",
        "print(classification_report(y_pred,y_test))\n",
        "print(\"GaussianNB: \",accuracy_score(y_pred,y_test))"
      ],
      "metadata": {
        "colab": {
          "base_uri": "https://localhost:8080/"
        },
        "id": "hPNgg3qJ-EUi",
        "outputId": "b087077a-13c2-455d-975a-fd63d5e2274e"
      },
      "execution_count": null,
      "outputs": [
        {
          "output_type": "stream",
          "name": "stdout",
          "text": [
            "              precision    recall  f1-score   support\n",
            "\n",
            "           0       0.44      0.90      0.59        21\n",
            "           1       0.98      0.82      0.89       133\n",
            "\n",
            "    accuracy                           0.83       154\n",
            "   macro avg       0.71      0.86      0.74       154\n",
            "weighted avg       0.91      0.83      0.85       154\n",
            "\n",
            "GaussianNB:  0.8311688311688312\n"
          ]
        }
      ]
    },
    {
      "cell_type": "code",
      "source": [
        "Model8 = LogisticRegression(C=1.0, class_weight=None, dual=False, fit_intercept=True,intercept_scaling=1, max_iter=100, multi_class='ovr', n_jobs=1,penalty='l2', random_state=None, solver='liblinear', tol=0.0001,verbose=0, warm_start=False)\n",
        "Model8.fit(X_train,y_train)\n",
        "y_pred = Model8.predict(X_test)\n",
        "print(classification_report(y_pred,y_test))\n",
        "print(\"Logistic Regression: \",accuracy_score(y_pred,y_test))"
      ],
      "metadata": {
        "colab": {
          "base_uri": "https://localhost:8080/"
        },
        "id": "yq-KQZ4m-GKC",
        "outputId": "8362f65f-460b-4367-868a-27a127fffb91"
      },
      "execution_count": null,
      "outputs": [
        {
          "output_type": "stream",
          "name": "stdout",
          "text": [
            "              precision    recall  f1-score   support\n",
            "\n",
            "           0       0.44      0.90      0.59        21\n",
            "           1       0.98      0.82      0.89       133\n",
            "\n",
            "    accuracy                           0.83       154\n",
            "   macro avg       0.71      0.86      0.74       154\n",
            "weighted avg       0.91      0.83      0.85       154\n",
            "\n",
            "Logistic Regression:  0.8311688311688312\n"
          ]
        }
      ]
    },
    {
      "cell_type": "markdown",
      "source": [
        "## Tuning Support Vector Machine Parameters"
      ],
      "metadata": {
        "id": "799WRibx_b6V"
      }
    },
    {
      "cell_type": "code",
      "source": [
        "X = new_data.drop([\"Loan_Status\",\"Loan_ID\"],axis=1)\n",
        "y = new_data.Loan_Status"
      ],
      "metadata": {
        "id": "ewXSGH0H_fym"
      },
      "execution_count": null,
      "outputs": []
    },
    {
      "cell_type": "code",
      "source": [
        "X_train , X_test , y_train , y_test = train_test_split(X,y,test_size=0.25,random_state=0)"
      ],
      "metadata": {
        "id": "1MzhK15p_k8G"
      },
      "execution_count": null,
      "outputs": []
    },
    {
      "cell_type": "code",
      "source": [
        "model = SVC()\n",
        "kernel = ['poly', 'rbf', 'sigmoid']\n",
        "C = [50, 10, 1.0, 0.1, 0.01]\n",
        "gamma = ['scale']"
      ],
      "metadata": {
        "id": "R8HVkbuj_nBU"
      },
      "execution_count": null,
      "outputs": []
    },
    {
      "cell_type": "code",
      "source": [
        "grid = dict(kernel=kernel,C=C,gamma=gamma)\n",
        "cv = RepeatedStratifiedKFold(n_splits=10, n_repeats=3, random_state=1)\n",
        "grid_search = GridSearchCV(estimator=model, param_grid=grid, n_jobs=-1, cv=cv, scoring='accuracy',error_score=0)\n",
        "grid_result = grid_search.fit(X, y)"
      ],
      "metadata": {
        "id": "zlrFWxQb_qCc"
      },
      "execution_count": null,
      "outputs": []
    },
    {
      "cell_type": "code",
      "source": [
        "print(\"Best: %f using %s\" % (grid_result.best_score_, grid_result.best_params_))\n",
        "means = grid_result.cv_results_['mean_test_score']\n",
        "stds = grid_result.cv_results_['std_test_score']\n",
        "params = grid_result.cv_results_['params']\n",
        "for mean, stdev, param in zip(means, stds, params):\n",
        "    print(\"%f (%f) with: %r\" % (mean, stdev, param))"
      ],
      "metadata": {
        "colab": {
          "base_uri": "https://localhost:8080/"
        },
        "id": "vM9_mxIb_u12",
        "outputId": "976e2566-52ed-4bc4-e252-25b0254fc4b4"
      },
      "execution_count": null,
      "outputs": [
        {
          "output_type": "stream",
          "name": "stdout",
          "text": [
            "Best: 0.689468 using {'C': 50, 'gamma': 'scale', 'kernel': 'rbf'}\n",
            "0.687308 (0.005314) with: {'C': 50, 'gamma': 'scale', 'kernel': 'poly'}\n",
            "0.689468 (0.016542) with: {'C': 50, 'gamma': 'scale', 'kernel': 'rbf'}\n",
            "0.686215 (0.027277) with: {'C': 50, 'gamma': 'scale', 'kernel': 'sigmoid'}\n",
            "0.687308 (0.005314) with: {'C': 10, 'gamma': 'scale', 'kernel': 'poly'}\n",
            "0.682434 (0.009840) with: {'C': 10, 'gamma': 'scale', 'kernel': 'rbf'}\n",
            "0.687308 (0.026685) with: {'C': 10, 'gamma': 'scale', 'kernel': 'sigmoid'}\n",
            "0.687308 (0.005314) with: {'C': 1.0, 'gamma': 'scale', 'kernel': 'poly'}\n",
            "0.687308 (0.005314) with: {'C': 1.0, 'gamma': 'scale', 'kernel': 'rbf'}\n",
            "0.687308 (0.005314) with: {'C': 1.0, 'gamma': 'scale', 'kernel': 'sigmoid'}\n",
            "0.687308 (0.005314) with: {'C': 0.1, 'gamma': 'scale', 'kernel': 'poly'}\n",
            "0.687308 (0.005314) with: {'C': 0.1, 'gamma': 'scale', 'kernel': 'rbf'}\n",
            "0.687308 (0.005314) with: {'C': 0.1, 'gamma': 'scale', 'kernel': 'sigmoid'}\n",
            "0.687308 (0.005314) with: {'C': 0.01, 'gamma': 'scale', 'kernel': 'poly'}\n",
            "0.687308 (0.005314) with: {'C': 0.01, 'gamma': 'scale', 'kernel': 'rbf'}\n",
            "0.687308 (0.005314) with: {'C': 0.01, 'gamma': 'scale', 'kernel': 'sigmoid'}\n"
          ]
        }
      ]
    },
    {
      "cell_type": "markdown",
      "source": [
        "## Final Conclusion     \n",
        "\n",
        "\n",
        "### Experiment 1 : Scaled data only\n",
        "\n",
        "| Algorithm :                  |       Accuracy   |\n",
        "|------------------------------|----------------- |\n",
        "| Support Vector Machine       |       83.116     |\n",
        "| Decision Tree                |       83.1168    |\n",
        "| Linear Discriminant Analysis |       83.166     |\n",
        "| KNearest Neighbors           |       83.766     |\n",
        "| Gaussian Naivey Bayes        |       83.116     |\n",
        "| Logistic Regression          |       83.116     |\n",
        "\n",
        "### Experiment 2: Scaled + Down Sampled Data\n",
        "\n",
        "| Algorithm :                  |       Accuracy   |\n",
        "|------------------------------|----------------- |\n",
        "| AdaBoost                     |       75         | \n",
        "| Decision Tree                |       72.91      |\n",
        "| Support Vector Machine       |       70.8       |\n",
        "\n",
        "\n",
        "\n",
        "### Experiment 3: Scaled + Up Sampled Data\n",
        "\n",
        "| Algorithm :                  |       Accuracy   |\n",
        "|------------------------------|----------------- |\n",
        "| Random Forest                |       81.99      |\n",
        "\n",
        "### Experiment 4: Scaled + Selected features with respective importance\n",
        "\n",
        "| Algorithm :                  |       Accuracy   |\n",
        "|------------------------------|----------------- |\n",
        "| Support Vector Machine       |       83.11      |\n",
        "| Decision Tree                |       83.11      |\n",
        "| Adabost                      |       82.46      |\n",
        "| Linear Discriminant Analysis |       83.11      |\n",
        "| KNearest Neighbors           |       83.11      |\n",
        "| Logistic Regression          |       83.11      |\n",
        "\n"
      ],
      "metadata": {
        "id": "-NdXuoV8ACCj"
      }
    },
    {
      "cell_type": "markdown",
      "source": [
        "After all possible experiments Maximum accuracy is achieved by Scaled Data by K-Nearest Neighbors"
      ],
      "metadata": {
        "id": "AhhLS-T3GT8u"
      }
    },
    {
      "cell_type": "markdown",
      "source": [
        "# Pickeling the Model\n",
        "\n"
      ],
      "metadata": {
        "id": "YYKjWvsuMZFD"
      }
    },
    {
      "cell_type": "code",
      "source": [
        "new_data = df.copy()"
      ],
      "metadata": {
        "id": "ao7qZwwXMQB0"
      },
      "execution_count": null,
      "outputs": []
    },
    {
      "cell_type": "code",
      "source": [
        "new_data.head()"
      ],
      "metadata": {
        "colab": {
          "base_uri": "https://localhost:8080/",
          "height": 197
        },
        "id": "wAWag7SFMSWA",
        "outputId": "a6f121f5-8017-4faf-988b-f2c377b03541"
      },
      "execution_count": null,
      "outputs": [
        {
          "output_type": "execute_result",
          "data": {
            "text/plain": [
              "    Loan_ID  Gender  Married  Dependents  Education  Self_Employed  \\\n",
              "0  LP001002       1        0           0          0              0   \n",
              "1  LP001003       1        1           1          0              0   \n",
              "2  LP001005       1        1           0          0              1   \n",
              "3  LP001006       1        1           0          1              0   \n",
              "4  LP001008       1        0           0          0              0   \n",
              "\n",
              "   ApplicantIncome  CoapplicantIncome  LoanAmount  Loan_Amount_Term  \\\n",
              "0         8.674026           0.000000    4.986426             360.0   \n",
              "1         8.430109           7.318540    4.852030             360.0   \n",
              "2         8.006368           0.000000    4.189655             360.0   \n",
              "3         7.856707           7.765569    4.787492             360.0   \n",
              "4         8.699515           0.000000    4.948760             360.0   \n",
              "\n",
              "   Credit_History  Property_Area  Loan_Status  \n",
              "0             1.0              2            1  \n",
              "1             1.0              0            0  \n",
              "2             1.0              2            1  \n",
              "3             1.0              2            1  \n",
              "4             1.0              2            1  "
            ],
            "text/html": [
              "\n",
              "  <div id=\"df-04b2dc65-cf95-425b-a359-d59fa580563d\">\n",
              "    <div class=\"colab-df-container\">\n",
              "      <div>\n",
              "<style scoped>\n",
              "    .dataframe tbody tr th:only-of-type {\n",
              "        vertical-align: middle;\n",
              "    }\n",
              "\n",
              "    .dataframe tbody tr th {\n",
              "        vertical-align: top;\n",
              "    }\n",
              "\n",
              "    .dataframe thead th {\n",
              "        text-align: right;\n",
              "    }\n",
              "</style>\n",
              "<table border=\"1\" class=\"dataframe\">\n",
              "  <thead>\n",
              "    <tr style=\"text-align: right;\">\n",
              "      <th></th>\n",
              "      <th>Loan_ID</th>\n",
              "      <th>Gender</th>\n",
              "      <th>Married</th>\n",
              "      <th>Dependents</th>\n",
              "      <th>Education</th>\n",
              "      <th>Self_Employed</th>\n",
              "      <th>ApplicantIncome</th>\n",
              "      <th>CoapplicantIncome</th>\n",
              "      <th>LoanAmount</th>\n",
              "      <th>Loan_Amount_Term</th>\n",
              "      <th>Credit_History</th>\n",
              "      <th>Property_Area</th>\n",
              "      <th>Loan_Status</th>\n",
              "    </tr>\n",
              "  </thead>\n",
              "  <tbody>\n",
              "    <tr>\n",
              "      <th>0</th>\n",
              "      <td>LP001002</td>\n",
              "      <td>1</td>\n",
              "      <td>0</td>\n",
              "      <td>0</td>\n",
              "      <td>0</td>\n",
              "      <td>0</td>\n",
              "      <td>8.674026</td>\n",
              "      <td>0.000000</td>\n",
              "      <td>4.986426</td>\n",
              "      <td>360.0</td>\n",
              "      <td>1.0</td>\n",
              "      <td>2</td>\n",
              "      <td>1</td>\n",
              "    </tr>\n",
              "    <tr>\n",
              "      <th>1</th>\n",
              "      <td>LP001003</td>\n",
              "      <td>1</td>\n",
              "      <td>1</td>\n",
              "      <td>1</td>\n",
              "      <td>0</td>\n",
              "      <td>0</td>\n",
              "      <td>8.430109</td>\n",
              "      <td>7.318540</td>\n",
              "      <td>4.852030</td>\n",
              "      <td>360.0</td>\n",
              "      <td>1.0</td>\n",
              "      <td>0</td>\n",
              "      <td>0</td>\n",
              "    </tr>\n",
              "    <tr>\n",
              "      <th>2</th>\n",
              "      <td>LP001005</td>\n",
              "      <td>1</td>\n",
              "      <td>1</td>\n",
              "      <td>0</td>\n",
              "      <td>0</td>\n",
              "      <td>1</td>\n",
              "      <td>8.006368</td>\n",
              "      <td>0.000000</td>\n",
              "      <td>4.189655</td>\n",
              "      <td>360.0</td>\n",
              "      <td>1.0</td>\n",
              "      <td>2</td>\n",
              "      <td>1</td>\n",
              "    </tr>\n",
              "    <tr>\n",
              "      <th>3</th>\n",
              "      <td>LP001006</td>\n",
              "      <td>1</td>\n",
              "      <td>1</td>\n",
              "      <td>0</td>\n",
              "      <td>1</td>\n",
              "      <td>0</td>\n",
              "      <td>7.856707</td>\n",
              "      <td>7.765569</td>\n",
              "      <td>4.787492</td>\n",
              "      <td>360.0</td>\n",
              "      <td>1.0</td>\n",
              "      <td>2</td>\n",
              "      <td>1</td>\n",
              "    </tr>\n",
              "    <tr>\n",
              "      <th>4</th>\n",
              "      <td>LP001008</td>\n",
              "      <td>1</td>\n",
              "      <td>0</td>\n",
              "      <td>0</td>\n",
              "      <td>0</td>\n",
              "      <td>0</td>\n",
              "      <td>8.699515</td>\n",
              "      <td>0.000000</td>\n",
              "      <td>4.948760</td>\n",
              "      <td>360.0</td>\n",
              "      <td>1.0</td>\n",
              "      <td>2</td>\n",
              "      <td>1</td>\n",
              "    </tr>\n",
              "  </tbody>\n",
              "</table>\n",
              "</div>\n",
              "      <button class=\"colab-df-convert\" onclick=\"convertToInteractive('df-04b2dc65-cf95-425b-a359-d59fa580563d')\"\n",
              "              title=\"Convert this dataframe to an interactive table.\"\n",
              "              style=\"display:none;\">\n",
              "        \n",
              "  <svg xmlns=\"http://www.w3.org/2000/svg\" height=\"24px\"viewBox=\"0 0 24 24\"\n",
              "       width=\"24px\">\n",
              "    <path d=\"M0 0h24v24H0V0z\" fill=\"none\"/>\n",
              "    <path d=\"M18.56 5.44l.94 2.06.94-2.06 2.06-.94-2.06-.94-.94-2.06-.94 2.06-2.06.94zm-11 1L8.5 8.5l.94-2.06 2.06-.94-2.06-.94L8.5 2.5l-.94 2.06-2.06.94zm10 10l.94 2.06.94-2.06 2.06-.94-2.06-.94-.94-2.06-.94 2.06-2.06.94z\"/><path d=\"M17.41 7.96l-1.37-1.37c-.4-.4-.92-.59-1.43-.59-.52 0-1.04.2-1.43.59L10.3 9.45l-7.72 7.72c-.78.78-.78 2.05 0 2.83L4 21.41c.39.39.9.59 1.41.59.51 0 1.02-.2 1.41-.59l7.78-7.78 2.81-2.81c.8-.78.8-2.07 0-2.86zM5.41 20L4 18.59l7.72-7.72 1.47 1.35L5.41 20z\"/>\n",
              "  </svg>\n",
              "      </button>\n",
              "      \n",
              "  <style>\n",
              "    .colab-df-container {\n",
              "      display:flex;\n",
              "      flex-wrap:wrap;\n",
              "      gap: 12px;\n",
              "    }\n",
              "\n",
              "    .colab-df-convert {\n",
              "      background-color: #E8F0FE;\n",
              "      border: none;\n",
              "      border-radius: 50%;\n",
              "      cursor: pointer;\n",
              "      display: none;\n",
              "      fill: #1967D2;\n",
              "      height: 32px;\n",
              "      padding: 0 0 0 0;\n",
              "      width: 32px;\n",
              "    }\n",
              "\n",
              "    .colab-df-convert:hover {\n",
              "      background-color: #E2EBFA;\n",
              "      box-shadow: 0px 1px 2px rgba(60, 64, 67, 0.3), 0px 1px 3px 1px rgba(60, 64, 67, 0.15);\n",
              "      fill: #174EA6;\n",
              "    }\n",
              "\n",
              "    [theme=dark] .colab-df-convert {\n",
              "      background-color: #3B4455;\n",
              "      fill: #D2E3FC;\n",
              "    }\n",
              "\n",
              "    [theme=dark] .colab-df-convert:hover {\n",
              "      background-color: #434B5C;\n",
              "      box-shadow: 0px 1px 3px 1px rgba(0, 0, 0, 0.15);\n",
              "      filter: drop-shadow(0px 1px 2px rgba(0, 0, 0, 0.3));\n",
              "      fill: #FFFFFF;\n",
              "    }\n",
              "  </style>\n",
              "\n",
              "      <script>\n",
              "        const buttonEl =\n",
              "          document.querySelector('#df-04b2dc65-cf95-425b-a359-d59fa580563d button.colab-df-convert');\n",
              "        buttonEl.style.display =\n",
              "          google.colab.kernel.accessAllowed ? 'block' : 'none';\n",
              "\n",
              "        async function convertToInteractive(key) {\n",
              "          const element = document.querySelector('#df-04b2dc65-cf95-425b-a359-d59fa580563d');\n",
              "          const dataTable =\n",
              "            await google.colab.kernel.invokeFunction('convertToInteractive',\n",
              "                                                     [key], {});\n",
              "          if (!dataTable) return;\n",
              "\n",
              "          const docLinkHtml = 'Like what you see? Visit the ' +\n",
              "            '<a target=\"_blank\" href=https://colab.research.google.com/notebooks/data_table.ipynb>data table notebook</a>'\n",
              "            + ' to learn more about interactive tables.';\n",
              "          element.innerHTML = '';\n",
              "          dataTable['output_type'] = 'display_data';\n",
              "          await google.colab.output.renderOutput(dataTable, element);\n",
              "          const docLink = document.createElement('div');\n",
              "          docLink.innerHTML = docLinkHtml;\n",
              "          element.appendChild(docLink);\n",
              "        }\n",
              "      </script>\n",
              "    </div>\n",
              "  </div>\n",
              "  "
            ],
            "application/vnd.google.colaboratory.module+javascript": "\n      import \"https://ssl.gstatic.com/colaboratory/data_table/f872b2c2305463fd/data_table.js\";\n\n      window.createDataTable({\n        data: [[{\n            'v': 0,\n            'f': \"0\",\n        },\n\"LP001002\",\n{\n            'v': 1,\n            'f': \"1\",\n        },\n{\n            'v': 0,\n            'f': \"0\",\n        },\n{\n            'v': 0,\n            'f': \"0\",\n        },\n{\n            'v': 0,\n            'f': \"0\",\n        },\n{\n            'v': 0,\n            'f': \"0\",\n        },\n{\n            'v': 8.674025985443025,\n            'f': \"8.674025985443025\",\n        },\n{\n            'v': 0.0,\n            'f': \"0.0\",\n        },\n{\n            'v': 4.986425672954842,\n            'f': \"4.986425672954842\",\n        },\n{\n            'v': 360.0,\n            'f': \"360.0\",\n        },\n{\n            'v': 1.0,\n            'f': \"1.0\",\n        },\n{\n            'v': 2,\n            'f': \"2\",\n        },\n{\n            'v': 1,\n            'f': \"1\",\n        }],\n [{\n            'v': 1,\n            'f': \"1\",\n        },\n\"LP001003\",\n{\n            'v': 1,\n            'f': \"1\",\n        },\n{\n            'v': 1,\n            'f': \"1\",\n        },\n{\n            'v': 1,\n            'f': \"1\",\n        },\n{\n            'v': 0,\n            'f': \"0\",\n        },\n{\n            'v': 0,\n            'f': \"0\",\n        },\n{\n            'v': 8.430109084509125,\n            'f': \"8.430109084509125\",\n        },\n{\n            'v': 7.318539548567902,\n            'f': \"7.318539548567902\",\n        },\n{\n            'v': 4.852030263919617,\n            'f': \"4.852030263919617\",\n        },\n{\n            'v': 360.0,\n            'f': \"360.0\",\n        },\n{\n            'v': 1.0,\n            'f': \"1.0\",\n        },\n{\n            'v': 0,\n            'f': \"0\",\n        },\n{\n            'v': 0,\n            'f': \"0\",\n        }],\n [{\n            'v': 2,\n            'f': \"2\",\n        },\n\"LP001005\",\n{\n            'v': 1,\n            'f': \"1\",\n        },\n{\n            'v': 1,\n            'f': \"1\",\n        },\n{\n            'v': 0,\n            'f': \"0\",\n        },\n{\n            'v': 0,\n            'f': \"0\",\n        },\n{\n            'v': 1,\n            'f': \"1\",\n        },\n{\n            'v': 8.006367567650246,\n            'f': \"8.006367567650246\",\n        },\n{\n            'v': 0.0,\n            'f': \"0.0\",\n        },\n{\n            'v': 4.189654742026425,\n            'f': \"4.189654742026425\",\n        },\n{\n            'v': 360.0,\n            'f': \"360.0\",\n        },\n{\n            'v': 1.0,\n            'f': \"1.0\",\n        },\n{\n            'v': 2,\n            'f': \"2\",\n        },\n{\n            'v': 1,\n            'f': \"1\",\n        }],\n [{\n            'v': 3,\n            'f': \"3\",\n        },\n\"LP001006\",\n{\n            'v': 1,\n            'f': \"1\",\n        },\n{\n            'v': 1,\n            'f': \"1\",\n        },\n{\n            'v': 0,\n            'f': \"0\",\n        },\n{\n            'v': 1,\n            'f': \"1\",\n        },\n{\n            'v': 0,\n            'f': \"0\",\n        },\n{\n            'v': 7.8567067930958405,\n            'f': \"7.8567067930958405\",\n        },\n{\n            'v': 7.765569081097317,\n            'f': \"7.765569081097317\",\n        },\n{\n            'v': 4.787491742782046,\n            'f': \"4.787491742782046\",\n        },\n{\n            'v': 360.0,\n            'f': \"360.0\",\n        },\n{\n            'v': 1.0,\n            'f': \"1.0\",\n        },\n{\n            'v': 2,\n            'f': \"2\",\n        },\n{\n            'v': 1,\n            'f': \"1\",\n        }],\n [{\n            'v': 4,\n            'f': \"4\",\n        },\n\"LP001008\",\n{\n            'v': 1,\n            'f': \"1\",\n        },\n{\n            'v': 0,\n            'f': \"0\",\n        },\n{\n            'v': 0,\n            'f': \"0\",\n        },\n{\n            'v': 0,\n            'f': \"0\",\n        },\n{\n            'v': 0,\n            'f': \"0\",\n        },\n{\n            'v': 8.699514748210191,\n            'f': \"8.699514748210191\",\n        },\n{\n            'v': 0.0,\n            'f': \"0.0\",\n        },\n{\n            'v': 4.948759890378168,\n            'f': \"4.948759890378168\",\n        },\n{\n            'v': 360.0,\n            'f': \"360.0\",\n        },\n{\n            'v': 1.0,\n            'f': \"1.0\",\n        },\n{\n            'v': 2,\n            'f': \"2\",\n        },\n{\n            'v': 1,\n            'f': \"1\",\n        }]],\n        columns: [[\"number\", \"index\"], [\"string\", \"Loan_ID\"], [\"number\", \"Gender\"], [\"number\", \"Married\"], [\"number\", \"Dependents\"], [\"number\", \"Education\"], [\"number\", \"Self_Employed\"], [\"number\", \"ApplicantIncome\"], [\"number\", \"CoapplicantIncome\"], [\"number\", \"LoanAmount\"], [\"number\", \"Loan_Amount_Term\"], [\"number\", \"Credit_History\"], [\"number\", \"Property_Area\"], [\"number\", \"Loan_Status\"]],\n        columnOptions: [{\"width\": \"1px\", \"className\": \"index_column\"}],\n        rowsPerPage: 25,\n        helpUrl: \"https://colab.research.google.com/notebooks/data_table.ipynb\",\n        suppressOutputScrolling: true,\n        minimumWidth: undefined,\n      });\n    "
          },
          "metadata": {},
          "execution_count": 107
        }
      ]
    },
    {
      "cell_type": "code",
      "source": [
        "X = new_data.drop([\"Loan_Status\",\"Loan_ID\"],axis=1)\n",
        "y = new_data[\"Loan_Status\"]"
      ],
      "metadata": {
        "id": "aEZXhHr2L-FB"
      },
      "execution_count": null,
      "outputs": []
    },
    {
      "cell_type": "code",
      "source": [
        "X_train , X_test , y_train , y_test = train_test_split(X,y,test_size=0.25,random_state=0)"
      ],
      "metadata": {
        "id": "UU8eBFjRMHmt"
      },
      "execution_count": null,
      "outputs": []
    },
    {
      "cell_type": "code",
      "source": [
        "#Scaling data \n",
        "\n",
        "StSc = StandardScaler()\n",
        "X_train  = StSc.fit_transform(X_train)\n",
        "X_test  = StSc.fit_transform(X_test)"
      ],
      "metadata": {
        "id": "BE-xuo6OMPB6"
      },
      "execution_count": null,
      "outputs": []
    },
    {
      "cell_type": "code",
      "source": [
        "best_Loan_model = KNeighborsClassifier(leaf_size=1,p=2,n_neighbors=20)\n",
        "best_Loan_model.fit(X_train,y_train)\n",
        "y_pred = best_Loan_model.predict(X_test)\n",
        "print(classification_report(y_pred,y_test))\n",
        "print(\"KNeighborsClassifier: \",accuracy_score(y_pred,y_test))"
      ],
      "metadata": {
        "colab": {
          "base_uri": "https://localhost:8080/"
        },
        "id": "-KM0uwHQLuUt",
        "outputId": "24a88d29-e15d-4020-b07e-51694f3f8665"
      },
      "execution_count": null,
      "outputs": [
        {
          "output_type": "stream",
          "name": "stdout",
          "text": [
            "              precision    recall  f1-score   support\n",
            "\n",
            "           0       0.47      0.91      0.62        22\n",
            "           1       0.98      0.83      0.90       132\n",
            "\n",
            "    accuracy                           0.84       154\n",
            "   macro avg       0.72      0.87      0.76       154\n",
            "weighted avg       0.91      0.84      0.86       154\n",
            "\n",
            "KNeighborsClassifier:  0.8376623376623377\n"
          ]
        }
      ]
    },
    {
      "cell_type": "code",
      "source": [
        "import pickle\n",
        "with open('loan_application.pickle','wb') as f:\n",
        "    pickle.dump(best_Loan_model,f)"
      ],
      "metadata": {
        "id": "OEcKeM3UJy6m"
      },
      "execution_count": null,
      "outputs": []
    },
    {
      "cell_type": "code",
      "source": [
        "import json\n",
        "columns = {\n",
        "    'data_columns' : [col.lower() for col in X.columns]\n",
        "}\n",
        "with open(\"columns.json\",\"w\") as f:\n",
        "    f.write(json.dumps(columns))"
      ],
      "metadata": {
        "id": "Hnk_FWRwMuNa"
      },
      "execution_count": null,
      "outputs": []
    },
    {
      "cell_type": "code",
      "source": [
        "X.columns"
      ],
      "metadata": {
        "colab": {
          "base_uri": "https://localhost:8080/"
        },
        "id": "-Z7ragZXNRiP",
        "outputId": "85665306-edf1-4f5a-9927-12329d5c2dad"
      },
      "execution_count": null,
      "outputs": [
        {
          "output_type": "execute_result",
          "data": {
            "text/plain": [
              "Index(['Gender', 'Married', 'Dependents', 'Education', 'Self_Employed',\n",
              "       'ApplicantIncome', 'CoapplicantIncome', 'LoanAmount',\n",
              "       'Loan_Amount_Term', 'Credit_History', 'Property_Area'],\n",
              "      dtype='object')"
            ]
          },
          "metadata": {},
          "execution_count": 114
        }
      ]
    },
    {
      "cell_type": "code",
      "source": [
        "def predict_loan_appl(LoanAmount, Loan_Amount_Term, Gender, Married, Dependents, Education, Self_Employed, \n",
        "                      Credit_History, Property_Area, ApplicantIncome=0, CoapplicantIncome=0):\n",
        "    \n",
        "    # Get medians of loanamount and loan_amount_term, while re-training and assign to below 2 variables.\n",
        "    median_loanamount=126\n",
        "    median_loan_amount_term=360\n",
        "        \n",
        "    LoanAmount= LoanAmount or median_loanamount\n",
        "    Loan_Amount_Term = Loan_Amount_Term or median_loan_amount_term\n",
        "    \n",
        "    # All categorical features are defaulted to 'else' if there is NULL. Make sure Mode of each feature falls in 'ELSE' part.\n",
        "    if Gender=='Female':\n",
        "        g =0\n",
        "    else:\n",
        "        g =1\n",
        "    if Married=='No':\n",
        "        m =0\n",
        "    else:\n",
        "        m =1\n",
        "\n",
        "    dep=Dependents\n",
        "    if dep=='1':\n",
        "        dp = 1\n",
        "    elif dep=='2':\n",
        "        dp =2\n",
        "    elif dep=='3+':\n",
        "        dp =3\n",
        "    else:\n",
        "      dp = 0 \n",
        "    \n",
        "    if Education=='Not Graduate':\n",
        "        e =0\n",
        "    else:\n",
        "        e =1\n",
        "    \n",
        "    if Self_Employed=='Yes':\n",
        "        se =1\n",
        "    else:\n",
        "        se =0\n",
        "\n",
        "    if Credit_History=='0':\n",
        "        ch = 0\n",
        "    else:\n",
        "        ch = 1\n",
        "    \n",
        "    prop_area=Property_Area\n",
        "    if prop_area=='Rural':\n",
        "        pa = 0\n",
        "    elif prop_area=='Urban':\n",
        "        pa = 2\n",
        "    else:\n",
        "        pa = 1\n",
        "        \n",
        "    x = np.zeros(len(X.columns))\n",
        "    x[0] = g\n",
        "    x[1] = m\n",
        "    x[2] = dp\n",
        "    x[3] = e\n",
        "    x[4] = se\n",
        "    x[5] = 0\n",
        "    x[6] = 0\n",
        "    x[7] = LoanAmount\n",
        "    x[8] = Loan_Amount_Term\n",
        "    x[9] = ch\n",
        "    x[10] = pa\n",
        "    \n",
        "    return best_Loan_model.predict([x])[0]\n"
      ],
      "metadata": {
        "id": "gflX3wk5NbhY"
      },
      "execution_count": null,
      "outputs": []
    },
    {
      "cell_type": "code",
      "source": [
        "predict_loan_appl(115, 30, 'Female', \"No\", '3+', 'Graduate', 'No', 'NAN', 'Urban')"
      ],
      "metadata": {
        "colab": {
          "base_uri": "https://localhost:8080/"
        },
        "id": "J-XBagE1N3yX",
        "outputId": "f57f0ad2-ee49-4582-de2d-fd8137799f07"
      },
      "execution_count": null,
      "outputs": [
        {
          "output_type": "execute_result",
          "data": {
            "text/plain": [
              "1"
            ]
          },
          "metadata": {},
          "execution_count": 116
        }
      ]
    },
    {
      "cell_type": "code",
      "source": [
        "predict_loan_appl(115, 30, 'Female', \"No\", '3+', 'Graduate', 'No', 'NAN', 'Urban')"
      ],
      "metadata": {
        "colab": {
          "base_uri": "https://localhost:8080/"
        },
        "id": "eWMiDFJYfZ4y",
        "outputId": "41f570a5-3fae-4f01-be2c-31aa21cc42af"
      },
      "execution_count": null,
      "outputs": [
        {
          "output_type": "execute_result",
          "data": {
            "text/plain": [
              "1"
            ]
          },
          "metadata": {},
          "execution_count": 117
        }
      ]
    }
  ]
}